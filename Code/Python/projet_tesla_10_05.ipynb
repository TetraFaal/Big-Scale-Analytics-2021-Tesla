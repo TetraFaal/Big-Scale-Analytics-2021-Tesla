{
  "nbformat": 4,
  "nbformat_minor": 0,
  "metadata": {
    "colab": {
      "name": "projet tesla.ipynb",
      "provenance": [],
      "collapsed_sections": [],
      "toc_visible": true
    },
    "kernelspec": {
      "display_name": "Python 3",
      "name": "python3"
    },
    "language_info": {
      "name": "python"
    }
  },
  "cells": [
    {
      "cell_type": "code",
      "metadata": {
        "colab": {
          "base_uri": "https://localhost:8080/"
        },
        "id": "eVruldSbA3F-",
        "outputId": "d28da909-850b-467e-e5ae-875fcf934c4e"
      },
      "source": [
        "!python -m spacy download fr_core_news_sm"
      ],
      "execution_count": 1,
      "outputs": [
        {
          "output_type": "stream",
          "text": [
            "Requirement already satisfied: fr_core_news_sm==2.2.5 from https://github.com/explosion/spacy-models/releases/download/fr_core_news_sm-2.2.5/fr_core_news_sm-2.2.5.tar.gz#egg=fr_core_news_sm==2.2.5 in /usr/local/lib/python3.7/dist-packages (2.2.5)\n",
            "Requirement already satisfied: spacy>=2.2.2 in /usr/local/lib/python3.7/dist-packages (from fr_core_news_sm==2.2.5) (2.2.4)\n",
            "Requirement already satisfied: wasabi<1.1.0,>=0.4.0 in /usr/local/lib/python3.7/dist-packages (from spacy>=2.2.2->fr_core_news_sm==2.2.5) (0.8.2)\n",
            "Requirement already satisfied: cymem<2.1.0,>=2.0.2 in /usr/local/lib/python3.7/dist-packages (from spacy>=2.2.2->fr_core_news_sm==2.2.5) (2.0.5)\n",
            "Requirement already satisfied: requests<3.0.0,>=2.13.0 in /usr/local/lib/python3.7/dist-packages (from spacy>=2.2.2->fr_core_news_sm==2.2.5) (2.23.0)\n",
            "Requirement already satisfied: plac<1.2.0,>=0.9.6 in /usr/local/lib/python3.7/dist-packages (from spacy>=2.2.2->fr_core_news_sm==2.2.5) (1.1.3)\n",
            "Requirement already satisfied: tqdm<5.0.0,>=4.38.0 in /usr/local/lib/python3.7/dist-packages (from spacy>=2.2.2->fr_core_news_sm==2.2.5) (4.41.1)\n",
            "Requirement already satisfied: thinc==7.4.0 in /usr/local/lib/python3.7/dist-packages (from spacy>=2.2.2->fr_core_news_sm==2.2.5) (7.4.0)\n",
            "Requirement already satisfied: numpy>=1.15.0 in /usr/local/lib/python3.7/dist-packages (from spacy>=2.2.2->fr_core_news_sm==2.2.5) (1.19.5)\n",
            "Requirement already satisfied: blis<0.5.0,>=0.4.0 in /usr/local/lib/python3.7/dist-packages (from spacy>=2.2.2->fr_core_news_sm==2.2.5) (0.4.1)\n",
            "Requirement already satisfied: catalogue<1.1.0,>=0.0.7 in /usr/local/lib/python3.7/dist-packages (from spacy>=2.2.2->fr_core_news_sm==2.2.5) (1.0.0)\n",
            "Requirement already satisfied: preshed<3.1.0,>=3.0.2 in /usr/local/lib/python3.7/dist-packages (from spacy>=2.2.2->fr_core_news_sm==2.2.5) (3.0.5)\n",
            "Requirement already satisfied: setuptools in /usr/local/lib/python3.7/dist-packages (from spacy>=2.2.2->fr_core_news_sm==2.2.5) (56.1.0)\n",
            "Requirement already satisfied: srsly<1.1.0,>=1.0.2 in /usr/local/lib/python3.7/dist-packages (from spacy>=2.2.2->fr_core_news_sm==2.2.5) (1.0.5)\n",
            "Requirement already satisfied: murmurhash<1.1.0,>=0.28.0 in /usr/local/lib/python3.7/dist-packages (from spacy>=2.2.2->fr_core_news_sm==2.2.5) (1.0.5)\n",
            "Requirement already satisfied: chardet<4,>=3.0.2 in /usr/local/lib/python3.7/dist-packages (from requests<3.0.0,>=2.13.0->spacy>=2.2.2->fr_core_news_sm==2.2.5) (3.0.4)\n",
            "Requirement already satisfied: urllib3!=1.25.0,!=1.25.1,<1.26,>=1.21.1 in /usr/local/lib/python3.7/dist-packages (from requests<3.0.0,>=2.13.0->spacy>=2.2.2->fr_core_news_sm==2.2.5) (1.24.3)\n",
            "Requirement already satisfied: certifi>=2017.4.17 in /usr/local/lib/python3.7/dist-packages (from requests<3.0.0,>=2.13.0->spacy>=2.2.2->fr_core_news_sm==2.2.5) (2020.12.5)\n",
            "Requirement already satisfied: idna<3,>=2.5 in /usr/local/lib/python3.7/dist-packages (from requests<3.0.0,>=2.13.0->spacy>=2.2.2->fr_core_news_sm==2.2.5) (2.10)\n",
            "Requirement already satisfied: importlib-metadata>=0.20; python_version < \"3.8\" in /usr/local/lib/python3.7/dist-packages (from catalogue<1.1.0,>=0.0.7->spacy>=2.2.2->fr_core_news_sm==2.2.5) (3.10.1)\n",
            "Requirement already satisfied: typing-extensions>=3.6.4; python_version < \"3.8\" in /usr/local/lib/python3.7/dist-packages (from importlib-metadata>=0.20; python_version < \"3.8\"->catalogue<1.1.0,>=0.0.7->spacy>=2.2.2->fr_core_news_sm==2.2.5) (3.7.4.3)\n",
            "Requirement already satisfied: zipp>=0.5 in /usr/local/lib/python3.7/dist-packages (from importlib-metadata>=0.20; python_version < \"3.8\"->catalogue<1.1.0,>=0.0.7->spacy>=2.2.2->fr_core_news_sm==2.2.5) (3.4.1)\n",
            "\u001b[38;5;2m✔ Download and installation successful\u001b[0m\n",
            "You can now load the model via spacy.load('fr_core_news_sm')\n"
          ],
          "name": "stdout"
        }
      ]
    },
    {
      "cell_type": "code",
      "metadata": {
        "id": "PnchSjQe5lMM"
      },
      "source": [
        "#Importing required packages\n",
        "import pandas as pd\n",
        "import seaborn as sns\n",
        "import nltk\n",
        "import matplotlib.pyplot as plt\n",
        "import spacy\n",
        "from spacy.lang.en.stop_words import STOP_WORDS\n",
        "from spacy.lang.en import English\n",
        "import numpy as np\n",
        "import gensim\n",
        "from sklearn import datasets\n",
        "from sklearn.base import TransformerMixin\n",
        "from sklearn.feature_extraction.text import TfidfVectorizer\n",
        "from sklearn.linear_model import LogisticRegression\n",
        "from sklearn.metrics import confusion_matrix, accuracy_score, precision_score, recall_score, f1_score\n",
        "from sklearn.model_selection import GridSearchCV\n",
        "from sklearn.pipeline import Pipeline\n",
        "from sklearn.preprocessing import LabelEncoder, OneHotEncoder, StandardScaler\n",
        "from sklearn.utils.multiclass import unique_labels\n",
        "import string"
      ],
      "execution_count": 2,
      "outputs": []
    },
    {
      "cell_type": "code",
      "metadata": {
        "colab": {
          "base_uri": "https://localhost:8080/"
        },
        "id": "BDYk2E-PlatK",
        "outputId": "074b5017-0e01-4734-eff7-964590c0cabe"
      },
      "source": [
        "nltk.download('punkt')"
      ],
      "execution_count": 3,
      "outputs": [
        {
          "output_type": "stream",
          "text": [
            "[nltk_data] Downloading package punkt to /root/nltk_data...\n",
            "[nltk_data]   Package punkt is already up-to-date!\n"
          ],
          "name": "stdout"
        },
        {
          "output_type": "execute_result",
          "data": {
            "text/plain": [
              "True"
            ]
          },
          "metadata": {
            "tags": []
          },
          "execution_count": 3
        }
      ]
    },
    {
      "cell_type": "code",
      "metadata": {
        "id": "SQL_XXku5oIm"
      },
      "source": [
        "#Import data\n",
        "def remove_punctuations(text):\n",
        "    for punctuation in string.punctuation:\n",
        "        text = text.replace(punctuation, '')\n",
        "    return text\n",
        "Sentences = \"https://raw.githubusercontent.com/TetraFaal/Big-Scale-Analytics-2021-Tesla/main/Data/Sentences-Tesla.csv\"\n",
        "Sentences = pd.read_csv(Sentences)\n",
        "Sentences[\"Text\"] = Sentences['Text'].apply(remove_punctuations)\n",
        "\n",
        "Cognates = \"https://raw.githubusercontent.com/TetraFaal/Big-Scale-Analytics-2021-Tesla/main/Data/Cognates.csv\"\n",
        "Cognates = pd.read_csv(Cognates)\n",
        "\n",
        "CognatesGlossary = \"https://raw.githubusercontent.com/TetraFaal/Big-Scale-Analytics-2021-Tesla/main/Data/glossaryCognates.csv\"\n",
        "CognatesGlossary = pd.read_csv(CognatesGlossary)\n"
      ],
      "execution_count": 4,
      "outputs": []
    },
    {
      "cell_type": "code",
      "metadata": {
        "colab": {
          "base_uri": "https://localhost:8080/",
          "height": 190
        },
        "id": "kEmmAx5U6P6l",
        "outputId": "697ee655-00b8-4824-d8b5-038dcfef17f6"
      },
      "source": [
        "Cognates.head()"
      ],
      "execution_count": 5,
      "outputs": [
        {
          "output_type": "execute_result",
          "data": {
            "text/html": [
              "<div>\n",
              "<style scoped>\n",
              "    .dataframe tbody tr th:only-of-type {\n",
              "        vertical-align: middle;\n",
              "    }\n",
              "\n",
              "    .dataframe tbody tr th {\n",
              "        vertical-align: top;\n",
              "    }\n",
              "\n",
              "    .dataframe thead th {\n",
              "        text-align: right;\n",
              "    }\n",
              "</style>\n",
              "<table border=\"1\" class=\"dataframe\">\n",
              "  <thead>\n",
              "    <tr style=\"text-align: right;\">\n",
              "      <th></th>\n",
              "      <th>Cognates</th>\n",
              "    </tr>\n",
              "  </thead>\n",
              "  <tbody>\n",
              "    <tr>\n",
              "      <th>0</th>\n",
              "      <td>abattoir</td>\n",
              "    </tr>\n",
              "    <tr>\n",
              "      <th>1</th>\n",
              "      <td>abdication</td>\n",
              "    </tr>\n",
              "    <tr>\n",
              "      <th>2</th>\n",
              "      <td>abdominal</td>\n",
              "    </tr>\n",
              "    <tr>\n",
              "      <th>3</th>\n",
              "      <td>aberrant</td>\n",
              "    </tr>\n",
              "    <tr>\n",
              "      <th>4</th>\n",
              "      <td>aberration</td>\n",
              "    </tr>\n",
              "  </tbody>\n",
              "</table>\n",
              "</div>"
            ],
            "text/plain": [
              "     Cognates\n",
              "0    abattoir\n",
              "1  abdication\n",
              "2   abdominal\n",
              "3    aberrant\n",
              "4  aberration"
            ]
          },
          "metadata": {
            "tags": []
          },
          "execution_count": 5
        }
      ]
    },
    {
      "cell_type": "code",
      "metadata": {
        "colab": {
          "base_uri": "https://localhost:8080/",
          "height": 190
        },
        "id": "qCJEL_UAv_BN",
        "outputId": "db0e37e9-70db-46a8-fedd-a60fbfb324e3"
      },
      "source": [
        "CognatesGlossary.head()"
      ],
      "execution_count": 6,
      "outputs": [
        {
          "output_type": "execute_result",
          "data": {
            "text/html": [
              "<div>\n",
              "<style scoped>\n",
              "    .dataframe tbody tr th:only-of-type {\n",
              "        vertical-align: middle;\n",
              "    }\n",
              "\n",
              "    .dataframe tbody tr th {\n",
              "        vertical-align: top;\n",
              "    }\n",
              "\n",
              "    .dataframe thead th {\n",
              "        text-align: right;\n",
              "    }\n",
              "</style>\n",
              "<table border=\"1\" class=\"dataframe\">\n",
              "  <thead>\n",
              "    <tr style=\"text-align: right;\">\n",
              "      <th></th>\n",
              "      <th>CognatesEN</th>\n",
              "      <th>CognatesFR</th>\n",
              "    </tr>\n",
              "  </thead>\n",
              "  <tbody>\n",
              "    <tr>\n",
              "      <th>0</th>\n",
              "      <td>absolutely</td>\n",
              "      <td>absolument</td>\n",
              "    </tr>\n",
              "    <tr>\n",
              "      <th>1</th>\n",
              "      <td>abundance</td>\n",
              "      <td>abondance</td>\n",
              "    </tr>\n",
              "    <tr>\n",
              "      <th>2</th>\n",
              "      <td>abuse</td>\n",
              "      <td>abuser</td>\n",
              "    </tr>\n",
              "    <tr>\n",
              "      <th>3</th>\n",
              "      <td>accelerate (to)</td>\n",
              "      <td>accélérer</td>\n",
              "    </tr>\n",
              "    <tr>\n",
              "      <th>4</th>\n",
              "      <td>accentuate (to)</td>\n",
              "      <td>accentuer</td>\n",
              "    </tr>\n",
              "  </tbody>\n",
              "</table>\n",
              "</div>"
            ],
            "text/plain": [
              "        CognatesEN  CognatesFR\n",
              "0       absolutely  absolument\n",
              "1        abundance   abondance\n",
              "2            abuse      abuser\n",
              "3  accelerate (to)   accélérer\n",
              "4  accentuate (to)   accentuer"
            ]
          },
          "metadata": {
            "tags": []
          },
          "execution_count": 6
        }
      ]
    },
    {
      "cell_type": "code",
      "metadata": {
        "colab": {
          "base_uri": "https://localhost:8080/"
        },
        "id": "v9fpKWV5wBP_",
        "outputId": "0fba2cfc-fcaa-4c2a-e6ac-8f10f22126ff"
      },
      "source": [
        "#Create a cognates list and delete duplicates\n",
        "ListCo = []\n",
        "for cognate  in CognatesGlossary.CognatesFR:\n",
        "  ListCo.append(cognate)\n",
        "for cognate  in Cognates.Cognates:\n",
        "  ListCo.append(cognate)\n",
        "ListCognates = list(set(ListCo))\n",
        "print(ListCognates)\n",
        "print(len(ListCognates))"
      ],
      "execution_count": 7,
      "outputs": [
        {
          "output_type": "stream",
          "text": [
            "['jockey', 'hibiscus', 'concave', 'job', 'millet', 'apartheid', 'macho', 'globe', 'partisan', 'photographie', 'implant', 'apparent', 'portable', 'base', 'passion', 'riche', 'racial', 'baptismal', 'suspension', 'panorama', 'tenable', 'immigrant', 'impression', 'adulte', 'migration', 'ovulation', 'silo', 'évidemment', 'iota', 'observation', 'tango', 'explicable', 'narration', 'instrumentation', 'inadmissible', 'partition', 'corruption', 'suggestion', 'diode', 'omnivore', 'spectacle', 'classifier', 'compact', 'aberrant', 'via', 'tact', 'vocal', 'substitution', 'mauve', 'horde', 'incarnation', 'prude', 'ozone \\xa0', 'shrapnel', 'solidification', 'harem', 'satin', 'accent', 'magnifique', 'collaboration', 'coagulation', 'divan', 'adorer', 'diamant', 'inséparable', 'cascade', 'incorrect', 'pH', 'testament', 'naval', 'admirable', 'constriction', 'oblong', 'cottage', 'difficulté', 'stimulation', 'recyclable', 'samba', 'ambivalent', 'leader', 'artistique', 'barracuda', 'cactus', 'lasso', 'perfection', 'validation', 'patient', 'patois', 'steppe', 'continuer', 'supervision', 'septembre', 'affectation', 'lamentation', 'dictateur', 'excursion', 'violation', 'directement', 'absolution', 'stalactite', 'impulsion', 'touriste', 'taxable', 'condition', 'badminton', 'cheminée', 'code', 'indigestion', 'incessant', 'vacant', 'jubilant', 'instigation', 'sensation', 'distance', 'svelte', 'embargo', 'intellect', 'horticulture', 'comparable', 'bifocal', 'assassin', 'convivial', 'delta', 'imaginer', 'assimilation', 'introversion', 'estimer', 'socialiste', 'statue', 'exalter', 'occupant', 'tic', 'exorbitant', 'dissipation', 'exclusion', 'prostitution', 'variable', 'morale', 'mirage', 'alpha', 'fleur', 'accessible', 'sermon', 'conclusion', 'macabre', 'explosion', 'iceberg', 'notification', 'médaille', 'administration', 'opium', 'apostrophe', 'nectar', 'amusement', 'splendide', 'infertile', 'astringent', 'couple', 'supplication', 'routine', 'extroversion', 'quantum', 'digression', 'plausible', 'contracter', 'omelette', 'vain', 'zone', 'divergent', 'sacrifice', 'sphinx', 'vaseline', 'morphine', 'cable', 'infantile', 'sabotage', 'rectangle', 'unique', 'graphite', 'choléra', 'menace', 'observatoire', 'impertinence', 'desperado', 'électrique', 'altercation', 'gratifier', 'incorrigible', 'saturation', 'papyrus', 'contagieuse', 'postal', 'verve', 'thermostat', 'bandage', 'qualification', 'succulence', 'coordination', 'corral', 'service', 'volition', 'mobile', 'conversation', 'affliction', 'respect', 'abominable', 'castration', 'prince', 'inauguration', 'tension', 'ode', 'route', 'disco', 'insecticide', 'restaurant', 'motivation', 'autoriser', 'barbecue', 'pore', 'long', 'opus', 'générale', 'kiwi', 'villa', 'charitable', 'plumage', 'artefact', 'projection', 'infatuation', 'bandit', 'original', 'oblique', 'divisible', 'imagination', 'credo', 'abondance', 'bistro', 'atoll', 'vermouth', 'vagabond', 'horrible', 'textile', 'violet', 'dictionnaire', 'gracieux', 'permanente', 'thermal', 'lion', 'compassion', 'fameuse', 'application', 'chauffeur', 'glorieuse', 'avarice', 'sophistication', 'arrogant', 'notation', 'intelligent', 'disposition', 'consulter', 'côte', 'urine', 'comporter', 'substance', 'funérailles', 'plat', 'aura', 'rumba', 'commandant', 'antidote', 'endurance', 'igloo', 'jovial', 'propulsion', 'festive', 'jaguar', 'paprika', 'attention', 'remède', 'collision', 'composite', 'woofer \\xa0', 'technique', 'dissection', 'graffiti', 'nomenclature', 'incompatible', 'maintenance', 'pectoral', 'barricade', 'convalescent', 'site', 'campus', 'abstinent', 'importation', 'ravine', 'expert', 'ordinal', 'déterminer', 'scorpion', 'solide', 'hooligan', 'nominal', 'énergie', 'locution', 'chaos', 'tangible', 'marginal', 'incrédible', 'déporter', 'inaction', 'égoïste', 'sternum', 'dose', 'calculable', 'intéressant', 'toast', 'coroner', 'hibernation', 'question', 'identification', 'iridescent', 'nubile', 'image', 'interface', 'proton', 'mutation', 'doctoral', 'rectitude', 'surplus', 'brutal', 'pigeon', 'tonsure', 'polio', 'armistice', 'corrosion', 'agent', 'subterfuge', 'bran', 'lotion', 'détruire', 'stop', 'bile', 'promenade', 'témoignage', 'insubordination', 'atlas', 'fasciner', 'impossible', 'parade', 'appétit', 'boa', 'indignation', 'réalité', 'acacia', 'test', 'minimal', 'whisky', 'constellation', 'télévision', 'discipline', 'dissident', 'tanker', 'imminent', 'cassette', 'infrastructure', 'snob', 'magnolia', 'bicyclette', 'hamster', 'sculpture', 'nadir', 'piccolo', 'anecdote', 'invention', 'camaraderie', 'judo', 'probable', 'justifiable', 'triceps', 'double', 'opulent', 'mortification', 'tarot', 'granule', 'bastion', 'nomination', 'penny', 'phase', 'vaginal', 'irritant', 'exploit', 'subvention', 'permanent', 'satellite', 'céréale', 'compression', 'irrigation', 'solution', 'aversion', 'jubilation', 'implorer', 'vivisection', 'multiplication', 'automation', 'patio', 'aventure', 'insolence', 'annoncer', 'description', 'impertinent', 'persuasion', 'engagement', 'pratique', 'interruption', 'taxi', 'zigzag', 'dune', 'hostile', 'inhibition', 'panache', 'adaptable', 'pentagonal', 'concession', 'opinion', 'classe', 'insolent', 'police', 'prairie', 'délicate', 'insérer', 'international', 'néctar', 'argument', 'construction', 'notice', 'colonial', 'insupportable', 'investiguer', 'encouragement', 'luminescent', 'commando', 'organisme', 'horizontal', 'modulation', 'dynamite', 'zygote', 'massage', 'démontrer', 'gluten', 'glacial', 'production', 'habitation', 'crevasse', 'contact', 'dupe', 'client', 'consensus', 'manufacture', 'herbivore', 'coagulant', 'matrimonial', 'innocent', 'identifier', 'agile', 'assurance', 'identifiable', 'indépendance', 'direction', 'costume', 'audition', 'cabine', 'assertion', 'concentration', 'platitude', 'versus', 'omniscience', 'modal', 'approximation', 'oracle', 'gaz', 'nodule', 'invitation', 'intersection', 'gamma', 'curable', 'saga', 'contamination', 'ingratitude', 'vice', 'modifiable', 'estimation', 'indistinct', 'modifier', 'préparer', 'provincial', 'se retirer', 'étudier', 'accélérer', 'postnatal', 'généreuse', 'radiation', 'imposition', 'excellence', 'manuel', 'automatique', 'continuation', 'solo', 'colonel', 'SOS', 'atmosphère', 'bison', 'occasion', 'tomate', 'astral', 'cavalcade', 'simulation', 'docile', 'royal', 'usurpation\\xa0', 'nerveuse', 'fragile', 'sandwich', 'vision', 'extradition', 'gnome', 'intimidation', 'commentaire', 'totalement', 'conciliation', 'irritable', 'furieuse', 'lactation', 'serf', 'balsa', 'fantastique', 'silhouette', 'syndrome', 'caste', 'ignorante', 'photographe', 'stipulation', 'dislocation', 'intestinal', 'dimension', 'expression', 'ambivalence', 'talc', 'protestation', 'servitude', 'micron', 'octane', 'local', 'laser', 'innocence', 'trident', 'incurable', 'dissension', 'employable', 'liquidation', 'combinaison', 'cobra', 'contradiction', 'conjecture', 'diffusion', 'OK', 'admiration', 'onyx', 'prudente', 'converser', 'picaresque', 'abuser', 'gambit', 'duo', 'gravitation', 'crucial', 'six', 'trio', 'domestication', 'humain', 'percussion', 'vampire', 'magazine', 'attitude', 'donation', 'menstruation', 'tribunal', 'prostate', 'sodium', 'palais', 'portrait', 'importer', 'exhortation', 'ratification', 'prudence', 'trait', 'groggy', 'vaccination', 'jazz', 'orange', 'pastel', 'confinement', 'consolidation', 'organiser', 'cérémonie', 'glacier', 'vérifier', 'longitudinal', 'utiliser', 'cigarette', 'bourgeois', 'hypocrite \\xa0', 'mannequin', 'optimum', 'ligature', 'synagogue', 'scooter', 'catastrophe', 'lingerie', 'xylophone', 'consolation', 'pixel', 'insister', 'aspartame', 'aficionado', 'angle', 'curry', 'tonal', 'procession', 'radial', 'maximum', 'distribuer', 'dessert', 'contemplation', 'dictatorial', 'convergent', 'inverse', 'photo', 'pose', 'léopard', 'discussion', 'classification', 'convertir', 'imperfection', 'multiple', 'structure', 'arcade', 'manière', 'connotation', 'distraction', 'transport', 'adoration', 'accident', 'ordinaire', 'candide', 'aberration', 'royalties', 'million', 'duel', 'respiration', 'passable', 'quinine', 'tunnel', 'gain', 'collation', 'impeccable', 'vibration', 'arithmétique', 'part', 'psoriasis', 'succinct', 'propagation', 'volt', 'music', 'capture', 'orient', 'ancestral', 'signature', 'circulaire', 'repentant', 'skiff', 'blizzard', 'contusion', 'stable', 'notion', 'support', 'hockey', 'variation', 'opération', 'despotisme', 'rictus', 'ion', 'céramique', 'suave', 'document', 'pivot', 'exploration', 'cantaloup', 'central', 'différent', 'beatnik', 'excuse', 'titillation', 'active', 'pollution', 'échapper', 'corridor', 'plasma', 'torture', 'cartilage', 'viral', 'torrent', 'chintz', 'solitude', 'confession', 'noble', 'imitation', 'phosphorescent', 'métal', 'accompagner', 'comité', 'triple', 'calypso', 'idéalisme', 'halo', 'source', 'urgent', 'magnétique', 'importance', 'introduction', 'vogue', 'digestible', 'dealer', 'vassal', 'objet', 'injustice', 'musical', 'ruse', 'chromosome', 'podium', 'diligent', 'normalement', 'influence', 'export', 'salaire', 'océan', 'dominance', 'mule', 'koala', 'oral', 'compléter', 'intelligible', 'improbable', 'lichen', 'pastoral', 'contrite', 'certification', 'invisible', 'penchant', 'parc', 'plantation', 'prohibition', 'lucre', 'panique', 'sobriquet', 'participer', 'affront', 'marital', 'subliminal', 'optimisme', 'gangster', 'capsule', 'pestilence', 'sonnet', 'invincible', 'missile', 'cafétéria', 'interchangeable', 'valve', 'muscle', 'admission', 'transit', 'décoration', 'adorable', 'toboggan', 'paraliser', 'communicable', 'weekend', 'diversification', 'vortex', 'incident', 'monotone', 'ciment', 'usuelle', 'interaction', 'acupuncture', 'biceps', 'communion', 'inexcusable', 'alto', 'pigmentation', 'brute', 'intention', 'perversion', 'nerveux', 'neutron', 'digital', 'minuscule', 'audit', 'silicone', 'dilution', 'liaison', 'féroce', 'dorsal', 'majorette', 'insertion', 'palpitation', 'hiatus', 'turbulent', 'abolition', 'visible', 'pidgin', 'subversion', 'zinc', 'indolent', 'parasol', 'satire', 'intervention', 'mutant', 'courage', 'lassitude', 'W.C.', 'indulgent', 'opposition', 'interrogation', 'diva', 'indigo', 'immédiatement', 'spécialement', 'simple', 'imperceptible', 'planète', 'articulation', 'configuration', 'charade', 'brave', 'discuter', 'profitable', 'dollar', 'simplifier', 'activités', 'lieutenant', 'usage', 'dissonant', 'autographe', 'entrer', 'association', 'adverbial', 'concert', 'nectarine', 'adroit', 'possible', 'stress', 'adaptation', 'nonchalance', 'astronome', 'efficient', 'carnage', 'opulence', 'interrompre', 'placebo', 'invariable', 'omnipotence', 'acteur', 'intelligence', 'affiliation', 'nasal', 'violent', 'artisan', 'décrire', 'baron', 'rectifiable', 'abracadabra', 'division', 'action', 'direct', 'convénient', 'végétales', 'retriever', 'public', 'message', 'extraction', 'pratiquer', 'mixture', 'addition', 'assistance', 'interception', 'commission', 'kitchenette', 'turban', 'duplex', 'indulgence', 'acquisition', 'distillation', 'brilliant', 'nuance', 'drainage', 'gradation', 'furieux', 'compote', 'dominion', 'jurisprudence', 'supposition', 'gadget', 'finalement', 'rural', 'hormonal', 'confirmation', 'radian', 'lucide', 'mucus', 'verbiage', 'adolescent', 'minimum', 'stalagmite', 'objection', 'abstention', 'structural', 'aire', 'adverse', 'hôpital', 'important', 'chignon', 'reproduction', 'incrimination', 'illustration', 'absence', 'exfoliation', 'excommunication', 'destination', 'luxuriant \\xa0', 'rotor', 'exportation', 'obsession', 'quadrant', 'piano', 'pantomime', 'magicien', 'absent', 'affable', 'collusion', 'turbine', 'correctement', 'notifier', 'africain', 'rat', 'ginseng', 'prestige', 'improvisation', 'dense', 'insinuation', 'contagieux', 'effervescence', 'délicieux', 'caramel', 'composition', 'canyon', 'clone', 'bikini', 'impatience', 'correction', 'dahlia', 'colonie', 'bronze', 'colossal', 'inventer', 'cumin', 'polka', 'admonition', 'accusation', 'pacifier', 'illusion', 'banjo', 'proverbial', 'uranium', 'siphon', 'session', 'guide\\xa0', 'représenter', 'susceptible', 'suicide', 'provision', 'diagonal', 'brochure', 'sanctification', 'choral', 'smog', 'contribution', 'luminescence', 'banquet', 'transcription', 'mode', 'inviter', 'unifier', 'architectural', 'modem', 'blouse', 'golf', 'moral', 'antique', 'traction', 'dialectal', 'continuum', 'abject', 'barge', 'rechargeable', 'juvénile', 'excavation', 'sprint', 'gel', 'imitable', 'rotation', 'arrogance', 'inimitable', 'inoculation', 'artiste', 'incapable', 'carafe', 'exposition', 'directeur', 'yoga', 'exaltation', 'protection', 'incandescent', 'capital', 'sociable', 'estimable', 'thymus', 'inconsolable', 'population', 'triumphante', 'ossification', 'carton', 'transparent', 'vitriol', 'doctrine', 'exploitation', 'conviction', 'août', 'succession', 'liqueur', 'nylon \\xa0', 'cancer', 'troll', 'ignorant', 'interjection', 'tulle', 'flexible', 'diatribe', 'leçon', 'heure', 'animal', 'téléphone', 'ascension', 'existence', 'ersatz', 'yacht', 'réunion', 'variance', 'paraphrase', 'insecte', 'planétarium', 'information', 'cognition', 'distinct', 'curieuse', 'accuser', 'continental', 'firme', 'recognition', 'omission', 'tempo', 'tourniquet', 'insurrection', 'inaccessible', 'occupation', 'orifice', 'ballet', 'délicieuse', 'watt', 'regret', 'synopsis\\xa0', 'notable', 'consternation', 'harmonica', 'optimal', 'revolver', 'marinade', 'voter', 'exclamer', 'promotion', 'migraine', 'pizzeria', 'uniforme', 'spécial', 'participation', 'piranha', 'stimulus', 'discrimination', 'civil', 'module', 'capable', 'agriculture', 'nitrate', 'jardin', 'détenir', 'adolescence', 'différente', 'affirmation', 'allergique', 'octobre', 'payable', 'angora', 'imaginaire', 'bible', 'questionnaire', 'danger', 'suppression', 'transformation', 'mécanisme', 'effort', 'vodka', 'monument', 'martyr', 'paparazzi', 'religion', 'martial', 'activité', 'motel', 'robot', 'absolument', 'ostensible', 'potable', 'agonie', 'illumination', 'destructible', 'hangar', 'prose', 'actuaire', 'quota\\xa0', 'progression', 'restitution', 'nacre', 'patience', 'submersion', 'glorieux', 'audible', 'larynx', 'inflation', 'troupe', 'suspicion', 'culture', 'communication', 'distinction', 'camp', 'diesel', 'importante', 'locomotion', 'automobile', 'libido', 'trafic', 'scalpel', 'immobile', 'concordance', 'acrobatique', 'papa', 'ski', 'institution', 'limon', 'anaconda', 'obligation', 'transmission', 'impromptu', 'adulation', 'bravo', 'délicat', 'confus', 'girafe', 'anthrax', 'anticipation', 'avalanche', 'minutes', 'gouge', 'favori', 'gracieuse', 'idiot', 'visiter', 'couleur', 'infernal', 'parachute', 'morose', 'parfait', 'inexact', 'pedigree', 'gesticulation', 'domination', 'insoluble', 'attribution', 'exactement', 'cordial', 'unification', 'parent', 'membrane', 'secret', 'électricité', 'célébrer', 'solidifier', 'applicable', 'cobalt', 'présenter', 'date', 'corroboration', 'phallus', 'overdose', 'hyperbole', 'exporter', 'implacable', 'pollen', 'vigilance', 'napalm', 'habitat', 'maritime', 'cousin', 'carbonate', 'outsider', 'liste', 'plus', 'commun', 'désastre', 'safari', 'inclusion', 'adoption', 'logo', 'hippopotame', 'octave', 'curieux', 'grimace', 'commencement', 'reconstruction', 'civiliser', 'installation', 'candidature', 'salutation', 'physique', 'option', 'surcharge', 'paranormal', 'charlatan', 'déclarer', 'obédience', 'triangle', 'oppression', 'garage', 'tricycle', 'philodendron', 'télescope', 'pardon', 'permanence', 'archives', 'contingent', 'combustible', 'incubation', 'karma', 'margarine', 'sonar', 'incomparable', 'ample', 'nature', 'termite', 'vote\\xa0', 'parfum', 'exception', 'pause', 'moment', 'concept', 'implication', 'glucose', 'profit', 'rival', 'monumental', 'augmentation', 'caricature', 'nécessité', 'pronominal', 'malachite', 'interview', 'interminable', 'excuser', 'diminution', 'potassium', 'accolade', 'annotation', 'boulevard', 'alliance', 'serpent', 'vigilant', 'accord', 'computation', 'boomerang', 'orientation', 'continent', 'hôtel', 'slogan', 'apocalypse', 'investiture', 'ambitieuse', 'quiet', 'fameux', 'scalp', 'bicarbonate', 'expiration', 'ultimatum', 'cage', 'enzyme', 'intrusion', 'venimeux', 'tapioca', 'déserter', 'chrome', 'simplification', 'pingouin', 'suffrage', 'indicative', 'manuelle', 'publication', 'extermination', 'budget', 'moustache', 'territorial', 'chaste', 'aptitude', 'kaput', 'propane', 'lobe', 'vestige', 'morgue', 'proclamation', 'ambitieux', 'extravagance', 'anal', 'bigot', 'contour', 'ranch', 'saint', 'pertinence', 'coyote', 'excellent', 'hormone', 'scribe', 'vendetta', 'note', 'inflammation', 'alphabet', 'stagnation', 'affection', 'chaperon', 'excitable', 'opaque', 'nirvana', 'pionnier', 'cathode', 'sofa', 'guide', 'terrible', 'distant', 'quark', 'fruit', 'annihilation', 'éléphant', 'cosmos', 'lamentable', 'instruction', 'mystification', 'latex', 'inscription', 'occidental', 'urgence', 'suspense', 'crocodile', 'tube', 'abattoir', 'congestion', 'article', 'implasion', 'navigation', 'script', 'rose', 'poignant', 'sardine', 'marina', 'camouflage', 'radiant', 'complication', 'malt', 'alligator', 'neural', 'kitsch', 'taxation', 'rutabaga', 'purification \\xa0', 'placenta', 'négocier', 'série', 'vibrant', 'procuration', 'suspect', 'province', 'disciple', 'champion', 'parasite', 'orchestral', 'console', 'suffocation', 'amputation', 'énorme', 'hexagonal', 'palindrome', 'science', 'surprise', 'contraction', 'rugby', 'solarium', 'mutilation', 'groupe', 'exultation \\xa0', 'pipeline', 'consultant', 'compliment', 'gala', 'africaine', 'aviation \\xa0', 'latent', 'microbe', 'panda', 'ultraviolet', 'strict', 'instrument', 'primate', 'accumulation', 'provocation', 'jargon', 'coefficient', 'mystique \\xa0', 'hobby', 'suture', 'voltage', 'zoom', 'fermenter', 'urinal', 'mention', 'radio', 'ghetto', 'ventilation', 'refuge', 'compatible', 'omniscient', 'wallaby', 'migrant', 'commercial', 'trampoline', 'transplant', 'coloration', 'mezzanine', 'tuba', 'olive', 'ration', 'initiation', 'symposium', 'turbulence', 'brusque', 'altitude', 'introduire', 'homophone', 'infiltration', 'lentille', 'modification', 'relaxation', 'transfusion', 'providence', 'naturel', 'amplification', 'succulent', 'diversion', 'amateur', 'condiment', 'radical', 'chagrin', 'limitation', 'allusion', 'adjacent', 'nation', 'infusion', 'absorption', 'isotope\\xa0', 'attraper', 'confrontation', 'inspiration', 'bazooka', 'ratio', 'kilt', 'comparer', 'adopter', 'cause', 'distribution', 'favorable', 'université', 'expansion', 'constant', 'divorce', 'arable', 'humble', 'terrain', 'décisive', 'segment', 'clam', 'microphone', 'compensation', 'professionnel', 'handicap', 'vague', 'prudent', 'sterling', 'ridicule', 'contrition', 'ricochet', 'disparaître', 'canal', 'juxtaposition', 'terminer', 'certitude', 'compost', 'lamenter', 'accentuation', 'marsupial', 'investigation', 'architecture', 'immature', 'placement', 'oxymoron', 'impudent', 'provenance', 'respectable', 'occurrence', 'corpulence', 'brigand', 'cardinal', 'ligament', 'horizon', 'justifier', 'inclination', 'corpulent', 'transaction', 'empire', 'infraction', 'phylum', 'abrasion', 'catharsis', 'immense', 'transition', 'thorax', 'miracle', 'village', 'associer', 'conservation', 'conception', 'naturellement', 'novice', 'miniature', 'instinct', 'perceptible', 'exact', 'profusion', 'violence', 'inhalation', 'initial', 'perception', 'omnipotent', 'perforation', 'savant', 'virginal', 'rupture', 'excusable', 'honneur', 'intuition', 'mémoire', 'clan', 'expérience', 'manifestation', 'impact', 'tirade', 'brilliante', 'marcher', 'banal', 'chimpanzé', 'navigable', 'professionnelle', 'quintessence', 'photon', 'indirect', 'texture', 'caviar', 'diction', 'prostration', 'trompette', 'impatient', 'dinosaure', 'destitution', 'catalogue', 'herbicide', 'correct', 'machination', 'indubitable', 'blazer', 'crescendo', 'convention', 'quadruple', 'appropriation', 'punk', 'phosphate', 'effective', 'mayonnaise', 'misanthrope', 'tendon', 'ambition', 'obstacle', 'raid', 'culmination', 'arsenic', 'crime', 'plaque', 'casino', 'agitation', 'décider', 'immigration', 'lithium', 'boycott', 'minute', 'consul', 'situation', 'intense', 'latrines', 'manipulation', 'stupide', 'restriction', 'catamaran', 'possession', 'humaine', 'pirate', 'transistor', 'cyclone', 'verdict', 'commerce', 'national', 'quartz', 'observance', 'mohair', 'carnivore', 'statistique', 'indestructible', 'sketch', 'vaudeville', 'effervescent', 'sentiment', 'collage', 'massacre', 'locomotive', 'mars', 'estomac', 'radon', 'convalescence', 'errant', 'graduation', 'jungle', 'senior', 'spiral', 'valise', 'consonant', 'terminal', 'quatrain', 'intoxication', 'extravagant', 'obstruction', 'combat', 'malnutrition', 'servile', 'calorie', 'tropical', 'magique', 'cellulite', 'favorite', 'ego', 'maturation', 'locale', 'plural', 'sanction', 'innovation', 'iris', 'incidence', 'mental', 'album', 'menthol', 'nougat', 'badge', 'sulfate', 'pigment', 'grotesque', 'commensurable', 'biscuit', 'cube', 'dilapidation', 'admirer', 'district', 'décembre', 'soluble', 'abdication', 'vocation', 'style', 'immersion', 'jamboree', 'aspiration', 'horoscope', 'spectral', 'volley-ball', 'abstinence', 'abstraction', 'infestation', 'affirmative', 'inflammable', 'dialogue', 'inversion', 'curiosité', 'stagnant', 'bouquet', 'gorille', 'drive', 'spinal', 'apparaître', 'immoral', 'ambulance', 'calcium', 'admettre', 'irrigable', 'normal', 'plan', 'virus', 'docteur', 'musculature', 'pickpocket', 'isolation', 'verbal', 'confetti', 'visa', 'justification', 'problème', 'potion', 'impartial', 'kumquat \\xa0', 'discordant', 'eucalyptus', 'généreux', 'imaginable', 'occlusion', 'municipal', 'harangue', 'spatial', 'kimono', 'cycle', 'soprano', 'certain', 'gratitude', 'bracelet', 'salami', 'convergence', 'communal', 'vital', 'art', 'prototype', 'stimulant', 'jury', 'version', 'quintuple', 'dragon', 'parental', 'partial', 'radius', 'intéressante', 'combustion', 'gallon', 'digestion', 'subdivision', 'superstition', 'ordination', 'alarme', 'rhododendron', 'disgrâce', 'gradient', 'destruction', 'dosage', 'exemption', 'capitaine', 'machine', 'confusion', 'irritation', 'zombie', 'analyser', 'monochrome', 'transgression', 'bungalow\\xa0', 'referendum', 'carat', 'corset', 'cervical', 'dissolution', 'conversion', 'enviable', 'condensation', 'thalamus', 'programme', 'tactile', 'social', 'tennis', 'prison', 'nickel', 'plante', 'censure', 'port', 'incision', 'arbitraire', 'kayak', 'infection', 'beige', 'surface', 'exhibition', 'insatiable', 'cola', 'vertical', 'dépendre', 'île', 'barrage', 'radar', 'radium', 'coma', 'visitation', 'triumphant', 'monologue', 'initiative', 'stature', 'ramification', 'opèrer', 'portion', 'ogre', 'trillion', 'magnitude', 'batterie', 'clarification', 'mentor', 'profession', 'lotus', 'usuel', 'localiser', 'zoo', 'documentation', 'coupon', 'militant', 'sanatorium', 'cardigan', 'centre', 'dandy', 'trauma', 'insulter', 'compilation', 'interlude', 'participant', 'calcification', 'indivisible', 'divergence', 'ostentation', 'extinction', 'bizarre', 'riposte', 'chinchilla', 'sublime', 'steward', 'acolyte', 'gourmet', 'lactose', 'spéciale', 'lance', 'galaxie', 'satisfaction', 'terminus', 'intermission', 'roche', 'cellulose', 'somnolent', 'sauna', 'alias', 'microscope', 'collection', 'extra', 'principal', 'reptile', 'gestation', 'prologue', 'naturelle', 'arsenal', 'nonchalant', 'apparition', 'caméra', 'proportion', 'rumination', 'trot', 'banane', 'expulsion', 'extraordinaire', 'antisocial', 'animation', 'malaria', 'silence', 'maestro', 'nicotine', 'agrégat', 'brigade', 'posture', 'criminel', 'causal', 'hélicoptère', 'tandem', 'intangible', 'coalition', 'prescription', 'volume', 'pizza', 'indispensable', 'papier', 'ligne', 'intrigue', 'reconstitution', 'crocus', 'multitude', 'introspection', 'avenue', 'primordial', 'escalator', 'hallucination', 'habitable', 'air', 'slalom', 'projectile', 'abomination', 'agence', 'exotique', 'inexplicable', 'position', 'sorbet', 'purge', 'magenta', 'conscience', 'intermittent', 'glorification', 'famille', 'trace', 'capitulation', 'dental', 'solstice', 'intact', 'niche', 'Idée', 'steak', 'subordination', 'examiner', 'descendant', 'histoire', 'cercle', 'indigent', 'office', 'passage', 'retirer', 'capturer', 'inspection', 'marionnette', 'import', 'ignorer', 'gazelle', 'perspective', 'accentuer', 'contraception', 'mission', 'palpable', 'compagnie', 'invasion', 'abdominal', 'duplication\\xa0', 'exagérer', 'tradition', 'opossum', 'contagion', 'aquarium', 'bonus', 'conjugal', 'virulent', 'ignorance', 'vestibule', 'munitions', 'artifice', 'général', 'latitude', 'domino', 'circuit', 'cruel', 'compulsion', 'constitution', 'veto', 'marathon', 'quiche', 'pertinent', 'prospectus', 'indication', 'biographie']\n",
            "2029\n"
          ],
          "name": "stdout"
        }
      ]
    },
    {
      "cell_type": "code",
      "metadata": {
        "colab": {
          "base_uri": "https://localhost:8080/",
          "height": 334
        },
        "id": "1nx0ge2h6bON",
        "outputId": "edf42d7b-109f-47ab-e301-09f714f0346c"
      },
      "source": [
        "pd.set_option(\"max_colwidth\", None)\n",
        "Sentences.head(10)"
      ],
      "execution_count": 8,
      "outputs": [
        {
          "output_type": "execute_result",
          "data": {
            "text/html": [
              "<div>\n",
              "<style scoped>\n",
              "    .dataframe tbody tr th:only-of-type {\n",
              "        vertical-align: middle;\n",
              "    }\n",
              "\n",
              "    .dataframe tbody tr th {\n",
              "        vertical-align: top;\n",
              "    }\n",
              "\n",
              "    .dataframe thead th {\n",
              "        text-align: right;\n",
              "    }\n",
              "</style>\n",
              "<table border=\"1\" class=\"dataframe\">\n",
              "  <thead>\n",
              "    <tr style=\"text-align: right;\">\n",
              "      <th></th>\n",
              "      <th>Text</th>\n",
              "      <th>Difficulty</th>\n",
              "    </tr>\n",
              "  </thead>\n",
              "  <tbody>\n",
              "    <tr>\n",
              "      <th>0</th>\n",
              "      <td>Pour moi cétait un cadeau de rêve</td>\n",
              "      <td>A1</td>\n",
              "    </tr>\n",
              "    <tr>\n",
              "      <th>1</th>\n",
              "      <td>A Barcelone mes parents ont réservé un appartement près de la plage</td>\n",
              "      <td>A1</td>\n",
              "    </tr>\n",
              "    <tr>\n",
              "      <th>2</th>\n",
              "      <td>À quelle heure on part</td>\n",
              "      <td>A1</td>\n",
              "    </tr>\n",
              "    <tr>\n",
              "      <th>3</th>\n",
              "      <td>Ainsi Pierre a le privilège dadmirer chaque jour lun des monuments les plus visités au monde</td>\n",
              "      <td>A1</td>\n",
              "    </tr>\n",
              "    <tr>\n",
              "      <th>4</th>\n",
              "      <td>Allumez votre téléphone mobile</td>\n",
              "      <td>A1</td>\n",
              "    </tr>\n",
              "    <tr>\n",
              "      <th>5</th>\n",
              "      <td>Après avoir bu une tasse de thé dans un café je rentre chez moi en bus</td>\n",
              "      <td>A1</td>\n",
              "    </tr>\n",
              "    <tr>\n",
              "      <th>6</th>\n",
              "      <td>Après je vais dans la cuisine et je bois mon café</td>\n",
              "      <td>A1</td>\n",
              "    </tr>\n",
              "    <tr>\n",
              "      <th>7</th>\n",
              "      <td>Arthur lace ses chaussures à rayures</td>\n",
              "      <td>A1</td>\n",
              "    </tr>\n",
              "    <tr>\n",
              "      <th>8</th>\n",
              "      <td>Aujourd’hui avec mes parents et ma sœur nous partons en voyage</td>\n",
              "      <td>A1</td>\n",
              "    </tr>\n",
              "    <tr>\n",
              "      <th>9</th>\n",
              "      <td>Aujourd’hui on est samedi nous rendons visite à notre grandmère</td>\n",
              "      <td>A1</td>\n",
              "    </tr>\n",
              "  </tbody>\n",
              "</table>\n",
              "</div>"
            ],
            "text/plain": [
              "                                                                                           Text Difficulty\n",
              "0                                                             Pour moi cétait un cadeau de rêve         A1\n",
              "1                           A Barcelone mes parents ont réservé un appartement près de la plage         A1\n",
              "2                                                                        À quelle heure on part         A1\n",
              "3  Ainsi Pierre a le privilège dadmirer chaque jour lun des monuments les plus visités au monde         A1\n",
              "4                                                                Allumez votre téléphone mobile         A1\n",
              "5                        Après avoir bu une tasse de thé dans un café je rentre chez moi en bus         A1\n",
              "6                                             Après je vais dans la cuisine et je bois mon café         A1\n",
              "7                                                          Arthur lace ses chaussures à rayures         A1\n",
              "8                                Aujourd’hui avec mes parents et ma sœur nous partons en voyage         A1\n",
              "9                               Aujourd’hui on est samedi nous rendons visite à notre grandmère         A1"
            ]
          },
          "metadata": {
            "tags": []
          },
          "execution_count": 8
        }
      ]
    },
    {
      "cell_type": "code",
      "metadata": {
        "colab": {
          "base_uri": "https://localhost:8080/"
        },
        "id": "VhBjS566Geyt",
        "outputId": "e937805a-f8ed-4e66-c265-0f95a54975de"
      },
      "source": [
        "#Calculating base rate (perfect base rate with 6 features is 0.16)\n",
        "max(len(Sentences[Sentences[\"Difficulty\"] =='A1']) / len(Sentences), len(Sentences[Sentences[\"Difficulty\"] == 'A2']) / len(Sentences), len(Sentences[Sentences[\"Difficulty\"] == 'B1']) / len(Sentences) , len(Sentences[Sentences[\"Difficulty\"] == 'B2']) / len(Sentences),len(Sentences[Sentences[\"Difficulty\"] == 'C1']) / len(Sentences), len(Sentences[Sentences[\"Difficulty\"] == 'C2']) / len(Sentences))"
      ],
      "execution_count": 9,
      "outputs": [
        {
          "output_type": "execute_result",
          "data": {
            "text/plain": [
              "0.18055555555555555"
            ]
          },
          "metadata": {
            "tags": []
          },
          "execution_count": 9
        }
      ]
    },
    {
      "cell_type": "code",
      "metadata": {
        "colab": {
          "base_uri": "https://localhost:8080/",
          "height": 134
        },
        "id": "mGljcP5NIM5S",
        "outputId": "87585dfa-a735-4830-8790-558b4bdaf63d"
      },
      "source": [
        "#Counting targets values \n",
        "display(Sentences.Difficulty.value_counts())"
      ],
      "execution_count": 10,
      "outputs": [
        {
          "output_type": "display_data",
          "data": {
            "text/plain": [
              "A1    221\n",
              "A2    209\n",
              "B2    203\n",
              "C2    202\n",
              "C1    197\n",
              "B1    192\n",
              "Name: Difficulty, dtype: int64"
            ]
          },
          "metadata": {
            "tags": []
          }
        }
      ]
    },
    {
      "cell_type": "code",
      "metadata": {
        "id": "r2o1RrUbFfow"
      },
      "source": [
        "sp = spacy.load('fr_core_news_sm')"
      ],
      "execution_count": 11,
      "outputs": []
    },
    {
      "cell_type": "code",
      "metadata": {
        "colab": {
          "base_uri": "https://localhost:8080/"
        },
        "id": "EKULu75A6iyW",
        "outputId": "9c0c2a45-0de3-4fa7-e439-44d5972bc1d6"
      },
      "source": [
        "data = list(zip(Sentences[\"Text\"],Sentences[\"Difficulty\"]))\n",
        "datawords = []\n",
        "for t, label in data:\n",
        "  list_of_strings = sp(t)\n",
        "  token = [i.text for i in list_of_strings]\n",
        "  datawords.append([token, label])\n",
        "print(datawords)"
      ],
      "execution_count": 16,
      "outputs": [
        {
          "output_type": "stream",
          "text": [
            "[[['Pour', 'moi', 'cétait', 'un', 'cadeau', 'de', 'rêve'], 'A1'], [['A', 'Barcelone', 'mes', 'parents', 'ont', 'réservé', 'un', 'appartement', 'près', 'de', 'la', 'plage'], 'A1'], [['À', 'quelle', 'heure', 'on', 'part'], 'A1'], [['Ainsi', 'Pierre', 'a', 'le', 'privilège', 'dadmirer', 'chaque', 'jour', 'lun', 'des', 'monuments', 'les', 'plus', 'visités', 'au', 'monde'], 'A1'], [['Allumez', 'votre', 'téléphone', 'mobile'], 'A1'], [['Après', 'avoir', 'bu', 'une', 'tasse', 'de', 'thé', 'dans', 'un', 'café', 'je', 'rentre', 'chez', 'moi', 'en', 'bus'], 'A1'], [['Après', 'je', 'vais', 'dans', 'la', 'cuisine', 'et', 'je', 'bois', 'mon', 'café'], 'A1'], [['Arthur', 'lace', 'ses', 'chaussures', 'à', 'rayures'], 'A1'], [['Aujourd’hui', 'avec', 'mes', 'parents', 'et', 'ma', 'sœur', 'nous', 'partons', 'en', 'voyage'], 'A1'], [['Aujourd’hui', 'on', 'est', 'samedi', 'nous', 'rendons', 'visite', 'à', 'notre', 'grandmère'], 'A1'], [['Avec', 'le', 'printemps', 'qui', 'commence', 'en', 'mars', 'le', 'soleil', 'est', 'de', 'retour', 'et', 'le', 'temps', 'se', 'réchauffe'], 'A1'], [['Bob', 'va', 'au', 'cinéma'], 'A1'], [['Bonjour', 'je', 'mappelle', 'Igor'], 'A1'], [['Bruno', 'met', 'son', 'chapeau', 'rigolo'], 'A1'], [['Cest', 'pratique', 'pour', 'aller', 'dun', 'centre', 'commercial', 'à', 'un', 'autre', 'pour', 'aller', 'à', 'lécole', 'à', 'la', 'piscine', 'au', 'stade', 'ou', 'encore', 'au', 'théâtre', 'parce', 'que', 'la', 'ville', 'est', 'très', 'grande'], 'A1'], [['Cest', 'tellement', 'amusant', 'de', 'réciter', 'la', 'comptine', 'des', 'vêtements'], 'A1'], [['Cest', 'un', 'spectacle', 'magique'], 'A1'], [['C’', 'est', 'aussi', 'le', 'moment', 'idéal', 'pour', 'profiter', 'de', 'l’', 'eau', 'et', 'aller', 'nager', 'à', 'la', 'mer', 'ou', 'à', 'la', 'piscine'], 'A1'], [['C’', 'est', 'la', 'couleur', 'de', 'nombreux', 'fruits', 'et', 'légumes', 'comme', 'les', 'tomates', 'les', 'fraises', 'ou', 'les', 'cerises'], 'A1'], [['C’', 'est', 'la', 'saison', 'la', 'plus', 'chaude', 'pendant', 'laquelle', 'on', 'recommence', 'à', 'mettre', 'ses', 'lunettes', 'de', 'soleil', 'et', 'à', 'aller', 'se', 'promener', 'sur', 'la', 'plage'], 'A1'], [['C’', 'est', 'le', 'moment', 'de', 'sortir', 'son', 'manteau', 'et', 'son', 'parapluie'], 'A1'], [['C’', 'est', 'ma', 'meilleure', 'amie'], 'A1'], [['ça', 'me', 'donne', 'faim', 'tout', 'ça'], 'A1'], [['Ce', 'magasin', 'nest', 'pas', 'loins', 'de', 'chez', 'moi'], 'A1'], [['Ce', 'nest', 'pas', 'étonnant', 'car', 'cest', 'une', 'saison', 'mystérieuse'], 'A1'], [['Ce', 'sont', 'des', 'vacances', 'très', 'relaxantes'], 'A1'], [['Cet', 'aprèsmidi', 'mes', 'amis', 'et', 'moi', 'allons', 'au', 'cinéma'], 'A1'], [['Cette', 'période', 'marque', 'l’', 'arrivée', 'de', 'Noël', 'et', 'des', 'fêtes', 'de', 'fin', 'd’', 'année'], 'A1'], [['Clément', 'enfile', 'ses', 'gants', 'blancs'], 'A1'], [['Clive', 'Owen', 'et', 'elle', 'jouent', 'un', 'couple', 'd’', 'espions'], 'A1'], [['Dabord', 'je', 'préfère', 'quand', 'il', 'ne', 'fait', 'pas', 'trop', 'chaud', 'et', 'jadore', 'la', 'lumière', 'dorée', 'des', 'belles', 'journées', 'dautomne'], 'A1'], [['Dans', 'le', 'centre', 'de', 'la', 'ville', 'il', 'y', 'a', 'un', 'très', 'joli', 'quartier', 'plein', 'de', 'magasins', 'chics', 'et', 'de', 'bons', 'restaurants'], 'A1'], [['Delphine', 'je', 'tattends', 'au', 'coin', 'de', 'la', 'rue', 'devant', 'la', 'pharmacie'], 'A1'], [['Durant', 'cette', 'saison', 'les', 'feuilles', 'des', 'arbres', 'tombent', 'et', 'couvrent', 'le', 'sol', 'd’', 'un', 'tapis', 'brun', 'rouge', 'et', 'jaune'], 'A1'], [['Edouard', 'aime', 'beaucoup', 'son', 'foulard', 'noir'], 'A1'], [['Elise', 'boutonne', 'sa', 'chemise', 'grise'], 'A1'], [['Elle', 'a', '20', 'ans'], 'A1'], [['Elle', 'a', '84', 'ans', 'et', 'elle', 'habite', 'à', 'Antibes'], 'A1'], [['Elle', 'a', 'trois', 'enfants', 'deux', 'garçons', 'et', 'une', 'fille'], 'A1'], [['Elle', 'fait', 'des', 'bons', 'gâteaux'], 'A1'], [['Elle', 'passe', 'aussi', 'à', 'la', 'boulagerie', 'et', 'elle', 'achète', 'une', 'baguette', 'toute', 'chaude', 'et', 'des', 'croissants', 'pour', 'le', 'petitdéjeuner'], 'A1'], [['Elles', 'm’', 'ont', 'promis', 'de', 'me', 'faire', 'découvrir', 'tout', 'Londres', ' ', 'nous', 'visiterons', 'les', 'musées', 'les', 'monuments', 'et', 'les', 'parcs'], 'A1'], [['Elles', 'sont', 'sympathiques'], 'A1'], [['En', 'général', 'cest', 'à', 'ce', 'momentlà', 'que', 'je', 'me', 'rends', 'compte', 'que', 'je', 'suis', 'en', 'retard'], 'A1'], [['En', 'général', 'elle', 'loue', 'une', 'maison', 'à', 'la', 'campagne'], 'A1'], [['En', 'les', 'mélangeant', 'on', 'peut', 'former', 'd’', 'autres', 'couleurs'], 'A1'], [['Enfin', 'l’', 'été', 'arrive', 'à', 'la', 'fin', 'du', 'mois', 'de', 'juin'], 'A1'], [['Enfin', 'on', 'trouve', 'aussi', 'le', 'blanc', 'comme', 'la', 'neige', 'et', 'le', 'noir', 'comme', 'la', 'nuit'], 'A1'], [['Ensuite', 'je', 'prends', 'ma', 'douche', 'pour', 'finir', 'de', 'me', 'réveiller'], 'A1'], [['Entre', 'les', 'deux', 'il', 'y', 'a', 'le', 'gris', ' ', 'c’', 'est', 'un', 'mélange', 'de', 'blanc', 'et', 'de', 'noir'], 'A1'], [['Et', 'bien', 'sûr', 'cest', 'également', 'la', 'saison', 'parfaite', 'pour', 'savourer', 'une', 'boisson', 'chaude', 'emmitouflée', 'dans', 'une', 'couverture', 'devant', 'un', 'bon', 'feu', 'de', 'cheminée'], 'A1'], [['Et', 'bien', 'sûr', 'nous', 'irons', 'faire', 'du', 'shopping', 'à', 'Oxford', 'Street', 'et', 'dans', 'le', 'quartier', 'de', 'Covent', 'Garden'], 'A1'], [['Fais', 'vite', 'le', 'film', 'commence', 'dans', '10', 'minutes'], 'A1'], [['Geoffrey', 'adore', 'son', 'béret', 'bleu', 'foncé'], 'A1'], [['Il', 'a', 'rendezvous', 'chez', 'le', 'médecin'], 'A1'], [['Il', 'est', '17h'], 'A1'], [['Il', 'est', 'agréable', 'de', 'marcher', 'dans', 'les', 'petites', 'rues', 'pour', 'admirer', 'larchitecture', 'des', 'maisons', 'anciennes'], 'A1'], [['Il', 'est', 'agréable', 'de', 'se', 'promener', 'pour', 'observer', 'les', 'papillons', 'les', 'abeilles', 'et', 'écouter', 'le', 'chant', 'des', 'oiseaux'], 'A1'], [['Il', 'est', 'l’', 'heure', 'de', 'déjeuner'], 'A1'], [['Il', 'est', 'possible', 'de', 'faire', 'du', 'vélo', 'dans', 'un', 'parc', 'autour', 'dune', 'citadelle', 'fortifiée'], 'A1'], [['Il', 'naimait', 'pas', 'les', 'plats', 'de', 'la', 'cantine'], 'A1'], [['Il', 'ne', 'reste', 'pas', 'seul', 'chez', 'lui', 'ce', 'soir'], 'A1'], [['Il', 'ne', 'vient', 'pas', 'à', 'la', 'fête', 'ce', 'soir'], 'A1'], [['Il', 'vient', 'à', 'la', 'cérémonie', 'ce', 'soir'], 'A1'], [['Il', 'vit', 'à', 'Paris', 'avec', 'ses', 'parents', 'et', 'sa', 'petite', 'sœur', 'Julie', 'âgée', 'de', '8', 'ans'], 'A1'], [['Il', 'y', 'a', 'un', 'quartier', 'très', 'agréable', 'pour', 'aller', 'se', 'balader', 'lorsquil', 'fait', 'beau'], 'A1'], [['Ils', 'aiment', 'venir', 'passer', 'le', 'weekend', 'à', 'la', 'maison', 'ainsi', 'mes', 'enfants', 'jouent', 'avec', 'leurs', 'cousins', 'dans', 'le', 'jardin'], 'A1'], [['Ils', 'prennent', 'des', 'risques', 'énormes'], 'A1'], [['Ils', 'veulent', 'admirer', 'la', 'célèbre', 'Sagrada', 'Familia', 'se', 'balader', 'dans', 'le', 'Parc', 'Güell', 'et', 'goûter', 'la', 'nourriture', 'locale'], 'A1'], [['Jai', 'une', 'soeur'], 'A1'], [['Jespères', 'que', 'tu', 'vas', 'bien'], 'A1'], [['Jhabite', 'une', 'belle', 'ville', 'dans', 'le', 'nord', 'de', 'la', 'France'], 'A1'], [['J’', 'achète', 'un', 'livre', 'un', 'pantalon', 'et', 'une', 'nouvelle', 'lampe', 'pour', 'ma', 'chambre'], 'A1'], [['J’', 'adore', 'ma', 'grandmère', 'elle', 'très', 'gentille'], 'A1'], [['J’', 'ai', 'déjà', 'pris', 'l’', 'avion', 'car', 'nous', 'sommes', 'allés', 'à', 'Rome', 'en', 'Italie', 'il', 'y', 'a', 'deux', 'ans'], 'A1'], [['J’', 'ai', 'deux', 'frères'], 'A1'], [['J’', 'ai', 'hâte', 'que', 'tu', 'viennes', 'me', 'rendre', 'visite', 'le', 'mois', 'prochain', 'pour', 'te', 'montrer', 'mes', 'endroits', 'préférés'], 'A1'], [['J’', 'ai', 'passé', 'une', 'très', 'bonne', 'journée', 'de', 'vacances'], 'A1'], [['J’', 'aime', 'beaucoup', 'l’', 'école'], 'A1'], [['J’', 'aime', 'beaucoup', 'lire', 'et', 'je', 'nage', 'très', 'bien'], 'A1'], [['J’', 'en', 'profite', 'pour', 'faire', 'une', 'grassematinée', 'et', 'je', 'sors', 'de', 'mon', 'lit', 'à', 'dix', 'heures'], 'A1'], [['J’', 'enfile', 'une', 'jolie', 'robe', 'et', 'je', 'pars', 'rejoindre', 'mes', 'amis', 'au', 'centre', 'commercial'], 'A1'], [['J’', 'espère', 'qu’', 'il', 'y', 'aura', 'beaucoup', 'de', 'soleil'], 'A1'], [['Je', 'commande', 'du', 'poisson', 'avec', 'de', 'la', 'purée'], 'A1'], [['Je', 'cours', 'dans', 'ma', 'chambre', 'et', 'je', 'me', 'dépêche', 'de', 'mhabiller', 'et', 'de', 'me', 'maquiller', 'puis', 'je', 'vais', 'prendre', 'le', 'métro'], 'A1'], [['Je', 'débouche', 'votre', 'lavabo', 'ou', 'votre', 'baignoire'], 'A1'], [['Je', 'dois', 'beaucoup', 'travailler', 'mais', 'ça', 'me', 'plaît'], 'A1'], [['Je', 'm’', 'appelle', 'Hugo', 'et', 'j’', 'ai', 'seize', 'ans'], 'A1'], [['Je', 'm’', 'appelle', 'Jessica'], 'A1'], [['Je', 'm’', 'appelle', 'Marie'], 'A1'], [['Je', 'mange', 'deux', 'tartines', 'de', 'pain', 'un', 'grand', 'bol', 'de', 'café', 'et', 'un', 'yaourt', 'aux', 'fruits', 'rouges'], 'A1'], [['Je', 'nai', 'aucune', 'nouvelle', 'depuis', 'son', 'départ'], 'A1'], [['Je', 'nai', 'pas', 'vraiment', 'dappétit', 'le', 'matin', 'même', 'si', 'je', 'sais', 'que', 'cest', 'le', 'repas', 'le', 'plus', 'important', 'de', 'la', 'journée'], 'A1'], [['Je', 'n’', 'aime', 'pas', 'la', 'pluie', 'surtout', 'pendant', 'les', 'vacances'], 'A1'], [['Je', 'ne', 'sais', 'pas', 'où', 'elles', 'sont'], 'A1'], [['Je', 'partage', 'un', 'appartement', 'avec', 'deux', 'autres', 'étudiantes'], 'A1'], [['Je', 'peux', 'voir', 'le', 'docteur', 'le', 'matin'], 'A1'], [['Je', 'prends', 'mon', 'petitdéjeuner', 'dans', 'la', 'cuisine'], 'A1'], [['Je', 'profite', 'aussi', 'du', 'petit', 'déjeuner', 'pour', 'lire', 'les', 'infos', 'en', 'ligne'], 'A1'], [['Je', 'rentre', 'à', 'la', 'maison', 'à', '19', 'heures'], 'A1'], [['Je', 'reste', 'à', 'la', 'maison'], 'A1'], [['Je', 'suis', 'arrivée', 'il', 'y', 'a', 'un', 'mois', 'et', 'j’', 'habite', 'en', 'colocation', 'avec', 'deux', 'copines'], 'A1'], [['Je', 'suis', 'bien', 'arrivée', 'à', 'Londres', 'pour', 'ma', 'dernière', 'année', 'd’', 'études', 'de', 'marketing', 'à', 'l’', 'université'], 'A1'], [['Je', 'suis', 'chez', 'Camille'], 'A1'], [['Je', 'suis', 'contente', 'je', 'vais', 'voir', 'Amélie'], 'A1'], [['Je', 'suis', 'désolé'], 'A1'], [['Je', 'suis', 'en', 'vacances'], 'A1'], [['Je', 'suis', 'malade'], 'A1'], [['Je', 'suis', 'secrétaire', 'et', 'je', 'm’', 'occupe', 'de', 'mes', 'deux', 'enfants', 'quand', 'ils', 'rentrent', 'de', 'l’', 'école'], 'A1'], [['Je', 'suis', 'très', 'gourmande', 'et', 'jadore', 'également', 'lautomne', 'à', 'cause', 'de', 'ses', 'fruits', 'et', 'légumes', 'de', 'saison'], 'A1'], [['Je', 'suis', 'une', 'fille', 'je', 'suis', 'française', 'et', 'j’', 'ai', 'treize', 'ans'], 'A1'], [['Je', 'tappelle', 'demain'], 'A1'], [['Je', 'tinvite', 'à', 'manger', 'chez', 'moi', 'mardi', '23', 'mars'], 'A1'], [['Je', 't’', 'envoie', 'de', 'gros', 'bisous'], 'A1'], [['Je', 'vais', 'à', 'l’', 'école', 'à', 'Nice', 'mais', 'j’', 'habite', 'à', 'CagnesSurMer'], 'A1'], [['Je', 'vais', 'aller', 'la', 'chercher'], 'A1'], [['Je', 'vais', 'en', 'Grèce', 'avec', 'mon', 'amie'], 'A1'], [['Je', 'vais', 'ensuite', 'prendre', 'ma', 'douche', 'dans', 'ma', 'salledebain'], 'A1'], [['Je', 'vais', 'étudier', 'langlais'], 'A1'], [['Je', 'vous', 'coupe', 'les', 'cheveux'], 'A1'], [['Laprèsmidi', 'elle', 'se', 'promène', 'dans', 'la', 'campagne', 'ou', 'elle', 'explore', 'la', 'région'], 'A1'], [['Lautonomne', 'est', 'ma', 'saison', 'préferée', 'et', 'voici', 'mes', 'raisons'], 'A1'], [['L’', 'automne', 'débute', 'fin', 'septembre'], 'A1'], [['L’', 'automne', 'est', 'aussi', 'la', 'saison', 'des', 'récoltes', ' ', 'on', 'ramasse', 'le', 'maïs', 'le', 'tournesol', 'les', 'pommes', 'le', 'raisin', '…', 'Vient', 'ensuite', 'l’', 'hiver', 'la', 'saison', 'la', 'plus', 'froide', 'qui', 'commence', 'fin', 'décembre'], 'A1'], [['L’', 'orange', 'est', 'la', 'couleur', 'de', 'certains', 'fruits', 'comme', 'l’', 'orange', 'qui', 'porte', 'son', 'nom', 'la', 'clémentine', 'ou', 'l’', 'abricot'], 'A1'], [['L’', 'une', 's’', 'appelle', 'Jennifer', 'et', 'elle', 'a', '21', 'ans', 'et', 'l’', 'autre', 's’', 'appelle', 'Ashley', 'et', 'elle', 'a', '22', 'ans'], 'A1'], [['La', 'nature', 'change', 'et', 'devient', 'plus', 'secrète', 'les', 'animaux', 'se', 'cachent', 'et', 'les', 'contes', 'et', 'les', 'légendes', 'fleurissent'], 'A1'], [['La', 'nature', 'redevient', 'verte', ' ', 'l’', 'herbe', 'et', 'les', 'fleurs', 'poussent', 'à', 'nouveau'], 'A1'], [['Làbas', 'tout', 'le', 'monde', 'parle', 'anglais'], 'A1'], [['Laura', 'est', 'la', 'sœur', 'de', 'Julie'], 'A1'], [['Le', 'bleu', 'est', 'très', 'présent', 'dans', 'la', 'nature', ' ', 'c’', 'est', 'la', 'couleur', 'du', 'ciel', 'et', 'de', 'la', 'mer'], 'A1'], [['Le', 'brun', 'aussi', 'appelé', 'marron', 'est', 'la', 'couleur', 'du', 'café', 'de', 'la', 'terre', 'et', 'de', 'l’', 'écorce', 'des', 'arbres'], 'A1'], [['Le', 'dimanche', 'nous', 'aimons', 'nous', 'promener', 'en', 'famille', 'dans', 'la', 'forêt', 'proche', 'de', 'notre', 'maison', 'et', 'faire', 'des', 'jeux'], 'A1'], [['Le', 'jaune', 'est', 'la', 'couleur', 'des', 'bananes', 'du', 'maïs', 'ou', 'des', 'poussins', 'par', 'exemple'], 'A1'], [['Le', 'matin', 'elle', 'va', 'au', 'marché', 'du', 'village', 'pour', 'acheter', 'des', 'fruits', 'et', 'des', 'légumes', 'et', 'pour', 'discuter', 'avec', 'ses', 'voisins'], 'A1'], [['Le', 'paysage', 'devient', 'tout', 'blanc', 'à', 'cause', 'de', 'la', 'neige', 'et', 'de', 'la', 'glace'], 'A1'], [['Le', 'premier', 's’', 'appelle', 'Thomas', 'il', 'a', 'quatorze', 'ans'], 'A1'], [['Le', 'quartier', 'est', 'tranquille', 'et', 'agréable', 'et', 'pas', 'trop', 'loin', 'de', 'l’', 'Université'], 'A1'], [['Le', 'rouge', 'est', 'une', 'couleur', 'vive'], 'A1'], [['Le', 'rouge', 'le', 'jaune', 'et', 'le', 'bleu', 'sont', 'les', 'trois', 'couleurs', 'primaires'], 'A1'], [['Le', 'second', 's’', 'appelle', 'Yann', 'et', 'il', 'a', 'neuf', 'ans'], 'A1'], [['Le', 'service', 'des', 'affaires', 'socioculturelles', 'de', 'l’', 'Université'], 'A1'], [['Le', 'temps', 'devient', 'de', 'plus', 'en', 'plus', 'frais', 'il', 'commence', 'à', 'y', 'avoir', 'de', 'la', 'pluie', 'et', 'du', 'vent'], 'A1'], [['Le', 'train', 'de', 'ma', 'soeur', 'arrive', 'à', '20h05'], 'A1'], [['Le', 'trajet', 'ne', 'dure', 'que', '20', 'minutes'], 'A1'], [['Le', 'vert', 'par', 'exemple', 'est', 'la', 'couleur', 'de', 'l’', 'herbe', 'et', 'des', 'feuilles', 'des', 'arbres'], 'A1'], [['Le', 'violet', 'se', 'retrouve', 'chez', 'de', 'nombreuses', 'fleurs', 'comme', 'le', 'lilas'], 'A1'], [['Le', 'weekend', 'Pierre', 'aime', 'passer', 'du', 'temps', 'en', 'famille'], 'A1'], [['Les', 'enfants', 'aiment', 'faire', 'du', 'vélo', 'avec', 'leur', 'grandpère', 'après', 'l’', 'école'], 'A1'], [['Les', 'grandsparents', 'de', 'nos', 'enfants', 'aiment', 'passer', 'du', 'temps', 'avec', 'nous', 'lors', 'des', 'vacances'], 'A1'], [['Les', 'parents', 'de', 'mon', 'mari', 'habitent', 'très', 'loin', 'de', 'chez', 'nous', 'mais', 'mes', 'parents', 'ont', 'une', 'maison', 'à', 'quelques', 'kilomètres', 'de', 'la', 'nôtre'], 'A1'], [['Les', 'vacances', 'sont', 'les', 'moments', 'préférés', 'de', 'Pierre', 'car', 'il', 'a', 'pour', 'habitude', 'daller', 'chez', 'ses', 'grandsparents', 'qui', 'vivent', 'dans', 'une', 'ferme', 'de', 'la', 'campagne', 'normande'], 'A1'], [['Londres', 'est', 'différent', 'de', 'Paris'], 'A1'], [['Lundi', 'je', 'retourne', 'à', 'l’', 'école'], 'A1'], [['Ma', 'boisson', 'préferée', 'est', 'un', 'chocolat', 'chaud', 'avec', 'une', 'pincée', 'de', 'cannelle'], 'A1'], [['Ma', 'famille', 'se', 'compose', 'de', 'quatre', 'personnes'], 'A1'], [['Ma', 'fille', 'fait', 'parfois', 'des', 'gâteaux', 'avec', 'sa', 'grandmère', 'le', 'samedi', 'aprèsmidi'], 'A1'], [['Ma', 'mère', 'est', 'allemande', 'et', 'est', 'avocate'], 'A1'], [['Ma', 'sœur', 'habite', 'également', 'dans', 'la', 'même', 'ville', 'que', 'nous'], 'A1'], [['Ma', 'sœur', 'préfère', 'aller', 'à', 'la', 'plage', 'pour', 'lire', 'et', 'bronzer'], 'A1'], [['Ma', 'sœur', 's’', 'appelle', 'Laura', 'elle', 'a', 'treize', 'ans'], 'A1'], [['Manon', 'admire', 'son', 'pantalon', 'marron'], 'A1'], [['Marie', 'aime', 'aller', 'en', 'vacances', 'en', 'France'], 'A1'], [['Mes', 'frères', 'et', 'moi', 'parlons', 'français', 'italien', 'et', 'allemand', 'à', 'la', 'maison'], 'A1'], [['Mes', 'matières', 'préférées', 'sont', 'le', 'français', 'et', 'le', 'sport'], 'A1'], [['Mes', 'parents', 'souhaitent', 'louer', 'des', 'vélos', 'pour', 'visiter', 'Barcelone'], 'A1'], [['Moi', 'je', 'veux', 'aller', 'au', 'zoo', 'et', 'à', 'l’', 'aquarium', '…', 'et', 'manger', 'des', 'glaces'], 'A1'], [['Mon', 'mari', 'est', 'professeur', 'd’', 'anglais', 'dans', 'une', 'école', 'qui', 'se', 'trouve', 'à', '20', 'kilomètres', 'de', 'la', 'maison'], 'A1'], [['Mon', 'mari', 'et', 'moi', 'avons', 'deux', 'enfants', 'une', 'fille', 'de', 'sept', 'ans', 'et', 'un', 'garçon', 'de', 'trois', 'ans'], 'A1'], [['Mon', 'papa', 'est', 'italien', 'et', 'il', 'est', 'fleuriste'], 'A1'], [['Mon', 'réveil', 'sonne', 'à', 'six', 'heures', 'et', 'démie', 'je', 'me', 'rendors', 'pendant', 'un', 'quart', 'dheure', 'et', 'je', 'me', 'lève', 'vers', 'sept', 'heures', 'moins', 'le', 'quart'], 'A1'], [['Notre', 'quartier', 'est', 'calme', 'et', 'paisible'], 'A1'], [['Nous', 'allons', 'au', 'restaurant'], 'A1'], [['Nous', 'avons', 'également', 'des', 'animaux', ' ', 'un', 'chat', 'un', 'chien', 'deux', 'lapins', 'et', 'des', 'poissons', 'rouges'], 'A1'], [['Nous', 'avons', 'une', 'grande', 'maison', 'avec', 'un', 'chien', 'un', 'poisson', 'et', 'deux', 'chats'], 'A1'], [['Nous', 'irons', 'aussi', 'nous', 'amuser', 'à', 'Camden', 'Town', 'et', 'voir', 'des', 'concerts'], 'A1'], [['Nous', 'jouons', 'dans', 'le', 'jardin', 'quand', 'il', 'fait', 'beau', 'ou', 'dans', 'la', 'maison', 'quand', 'il', 'pleut'], 'A1'], [['Nous', 'les', 'mangeons', 'ensemble', 'le', 'samedi', 'soir'], 'A1'], [['Nous', 'séjournons', 'pendant', 'deux', 'semaines', 'à', 'Barcelone'], 'A1'], [['Nous', 'sommes', 'à', 'l’', 'aéroport', ' ', 'direction', 'Barcelone', 'en', 'Espagne'], 'A1'], [['Nous', 'vivons', 'dans', 'une', 'jolie', 'maison', 'avec', 'un', 'grand', 'jardin'], 'A1'], [['On', 'achète', 'des', 'médicaments'], 'A1'], [['On', 'fait', 'réparer', 'ses', 'chaussures'], 'A1'], [['On', 'fait', 'soigner', 'ses', 'dents'], 'A1'], [['On', 'mange', 'à', '20', 'Heures', 'ou', 'plus', 'tard'], 'A1'], [['On', 'mange', 'des', 'crêpes'], 'A1'], [['On', 'peut', 'encore', 'se', 'promener', 'dans', 'les', 'bois', 'et', 'admirer', 'toutes', 'les', 'couleurs', 'chaleureuses', 'comme', 'le', 'rouge', 'lorange', 'et', 'le', 'jaune'], 'A1'], [['On', 'reçoit', 'des', 'soins', 'esthétiques'], 'A1'], [['Où', 'je', 'peux', 'acheter', 'un', 'billet', 'de', 'train'], 'A1'], [['Oui', 'cher', 'journal', 'cest', 'décidé', 'lundi', 'prochain', 'je', 'mettrai', 'mon', 'réveil', 'plus', 'tôt'], 'A1'], [['Par', 'exemple', 'les', 'bus', 'sont', 'rouges', 'et', 'certaines', 'stations', 'de', 'métro', 'semblent', 'très', 'anciennes'], 'A1'], [['Parfois', 'comme', 'ca', 'matin', 'il', 'me', 'reste', 'des', 'croissants', 'du', 'weekend', 'sinon', 'je', 'mange', 'des', 'biscottes', 'beurrées'], 'A1'], [['Parfois', 'elle', 'fait', 'une', 'bonne', 'tarte', 'aux', 'fruits', 'et', 'elle', 'invite', 'des', 'amis', 'pour', 'le', 'goûter'], 'A1'], [['Pas', 'de', 'fête', 'avec', 'vous', 'ce', 'soir'], 'A1'], [['Peutêtre', 'que', 'je', 'devrais', 'avancer', 'un', 'peu', 'mon', 'réveil', 'pour', 'éviter', 'ça'], 'A1'], [['Peuxtu', 'me', 'donner', 'lheure', 'du', 'déjeuner', 'la', 'date', 'et', 'ladresse', 'de', 'ton', 'appartement'], 'A1'], [['Pierre', 'est', 'un', 'jeune', 'garçon', 'de', '14', 'ans'], 'A1'], [['Potirons', 'chataîgnes', 'courges', 'pommes', 'mais', 'aussi', 'des', 'épices', 'délicieuses', 'comme', 'la', 'cannelle', 'la', 'noix', 'et', 'le', 'gingembre'], 'A1'], [['Pour', 'gagner', 'du', 'temps', 'achetez', 'votre', 'billet', 'de', 'train', 'sur', 'notre', 'site', 'internet'], 'A1'], [['Pour', 'se', 'déplacer', 'il', 'y', 'a', 'des', 'bus', 'des', 'vélos', 'et', 'un', 'métro'], 'A1'], [['Pour', 'se', 'rendre', 'au', 'collège', 'Pierre', 'prend', 'le', 'métro', 'à', 'la', 'station', 'Ecole', 'Militaire', 'et', 'sort', 'au', 'collège', 'Claude', 'Debussy'], 'A1'], [['Pourraistu', 'maccompagner'], 'A1'], [['Prends', 'ton', 'maillot', 'de', 'bain'], 'A1'], [['Questce', 'que', 'tu', 'fais', 'pour', 'les', 'vacances', 'cette', 'année'], 'A1'], [['Questce', 'que', 'tu', 'vas', 'faire', 'lannée', 'prochaine'], 'A1'], [['Rafael', 'est', 'très', 'accueillant', 'et', 'il', 'prépare', 'des', 'pâtes', 'délicieuse'], 'A1'], [['Salue', 'tes', 'parents', 'de', 'ma', 'part'], 'A1'], [['Son', 'appartement', 'est', 'loin', 'de', 'l’', 'Université'], 'A1'], [['Tapez', 'votre', 'message', 'sur', 'les', 'touches', 'de', 'votre', 'téléphone'], 'A1'], [['Tous', 'les', 'lundis', 'cest', 'la', 'même', 'chose'], 'A1'], [['Tous', 'les', 'quatre', 'en', 'profitent', 'pour', 'visiter', 'les', 'musées', 'parisiens', 'aller', 'au', 'cinéma', 'faire', 'du', 'shopping', 'ou', 'se', 'balader', 'dans', 'lun', 'des', 'nombreux', 'parcs', 'de', 'la', 'capitale'], 'A1'], [['Toute', 'la', 'petite', 'famille', 'apprécie', 'alors', 'lair', 'pur', 'la', 'nature', 'et', 'le', 'calme', 'pendant', 'quelques', 'semaines', 'avant', 'de', 'rentrer', 'à', 'Paris'], 'A1'], [['Toute', 'la', 'petite', 'famille', 'habite', 'dans', 'un', 'grand', 'appartement', 'au', '3ème', 'étage', 'dun', 'immeuble', 'situé', 'près', 'de', 'la', 'Tour', 'Eiffel'], 'A1'], [['Tu', 'as', 'des', 'nouvelles', 'de', 'Paul'], 'A1'], [['Tu', 'as', 'vu', 'mes', 'soeurs'], 'A1'], [['Tu', 'es', 'un', 'vrai', 'chef', 'cuisinier'], 'A1'], [['Tu', 'me', 'manques', 'beaucoup'], 'A1'], [['Tu', 'viens', 'en', 'vacances', 'au', 'ski', 'avec', 'nous', 'cet', 'hivers'], 'A1'], [['Un', 'saison', 'parfaite', 'pour', 'les', 'sorcières'], 'A1'], [['Violette', 'porte', 'ses', 'lunettes', 'très', 'chouettes'], 'A1'], [['Vivement', 'demain'], 'A1'], [['En', 'plus', 'il', 'y', 'avait', 'le', 'grand', 'parasol', 'qui', 'prenait', 'toute', 'la', 'place', '\\n'], 'A2'], [['Et', 'puis', 'surtout', 'jattendais', 'ton', 'arrivée', '\\n'], 'A2'], [['Ils', 'faisaient', 'aussi', 'la', 'course', 'sur', 'la', 'plage', 'et', 'Louis', 'gagnait', 'souvent', 'parce', 'quil', 'était', 'le', 'plus', 'rapide', '\\n'], 'A2'], [['Ils', 'nageaient', 'jusquà', 'la', 'bouée', 'puis', 'revenaient', 'aussi', 'vite', 'que', 'possible'], 'A2'], [['Je', 'pouvais', 'faire', 'autant', 'de', 'bruit', 'que', 'je', 'voulais', '\\n'], 'A2'], [['Mais', 'pas', 'de', 'maison', 'de', 'poupées', '\\n'], 'A2'], [['Mon', 'grand', 'frère', 'Louis', 'était', 'très', 'paresseux', 'il', 'naidait', 'jamais', '\\n'], 'A2'], [['Nous', 'nous', 'installions', 'dans', 'la', 'maison', 'de', 'vacances', 'puis', 'nous', 'prenions', 'lapéritif', 'avec', 'les', 'voisins'], 'A2'], [['Nous', 'passions', 'les', 'grandes', 'vacances', 'à', 'Valras', 'dans', 'le', 'sud', 'de', 'la', 'France', '\\n'], 'A2'], [['Quand', 'nous', 'arrivions', 'à', 'Valras', 'nous', 'étions', 'fatigués', 'mais', 'contents'], 'A2'], [['Quelques', 'prises', 'de', 'becs', 'pourtant', 'avec', 'des', 'mecs', 'très', 'incorrecs', 'sic', ' ', 'incorrects', 'de', 'Supélec', 'qui', 'lont', 'traité', 'de', 'tête', 'de', 'cake'], 'A2'], [['»', 'à', 'ses', 'proches'], 'A2'], [['À', 'cette', 'occasion', 'les', 'parents', 'cachent', 'des', 'oeufs', 'en', 'chocolat', 'dans', 'la', 'maison', 'et', 'le', 'jardin', 'et', 'les', 'enfants', 'samusent', 'à', 'les', 'chercher'], 'A2'], [['A', 'gauche', 'c’', 'est', 'ma', 'salle', 'de', 'bain', 'avec', 'vue', 'sur', 'mon', 'jardin'], 'A2'], [['A', 'l’', 'intérieur', 'de', 'ma', 'maison', 'il', 'y', 'a', 'un', 'grand', 'salon', 'avec', 'une', 'table', 'et', 'quatre', 'chaises', 'pour', 'accueillir', 'mes', 'amis'], 'A2'], [['À', 'midi', 'c’', 'est', 'l’', 'heure', 'de', 'déjeuner'], 'A2'], [['Adolescent', 'je', 'voulais', 'devenir', 'pompier'], 'A2'], [['Alors', 'le', 'Salon', 'du', 'Chocolat', 'est', 'lévénement', 'à', 'ne', 'pas', 'manquer'], 'A2'], [['Après', 'son', 'repas', 'il', 'retourne', 'à', 'la', 'salle', 'de', 'bain', 'pour', 'se', 'brosser', 'les', 'dents', 'et', 'pour', 'aller', 'aux', 'toilettes'], 'A2'], [['Au', 'début', 'ça', 'a', 'été', 'très', 'compliqué', 'à', 'mettre', 'en', 'place', 'en', 'fin', 'de', 'compte'], 'A2'], [['Au', 'moment', 'de', 'payer', 'notre', 'petit', 'garçon', 'est', 'toujours', 'volontaire'], 'A2'], [['Aujourdhui', 'cest', 'une', 'tarte', 'aux', 'framboises', 'avec', 'de', 'la', 'confiture', 'faite', 'maison'], 'A2'], [['Aujourd’hui', 'je', 'vais', 'te', 'présenter', 'ma', 'famille'], 'A2'], [['Autour', 'du', 'chef', 'David', 'Le', 'Quellec', 'vingtcinq', 'cuisiniers', 'préparent', 'les', 'trois', 'menus', 'différents', 'du', 'jour'], 'A2'], [['Avec', '600', 'repas', 'à', 'servir', 'en', 'une', 'heure', 'aucune', 'place', 'à', 'limprovisation'], 'A2'], [['Avec', 'deux', 'jeunes', 'mecs', 'encore', 'en', 'fac', 'qui', 'chantent', 'tous', 'les', 'soirs', 'au', 'Caveau', 'de', 'la', 'Bolec'], 'A2'], [['Avezvous', 'des', 'déclarations', 'à', 'faire', 'à', 'ce', 'sujet'], 'A2'], [['Cest', 'dans', 'cette', 'station', 'balnéaire', 'de', 'Normandie', 'qua', 'lieu', 'chaque', 'année', 'depuis', '1975', 'le', 'Festival', 'du', 'Cinéma', 'Américain'], 'A2'], [['Cest', 'notre', 'petite', 'tradition', 'à', 'nous', 'cinq'], 'A2'], [['Cest', 'parce', 'quil', 'naimait', 'pas', 'les', 'plats', 'de', 'la', 'cantine'], 'A2'], [['C’', 'est', 'déjà', 'le', 'lundi', 'et', 'toute', 'la', 'semaine', 'recommence'], 'A2'], [['C’', 'est', 'ici', 'que', 'je', 'cuisine', 'des', 'gâteaux', 'et', 'des', 'pâtisseries'], 'A2'], [['C’', 'est', 'la', 'commémoration', 'c’', 'estàdire', 'la', 'fête', 'anniversaire', 'de', 'la', 'fin', 'de', 'la', 'Seconde', 'Guerre', 'mondiale'], 'A2'], [['C’', 'est', 'le', 'plat', 'préféré', 'de', 'Manon'], 'A2'], [['C’', 'est', 'une', 'fête', 'chrétienne', 'qui', 'célèbre', 'la', 'naissance', 'de', 'Jésus'], 'A2'], [['Ce', 'jourlà', 'on', 'offre', 'traditionnellement', 'du', 'muguet', 'une', 'petite', 'fleur', 'blanche', 'à', 'ses', 'proches'], 'A2'], [['Ce', 'qui', 'devait', 'être', 'une', 'tâche', 'facile', 'se', 'complique', 'quand', 'lune', 'des', 'filles', 'du', 'gendarme', 'savère', 'être', 'une', 'des', 'nudistes'], 'A2'], [['Ce', 'rendezvous', 'des', 'gourmands', 'et', 'des', 'passionnés', 'de', 'chocolat', 'a', 'lieu', 'tous', 'les', 'ans', 'entre', 'fin', 'octobre', 'et', 'début', 'novembre', 'à', 'Paris'], 'A2'], [['Ce', 'sont', 'des', 'jours', 'fériés', 'c’', 'estàdire', 'des', 'jours', 'pendant', 'lesquels', 'on', 'ne', 'travaille', 'pas'], 'A2'], [['Ce', 'sont', 'elles', 'qui', 'les', 'comptent', 'et', 'les', 'mettent', 'dans', 'notre', 'panier'], 'A2'], [['Certaines', 'fêtes', 'sont', 'civiles', 'et', 'd’', 'autre', 'sont', 'd’', 'origine', 'religieuses'], 'A2'], [['Chaque', 'jour', 'Alice', 'se', 'lève', 'vers', 'six', 'heures', 'et', 'prend', 'un', 'petitdéjeuner', 'composé', 'de', 'pain', 'de', 'fromage', 'et', 'd’', 'œufs'], 'A2'], [['Chaque', 'soir', 'j’', 'accompagne', 'ma', 'mère', 'en', 'vélo', 'pour', 'faire', 'une', 'promenade', 'dans', 'le', 'parc', 'avec', 'notre', 'chien', 'Snowy'], 'A2'], [['Clément', 'et', 'Manon', 'ont', 'très', 'faim', 'et', 'la', 'pendule', 'du', 'salon', 'sonne', 'midi'], 'A2'], [['Comment', 'tu', 'as', 'trouvé', 'le', 'repas', 'de', 'ce', 'midi'], 'A2'], [['Côté', 'magasins', 'on', 'peut', 'trouver', 'de', 'tout', 'dans', 'un', 'centre', 'commercial', ' ', 'hypermarchés', 'pour', 'faire', 'ses', 'courses', 'boutiques', 'de', 'vêtements', 'et', 'de', 'sport', 'librairies', 'etc'], 'A2'], [['David', 'lui', 'va', 'à', 'l’', 'école', 'le', 'mercredi', 'matin'], 'A2'], [['De', 'longues', 'heures', 's’', 'enchaînent', 'pendant', 'lesquelles', 'Alice', 'et', 'ses', 'camarades', 'apprennent', 'de', 'nouvelles', 'choses'], 'A2'], [['Découvrez', 'les', 'plus', 'beaux', 'monuments', 'de', 'la', 'capitale'], 'A2'], [['Déjà', 'les', 'premières', '6', 'représentations', 'annulées'], 'A2'], [['Demain', 'jai', 'été', 'fêter', 'mon', 'anniversaire'], 'A2'], [['Depuis', '127', 'ans', 'le', 'plus', 'célèbre', 'cabaret', 'du', 'monde', 'colore', 'les', 'nuits', 'blanches', 'de', 'la', 'capitale', 'de', 'ses', 'strass', 'et', 'ses', 'paillettes'], 'A2'], [['Depuis', 'un', 'an', 'mon', 'mari', 'Cédric', 'nos', 'trois', 'enfants', 'et', 'moi', 'allons', 'au', 'marché', 'tous', 'ensemble', 'le', 'dimanche', 'matin'], 'A2'], [['Des', 'feux', 'd’', 'artifices', 'et', 'des', 'défilés', 'militaires', 'sont', 'organisés'], 'A2'], [['Donc', 'juste', 'dans', 'ma', 'zone', 'personnelle', 'donc', 'je', 'fais', 'la', 'mise', 'en', 'place', 'pour', 'une', 'centaine', 'de', 'clients', 'ce', 'soir'], 'A2'], [['Elle', 'célèbre', 'la', 'prise', 'de', 'la', 'Bastille', 'qui', 'a', 'eu', 'lieu', 'le', '14', 'juillet', '1789'], 'A2'], [['Elle', 'est', 'plus', 'jolie', 'que', 'celle', 'que', 'j’', 'avais', 'avant'], 'A2'], [['Elle', 'fais', 'ses', 'devoirs', 'puis', 'prépare', 'le', 'dîner', 'et', 'finalement', 'elle', 'regarde', 'un', 'film', 'avant', 'daller', 'se', 'coucher'], 'A2'], [['Elle', 'joue', 'du', 'violon', 'comme', 'un', 'grand', 'artiste'], 'A2'], [['Elle', 'partage', 'un', 'appartement', 'avec', 'deux', 'garçons'], 'A2'], [['Elle', 'se', 'situe', 'au', 'bout', 'du', 'couloir', 'à', 'droite'], 'A2'], [['Elle', 'vient', 'avec', 'son', 'mari', 'et', 'mes', 'cousins', 'Lionel', 'et', 'Marcel'], 'A2'], [['En', 'effet', 'même', 'si', 'vous', 'ne', 'souhaitez', 'pas', 'acheter', 'quelque', 'chose', 'il', 'est', 'toujours', 'intéressant', 'de', 'passer', 'du', 'temps', 'dans', 'les', 'centres', 'commerciaux'], 'A2'], [['En', 'été', 'comme', 'en', 'hiver', 'les', 'gens', 'se', 'bousculent', 'dans', 'ces', 'endroits', 'fantastiques', 'remplis', 'de', 'boutiques', 'variées', 'et', 'danimations', 'diverses'], 'A2'], [['En', 'France', 'il', 'y', 'a', 'au', 'total', '11', 'fêtes', 'pendant', 'l’', 'année'], 'A2'], [['Et', 'toi', 'quand', 'estce', 'que', 'tu', 'rentres', 'à', 'Tours'], 'A2'], [['Étranger', 'toujours', 'À', 'Paris', 'Jacques', 'Chirac', 'a', 'remis', 'un', 'chèque', 'aux', 'jeunes', 'de', 'la', 'fac', 'de', 'IESSEC'], 'A2'], [['Hier', 'je', 'suis', 'allé', 'au', 'cinema'], 'A2'], [['Ici', 'il', 'fait', 'beau', 'et', 'chaud'], 'A2'], [['Il', 'a', 'un', 'appartement'], 'A2'], [['Il', 'agite', 'son', 'petit', 'nez', 'rose', 'quand', 'il', 'me', 'voit', 'Ma', 'grandmère', 'fait', 'des', 'gâteaux', 'tous', 'les', 'jours'], 'A2'], [['Il', 'doit', 'étudier', 'et', 'écrire', 'pendant', 'quatre', 'heures', 'le', 'matin', 'et', 'il', 'ne', 'peut', 'se', 'reposer', 'que', 'vingt', 'minutes', 'au', 'moment', 'de', 'la', 'récréation', 'à', 'dix', 'heures', 'du', 'matin'], 'A2'], [['Il', 'doit', 'se', 'dépêcher', 'pour', 'ne', 'pas', 'être', 'en', 'retard', 'à', 'l’', 'école'], 'A2'], [['Il', 'est', 'interdit', 'de', 'fumer'], 'A2'], [['Il', 'est', 'intéressant', 'de', 'noter', 'que', 'jusquen', '1995', 'le', 'Festival', 'de', 'Deauville', 'nétait', 'pas', 'compétitif'], 'A2'], [['Il', 'faisait', 'toujours', 'très', 'beau', 'et', 'surtout', 'très', 'chaud'], 'A2'], [['Il', 'fait', 'très', 'beau'], 'A2'], [['Il', 'faut', 'alors', 'prendre', 'le', 'métro', 'durant', 'vingt', 'minutes', 'avant', 'darriver', 'devant', 'lécole'], 'A2'], [['Il', 'faut', 'du', 'temps', 'et', 'du', 'courage', 'pour', 'soigner', 'toute', 'cette', 'ménagerie', 'En', 'plus', 'des', 'animaux', 'il', 'faut', 'aussi', 'soccuper', 'du', 'potager', 'de', 'mon', 'papy'], 'A2'], [['Il', 'naime', 'pas', 'donner', 'les', 'billets', 'de', 'vingt', 'ou', 'de', 'cinquante', 'euros'], 'A2'], [['Il', 'pensait', 'quun', 'chef', 'pouvait', 'manger', 'des', 'pizzas', 'et', 'des', 'frites', 'tous', 'les', 'jours'], 'A2'], [['Il', 'pleurait', 'à', 'chaque', 'fois'], 'A2'], [['Il', 'préfère', 'quand', 'les', 'sommes', 'ne', 'sont', 'pas', 'arrondies'], 'A2'], [['Il', 'reste', 'au', 'lit', 'un', 'quart', 'd’', 'heure', 'dans', 'le', 'noir', 'avant', 'de', 'se', 'lever', 'pour', 'faire', 'durer', 'la', 'nuit'], 'A2'], [['Il', 'sait', 'écrire', 'son', 'nom'], 'A2'], [['Il', 'travaille', 'en', 'ville'], 'A2'], [['Il', 'va', 'à', 'l’', 'école', 'des', 'petits'], 'A2'], [['Il', 'veut', 'aller', 'à', 'la', 'montagne'], 'A2'], [['Il', 'y', 'a', 'aussi', 'quelques', 'arbres', 'fruitiers', 'comme', 'un', 'cerisier', 'un', 'pommier', 'un', 'abricotier'], 'A2'], [['Il', 'y', 'a', 'des', 'régions', 'où', 'les', 'enfants', 'ne', 'vont', 'pas', 'à', 'l’', 'école', 'le', 'mercredi'], 'A2'], [['Ils', 'décident', 'd’', 'aller', 'au', 'marché', 'pour', 'acheter', 'les', 'ingrédients', 'qu’', 'ils', 'vont', 'cuisiner'], 'A2'], [['Ils', 'mettent', 'tous', 'leurs', 'achats', 'dans', 'un', 'grand', 'sac', 'puis', 'ils', 'rentrent', 'dans', 'leur', 'maison'], 'A2'], [['Ils', 'ont', 'besoin', 'd’', 'une', 'salade', 'verte', 'de', '6', 'tomates', 'de', '3', 'œufs', 'de', 'crème', 'fraiche', 'et', 'de', 'jambon'], 'A2'], [['Ils', 'ont', 'des', 'étoiles', 'plein', 'les', 'yeux'], 'A2'], [['Ils', 'ont', 'deux', 'enfants', ' ', 'un', 'fils', 'qui', 's’', 'appelle', 'André', 'et', 'une', 'fille', 'qui', 'est', 'très', 'gentille'], 'A2'], [['Ils', 'prennent', 'donc', 'leur', 'voiture', 'rouge', 'et', 'conduisent', 'jusqu’', 'à', 'la', 'place', 'du', 'village'], 'A2'], [['Ils', 'sont', 'trop', 'mignons', 'Mon', 'préféré', 'est', 'noir', 'et', 'blanc', 'et', 'il', 'sappelle'], 'A2'], [['Ils', 'vont', 'cuisiner', 'une', 'quiche', 'lorraine', 'pour', 'le', 'repas'], 'A2'], [['Jadore', 'la', 'cuisine', 'ici'], 'A2'], [['Jadore', 'passer', 'du', 'temps', 'avec', 'connaît', 'le', 'nom', 'des', 'plantes', 'et', 'il', 'sait', 'reconnaître', 'les', 'champignons', 'comestibles'], 'A2'], [['Jai', 'adoré', 'le', 'repas'], 'A2'], [['Jai', 'bien', 'aimé', 'le', 'film'], 'A2'], [['Jai', 'bien', 'reçu', 'ton', 'message'], 'A2'], [['Jai', 'connu', 'mon', 'pays', 'sous', 'un', 'soleil', 'flambant'], 'A2'], [['Jai', 'de', 'la', 'chance', 'davoir', 'vu', 'le', 'spectacle', 'plus', 'de', '500', 'fois'], 'A2'], [['Jai', 'eu', 'très', 'peur'], 'A2'], [['Jai', 'trouvé', 'les', 'personnages', 'sympathiques'], 'A2'], [['Jaime', 'bien', 'ce', 'film', 'de', '1964', 'parce', 'que', 'jaime', 'bien', 'les', 'comédies'], 'A2'], [['Jattends', 'ta', 'réponse'], 'A2'], [['Jespère', 'que', 'tu', 'passes', 'des', 'vacances', 'extraordinaires'], 'A2'], [['Jétais', 'donc', 'lycéen', 'et', 'pompier', 'à', 'la', 'fois'], 'A2'], [['Jétais', 'fier'], 'A2'], [['J’', 'ai', 'décidé', 'de', 'peindre', 'les', 'murs', 'en', 'jaune', 'et', 'd’', 'y', 'installer', 'mon', 'piano'], 'A2'], [['J’', 'ai', 'un', 'garage', 'pour', 'ma', 'voiture', 'et', 'pour', 'mon', 'vélo'], 'A2'], [['J’', 'aime', 'beaucoup', 'toute', 'ma', 'famille'], 'A2'], [['Je', 'lai', 'revu', 'depuis', 'noyé', 'de', 'carburant'], 'A2'], [['Je', 'les', 'ai', 'vues', 'devant', 'la', 'pharmacie'], 'A2'], [['Je', 'mappelle', 'Camille', 'et', 'quand', 'jétais', 'enfant', 'javais', 'des', 'rêves', 'plein', 'la', 'tête'], 'A2'], [['Je', 'm’', 'appelle', 'Laurent', 'et', 'j’', 'habite', 'à', 'Paris', 'avec', 'mes', 'parents', 'ma', 'sœur', 'ainée', 'et', 'mon', 'frère'], 'A2'], [['Je', 'me', 'disais', 'alors', 'que', 'je', 'voulais', 'aussi', 'combattre', 'pour', 'la', 'justice'], 'A2'], [['Je', 'me', 'sens', 'très', 'bien', 'dans', 'ma', 'nouvelle', 'maison'], 'A2'], [['Je', 'ne', 'pourrai', 'pas', 'venir', 'demain', 'avec', 'toi', 'faire', 'du', 'vélo'], 'A2'], [['Je', 'ne', 'sais', 'pas', 'si', 'jai', 'assez', 'dargent', 'pour', 'vous', 'accompagner'], 'A2'], [['Je', 'ne', 'vais', 'pas', 'très', 'vite', 'mais', 'il', 'ralentit', 'toujours', 'pour', 'moi'], 'A2'], [['Je', 'pars', 'avec', 'ma', 'copine', 'Igora', 'dans', 'le', 'nord', 'du', 'pays', 'faire', 'du', 'camping'], 'A2'], [['Je', 'peins', 'des', 'tableaux', 'dans', 'mon', 'studio'], 'A2'], [['Je', 'suis', 'bien', 'arrivé', 'à', 'Londres'], 'A2'], [['Je', 'tai', 'attendu', '1', 'heure', 'devant', 'le', 'cinéma', 'dans', 'le', 'froid'], 'A2'], [['Je', 'técris', 'de', 'chez', 'mes', 'grandsparents', 'à', 'lAigle', 'en', 'Normandie', 'où', 'je', 'passe', 'de', 'super', 'vacances', 'depuis', 'maintenant', 'une', 'semaine'], 'A2'], [['Je', 'te', 'dis', 'à', 'très', 'bientôt', 'pour', 'une', 'rentrée', 'des', 'classes', 'en', 'pleine', 'forme', 'Le', 'matin', 'Théo', 'se', 'lève', 'à', 'six', 'heures'], 'A2'], [['Je', 'te', 'donne', 'ma', 'réponse', 'demain'], 'A2'], [['Je', 'te', 'propose', 'un', 'rendezvous', 'à', '20', 'heures', 'au', 'bar'], 'A2'], [['Je', 'te', 'téléphone', 'à', 'mon', 'retour', 'à', 'Paris'], 'A2'], [['Je', 'vais', 'à', 'l’', 'école', 'pendant', 'la', 'journée'], 'A2'], [['Je', 'vais', 'chez', 'le', 'dentiste', 'laprèsmidi', 'mais', 'je', 'suis', 'libre', 'le', 'soir'], 'A2'], [['Je', 'vais', 'copier', 'la', 'recette', 'pour', 'pouvoir', 'te', 'faire', 'goûter'], 'A2'], [['Je', 'viens', 'd’', 'emménager', 'dans', 'ma', 'nouvelle', 'maison'], 'A2'], [['Je', 'visite', 'tous', 'les', 'musées', 'demain'], 'A2'], [['Je', 'voudrais', 'prendre', 'des', 'cours', 'de', 'karaté', 'parce', 'que', 'jai', 'un', 'peu', 'peur', 'quand', 'je', 'suis', 'seule', 'le', 'soir'], 'A2'], [['Je', 'voulais', 'être', 'professeur', 'et', 'enseigner', 'les', 'mathématiques'], 'A2'], [['Je', 'voulais', 'être', 'professeur', 'et', 'enseigner', 'les', 'mathématiques'], 'A2'], [['Je', 'voulais', 'poursuivre', 'les', 'criminels', 'et', 'défendre', 'les', 'gentils'], 'A2'], [['Laprèsmidi', 'Alice', 'va', 'nager', 'à', 'la', 'piscine'], 'A2'], [['Lhistoire', 'de', 'ce', 'livre', 'est', 'incroyable'], 'A2'], [['La', 'cloche', 'de', 'l’', 'école', 'sonne', 'à', 'quatorze', 'heures', 'pour', 'que', 'tout', 'le', 'monde', 'retourne', 'en', 'classe', 'jusqu’', 'à', 'dixsept', 'heures'], 'A2'], [['La', 'cuisine', 'est', 'la', 'pièce', 'préférée', 'de', 'ma', 'maison'], 'A2'], [['La', 'journée', 'est', 'longue', 'pour', 'David', 'qui', 'attend', 'le', 'samedi', 'toute', 'la', 'semaine'], 'A2'], [['La', 'journée', 'est', 'longue', 'pour', 'lui'], 'A2'], [['La', 'journée', 'n’', 'est', 'pas', 'fini', 'pour', 'Théo', 'qui', 'doit', 'rentrer', 'à', 'la', 'maison', 'pour', 'faire', 'ses', 'devoirs'], 'A2'], [['La', 'langue', 'anglaise', 'crée', 'environ', '20000', 'nouveaux', 'mots', 'chaque', 'année'], 'A2'], [['La', 'pollution', 'je', 'dis', 'non', 'mais', 'à', 'la', 'vie', 'je', 'dis', 'oui', 'oui'], 'A2'], [['La', 'route', 'était', 'longue', 'entre', 'Paris', 'et', 'Valras', 'le', 'voyage', 'durait', 'environ', 'six', 'heures'], 'A2'], [['La', 'semaine', 'je', 'me', 'lève', 'à', 'six', 'heures', 'du', 'matin', 'et', 'mon', 'mari', 'à', 'huit', 'heures'], 'A2'], [['Le', '14', 'juillet', 'est', 'la', 'fête', 'nationale', 'française'], 'A2'], [['Ma', 'nouvelle', 'maison', 'est', 'blanche', 'avec', 'des', 'volets', 'bleus', 'et', 'des', 'fleurs', 'rouges'], 'A2'], [['Ma', 'sœur', 'ainée', 'a', '14', 'ans'], 'A2'], [['Ma', 'tante', 'Marcelline', 'habite', 'près', 'de', 'chez', 'eux'], 'A2'], [['mais', 'aussi', 'des', 'fraisiers', ' ', 'je', 'me', 'régale', 'et', 'je', 'fais', 'le', 'plein', 'de', 'vitamines', 'Jespère', 'que', 'tu', 'passes', 'de', 'bonnes', 'vacances', 'à', 'Limoges'], 'A2'], [['Mais', 'la', 'musique', 'ma', 'donné', 'mal', 'à', 'la', 'tête'], 'A2'], [['Mais', 'le', 'marché', 'est', 'loin', 'de', 'leur', 'maison', 'et', 'ils', 'ne', 'peuvent', 'pas', 'y', 'aller', 'à', 'pied'], 'A2'], [['Mais', 'le', 'monde', 'ne', 'fonctionne', 'pas', 'toujours', 'ainsi'], 'A2'], [['Mais', 'le', 'weekend', 'nous', 'nous', 'levons', 'tous', 'les', 'deux', 'à', 'neuf', 'heures'], 'A2'], [['Mais', 'ma', 'plus', 'grande', 'passion', 'cest', 'lart'], 'A2'], [['Mais', 'ma', 'plus', 'grande', 'passion', 'cest', 'lart'], 'A2'], [['On', 'le', 'fête', 'avec', 'ses', 'amis', 'ou', 'sa', 'famille', 'et', 'on', 'souhaite', '«', 'bonne', 'année'], 'A2'], [['On', 'partait', 'de', 'bonne', 'heure', 'pour', 'ne', 'pas', 'être', 'coincés', 'dans', 'les', 'embouteillages'], 'A2'], [['Parfois', 'Jallais', 'me', 'mouiller', 'un', 'peu', 'puis', 'je', 'revenais', 'sécher', 'au', 'soleil'], 'A2'], [['Parfois', 'ma', 'grandmère', 'Marie', 'l’', 'invite', 'à', 'la', 'maison', 'pour', 'le', 'déjeuner'], 'A2'], [['Pendant', 'les', 'grandes', 'vacances', 'nous', 'allons', 'à', 'la', 'campagne', 'chez', 'mes', 'grandsparents'], 'A2'], [['Pendant', 'que', 'la', 'salle', 'se', 'remplit', 'petit', 'à', 'petit', 'un', 'étage', 'endessous', 'cest', 'leffervescence'], 'A2'], [['Pendant', 'une', 'heure', 'et', 'demie', 'Théo', 'peut', 'penser', 'à', 'autre', 'chose', 'qu’', 'à', 'l’', 'école', 'et', 's’', 'amuser', 'avec', 'ses', 'amis'], 'A2'], [['Pile', 'au', 'moment', 'où', 'on', 'a', 'le', 'plus', 'besoin', 'de', 'réconfort'], 'A2'], [['Pour', 'aller', 'dans', 'ma', 'chambre', 'je', 'dois', 'monter', 'un', 'escalier'], 'A2'], [['Pour', 'moi', 'les', 'médecins', 'et', 'les', 'infirmières', 'sont', 'des', 'héros', 'sans', 'costume'], 'A2'], [['Pour', 'se', 'détendre', 'Théo', 'prend', 'souvent', 'un', 'bain', 'le', 'soir', 'avant', 'de', 'jouer', 'encore', 'un', 'peu', 'et', 'd’', 'aller', 'dormir'], 'A2'], [['Pourtant', 'quand', 'on', 'était', 'petits', 'il', 'détestait', 'aller', 'chez', 'le', 'dentiste'], 'A2'], [['Préfèrestu', 'aller', 'au', 'théâtre'], 'A2'], [['Puis', 'je', 'donne', 'à', 'manger', 'aux', 'lapins'], 'A2'], [['Puis', 'je', 'voulais', 'devenir', 'docteur', 'pour', 'soigner', 'les', 'malades'], 'A2'], [['Puis', 'plus', 'grand', 'je', 'découvrais', 'les', 'métiers', 'de', 'policier', 'et', 'davocat', 'dans', 'un', 'film'], 'A2'], [['Quand', 'je', 'faisais', 'mes', 'valises', 'je', 'prenais', 'toujours', 'mon', 'maillot', 'de', 'bain', 'rouge', 'mon', 'sac', 'de', 'plage', 'mes', 'lunettes', 'de', 'soleil', 'et', 'mon', 'journal', 'intime'], 'A2'], [['Quand', 'les', 'clients', 'viennent', 'on', 'a', 'limpression', 'quils', 'viennent', 'dans', 'un', 'endroit', 'féerique'], 'A2'], [['Sa', 'femme', 'Maryse', 'est', 'institutrice'], 'A2'], [['Si', 'nous', 'devons', 'payer', 'soixantedeux', 'euros', 'et', 'quatrevingtcinq', 'centimes', 'chez', 'le', 'boucher', 'par', 'exemple', 'il', 'est', 'content'], 'A2'], [['Souvent', 'le', 'soir', 'il', 'pratique', 'une', 'activité', 'musicale', ' ', 'le', 'piano'], 'A2'], [['Souvent', 'nous', 'achetons', 'aussi', 'seize', 'tomates', 'vingtcinq', 'bananes', 'environ', 'dixhuit', 'abricots', 'et', 'douze', 'œufs'], 'A2'], [['Soyez', 'les', 'bienvenus', 'sur', 'le', 'site', 'Internet', 'des', 'Bateaux', 'de', 'Paris'], 'A2'], [['Tanguy', 'ne', 'veut', 'pas', 'aller', 'à', 'la', 'mer', 'le', 'mois', 'prochain'], 'A2'], [['Théo', 'vérifie', 'qu’', 'il', 'a', 'bien', 'fait', 'son', 'lit', 'avant', 'de', 's’', 'habiller', 'et', 'de', 'partir', 'à', 'l’', 'école'], 'A2'], [['Tous', 'les', 'matins', 'il', 'suit', 'la', 'même', 'routine', ' ', 'il', 'commence', 'par', 'se', 'laver', 'le', 'visage', 'avant', 'de', 'prendre', 'une', 'douche'], 'A2'], [['Tout', 'le', 'monde', 'aime', 'les', 'centres', 'commerciaux'], 'A2'], [['Tout', 'le', 'monde', 'aime', 'les', 'centres', 'commerciaux'], 'A2'], [['Tu', 'amenais', 'tes', 'poupées', 'et', 'on', 'les', 'baignait', 'dans', 'la', 'mer'], 'A2'], [['Tu', 'as', 'eu', 'des', 'nouvelles', 'de', 'Marie'], 'A2'], [['Tu', 'es', 'encore', 'fâché', 'contre', 'Jean'], 'A2'], [['Tu', 'étais', 'ma', 'meilleure', 'amie', 'et', 'tu', 'avais', 'toujours', 'plein', 'de', 'bonnes', 'idées', 'pour', 'samuser'], 'A2'], [['Tu', 'faisais', 'des', 'châteaux', 'de', 'sable', 'et', 'tu', 'mettais', 'des', 'coquillages', 'sur', 'les', 'tours'], 'A2'], [['Tu', 'vas', 'tinscrire', 'dans', 'quelle', 'faculté', 'en', 'septembre'], 'A2'], [['Tu', 'veux', 'du', 'sucre', 'dans', 'ton', 'café'], 'A2'], [['Un', 'reportage', 'dans', 'les', 'coulisses', 'de', 'cette', 'revue', 'célèbre', 'évidemment', 'partout', 'dans', 'le', 'monde'], 'A2'], [['Une', 'fois', 'qu’', 'il', 'a', 'tout', 'fini', 'Théo', 'peut', 'enfin', 'aller', 'jouer', 'et', 's’', 'amuser', 'avant', 'de', 'dîner', 'avec', 'ses', 'parents'], 'A2'], [['Une', 'heure', 'plus', 'tard', 'Clément', 'et', 'Manon', 'dégustent', 'leur', 'déjeuner', 'bien', 'mérité'], 'A2'], [['Une', 'mission', 'très', 'pénible', 'pour', 'nos', 'envoyés', 'spéciaux', 'sur', 'place', 'Nicolas', 'George', 'et', 'Martin', 'van', 'der', 'Bossche'], 'A2'], [['Une', 'page', 'culture', 'de', 'circonstance', 'en', 'ce', '31', 'décembre', 'festif', 'la', 'féerie', 'de', 'la', 'grande', 'revue', 'du', 'Moulin', 'Rouge', 'à', 'Paris'], 'A2'], [['Voici', 'les', 'principales'], 'A2'], [['Vous', 'nenvisagez', 'pas', 'la', 'vie', 'sans', 'votre', 'tablette', 'quotidienne'], 'A2'], [['Vous', 'ne', 'pouvez', 'pas', 'commencer', 'votre', 'journée', 'sans', 'votre', 'bol', 'de', 'chocolat', 'chaud'], 'A2'], [['Vous', 'ne', 'risquerez', 'pas', 'de', 'vous', 'ennuyer', 'dans', 'un', 'lieu', 'aussi', 'animé'], 'A2'], [['Vous', 'ne', 'risquerez', 'pas', 'de', 'vous', 'ennuyer', 'dans', 'un', 'lieu', 'aussi', 'animé'], 'A2'], [['À', 'midi', 'il', 'prend', 'un', 'sandwich', 'dans', 'un', 'café'], 'B1'], [['A', 'til', 'parlé', 'dastuces', 'pratiques', 'pour', 'un', 'bienêtre', 'quotidien', 'et', 'dun', 'questionnement', 'philosophique', 'sur', 'cette', 'quête', 'de', 'limpossible'], 'B1'], [['Ainsi', 'les', 'salons', 'se', 'parent', 'de', 'bougies', 'et', 'de', 'sapins'], 'B1'], [['Après', 'lambiance', 'de', 'luxe', 'ici', 'cest', 'comme', 'un', 'tranquille', 'village'], 'B1'], [['Après', 'un', 'trajet', 'en', 'bus', 'il', 'est', 'heureux', 'de', 'retrouver', 'la', 'mer'], 'B1'], [['Après', 'une', 'marche', 'sur', 'les', 'ChampsÉlysées', 'je', 'suis', 'au', 'pied', 'de', 'la', 'Tour', 'Eiffel'], 'B1'], [['Au', 'deuxième', 'étage', 'il', 'y', 'a', 'un', 'bureau', 'et', 'deux', 'chambres', 'dont', 'la', 'sienne'], 'B1'], [['Au', 'fil', 'des', 'pages', 'il', 'propose', 'des', 'méthodes', 'simples', 'et', 'efficaces', 'pour', 'manger', 'toujours', 'plus', 'et', 'sans', 'le', 'moindre', 'scrupule'], 'B1'], [['Au', 'premier', 'étage', 'il', 'y', 'a', 'trois', 'chambres'], 'B1'], [['Au', 'rezdechaussée', 'il', 'y', 'a', 'un', 'salon', 'avec', 'un', 'piano', 'une', 'salleàmanger', 'une', 'cuisine', 'spacieuse', 'et', 'jaune', 'et', 'une', 'salle', 'de', 'bain'], 'B1'], [['Au', 'soussol', 'il', 'y', 'a', 'une', 'cave', 'pour', 'ranger', 'le', 'vin'], 'B1'], [['Au', 'total', 'on', 'estime', 'que', 'depuis', 'sa', 'construction', 'plus', 'de', '300', 'millions', 'de', 'personnes', 'ont', 'visité', 'la', 'tour', 'Eiffel'], 'B1'], [['Aujourdhui', 'avec', 'ma', 'famille', 'mes', 'parents', 'et', 'mon', 'frère', 'nous', 'sommes', 'allés', 'au', 'marché', 'de', 'Noël', 'cétait', 'vraiment', 'incroyable'], 'B1'], [['Avant', 'de', 'boire', 'une', 'tasse', 'de', 'café', 'il', 'faut', 'faire', 'pousser', 'le', 'plan', 'de', 'café', 'le', 'récolter', 'le', 'transporter', 'lemballer', 'le', 'vendre', 'et', 'le', 'préparer'], 'B1'], [['Avec', 'les', 'prévisions', 'météo', 'on', 'peut', 'savoir', 'quel', 'temps', 'il', 'fera', 'le', 'soir', 'le', 'lendemain', 'ou', 'dans', 'la', 'semaine'], 'B1'], [['Bien', 'entendu', 'les', 'cadeaux', 'de', 'Noël', 'seront', 'déposés', 'uniquement', 'le', '24', 'décembre', 'au', 'soir', 'afin', 'de', 'permettre', 'le', 'déballage', 'le', 'lendemain', 'matin'], 'B1'], [['Bon', 'appétit', 'Jason'], 'B1'], [['Cest', 'injuste', 'On', 'ne', 'peut', 'pas', 'le', 'condamner', 'pour', 'la', 'faute', 'quil', 'a', 'commise'], 'B1'], [['Cest', 'le', 'quartier', 'des', 'beaux', 'magasins', 'et', 'des', 'produits', 'de', 'grandes', 'marques'], 'B1'], [['Cest', 'une', 'soupe', 'de', 'poissons', 'spécialité', 'de', 'Marseille'], 'B1'], [['Cest', 'vrai', 'quils', 'sont', 'très', 'bons', 'mais', 'jai', 'peur', 'quil', 'tombe', 'malade'], 'B1'], [['Cest', 'vraiment', 'génial', 'dêtre', 'en', 'ville', 'et', 'davoir', 'les', 'monuments', 'les', 'musées', 'et', 'la', 'plage', 'au', 'même', 'endroit'], 'B1'], [['C’', 'est', 'un', 'parc', 'où', 'les', 'gens', 'viennent', 'se', 'promener', 'en', 'famille', 'et', 'entre', 'amis'], 'B1'], [['C’', 'est', 'un', 'site', 'touristique', 'très', 'important', 'environ', '7', 'millions', 'de', 'touristes', 'visitent', 'la', 'tour', 'Eiffel', 'chaque', 'année'], 'B1'], [['Ce', 'sont', 'des', 'organes', 'internes', 'comme', 'le', 'cerveau', 'qui', 'est', 'logé', 'dans', 'la', 'tête'], 'B1'], [['Certaines', 'familles', 'ont', 'pour', 'tradition', 'de', 'déposer', 'des', 'biscuits', 'et', 'un', 'verre', 'de', 'lait', 'près', 'du', 'sapin', 'pour', 'remercier', 'le', 'père', 'noël'], 'B1'], [['Certains', 'familles', 'décorent', 'les', 'œufs', 'durs', 'en', 'peignant', 'leurs', 'coquilles', 'avec', 'des', 'teintes', 'vertes', 'ou', 'rouges'], 'B1'], [['Ces', 'chocolats', 'coulés', 'en', 'forme', 'd’', 'œufs', 'de', 'lapins', 'et', 'de', 'poules', 'sont', 'souvent', 'dispersés', 'dans', 'le', 'jardin', 'pour', 'être', 'retrouvés', 'par', 'les', 'plus', 'jeunes', ' ', 'c’', 'est', 'la', '«', 'chasse', 'aux', 'œufs', '»'], 'B1'], [['Cette', 'basilique', 'est', 'célèbre', 'à', 'Marseille', ' ', 'les', 'supporters', 'de', 'lOM', 'club', 'de', 'foot', 'de', 'Marseille', 'viennent', 'prier', 'pour', 'faire', 'gagner', 'leur', 'équipe'], 'B1'], [['Cette', 'eau', 'est', 'utilisée', 'pour', 'faire', 'pousser', 'les', 'culstures', 'ou', 'fabriquer', 'les', 'produits', 'de', 'notre', 'vie', 'de', 'tous', 'les', 'jours'], 'B1'], [['Cette', 'fête', 'est', 'encore', 'traditionnellement', 'fêtée', 'en', 'France', 'même', 'si', 'comme', 'pour', 'Noël', 'elle', 'a', 'souvent', 'perdu', 'son', 'aspect', 'religieux'], 'B1'], [['Cette', 'personne', 'que', 'tu', 'as', 'rencontrée', 'hier', 'au', 'restaurant', 'et', 'dont', 'tas', 'parlé', 'Paul', 'est', 'dangereuse'], 'B1'], [['Comme', 'cest', 'proche', 'de', 'la', 'maison', 'je', 'peux', 'y', 'aller', 'à', 'pied', 'c’', 'est', 'très', 'agréable'], 'B1'], [['comment', 'manger', 'en', 'permanence', 'et', 'de', 'préférence', 'des', 'mets', 'délicieux'], 'B1'], [['Dans', 'cette', 'attente', 'nous', 'restons', 'à', 'votre', 'disposition', 'pour', 'répondre', 'à', 'vos', 'questions', 'pas', 'téléphone', 'ou', 'via', 'notre', 'forum', 'Internet'], 'B1'], [['Dans', 'le', 'bureau', 'il', 'y', 'a', 'un', 'vélo', 'dappartement', 'des', 'haltères', 'et', 'un', 'stepper'], 'B1'], [['Dans', 'ma', 'famille', 'on', 'adore', 'goûter', 'les', 'spécialités', 'locales', 'alors', 'on', 'a', 'tout', 'essayé', 'de', 'la', 'choucroute', 'à', 'la', 'tarte', 'flambée', 'en', 'passant', 'par', 'les', 'kouglofs'], 'B1'], [['Demain', 'on', 'prévoit', 'de', 'faire', 'une', 'promenade', 'dans', 'le', 'quartier', 'de', 'la', 'Petite', 'France', 'il', 'paraît', 'que', 'cest', 'le', 'plus', 'beau', 'de', 'Strasbourg'], 'B1'], [['Des', 'chats', 'viennent', 'souvent', 'chasser', 'les', 'feuilles', 'qui', 'volent', 'au', 'vent'], 'B1'], [['Donnemoi', 'de', 'tes', 'nouvelles', 'plus', 'souvent'], 'B1'], [['Du', 'haut', 'de', 'cette', 'colline', 'la', 'vue', 'sur', 'Marseille', 'est', 'remarquable'], 'B1'], [['Du', 'haut', 'de', 'la', 'Tour', 'Eiffel', 'on', 'peut', 'voir', 'les', 'principaux', 'monuments', 'de', 'Paris', ' ', 'la', 'cathédrale', 'NotreDame', 'la', 'tour', 'Montparnasse', 'et', 'l’', 'arc', 'de', 'triomphe'], 'B1'], [['Durant', 'cette', 'période', 'les', 'chrétiens', 'ne', 'mangeaient', 'pas', 'de', 'viande', 'ni', 'de', 'plat', 'très', 'cher'], 'B1'], [['Elle', 'a', 'été', 'construite', 'par', 'Gustave', 'Eiffel', 'pour', 'l’', 'Exposition', 'universelle', 'de', 'Paris', 'de', '1889'], 'B1'], [['Elle', 'adore', 'mettre', 'sa', 'jupe', 'à', 'fleurs', 'et', 'un', 'chemisier', 'assorti', 'lorsqu’', 'il', 'fait', 'beau'], 'B1'], [['Elle', 'commémore', 'la', 'résurrection', 'de', 'Jésus', 'mais', 'fête', 'aussi', 'le', 'printemps'], 'B1'], [['Elle', 'était', 'selon', 'la', 'tradition', 'précédée', 'd’', 'une', 'période', 'de', 'jeûne', 'de', '40', 'jours', 'appelée', '«', 'Carême', '»'], 'B1'], [['Elle', 'préfère', 'aussi', 'mettre', 'un', 'pull', 'des', 'chaussettes', 'en', 'laine', 'des', 'bottes', 'et', 'ses', 'gants', 'pour', 'ne', 'pas', 'avoir', 'froid', 'aux', 'doigts'], 'B1'], [['Elle', 'sest', 'ensuite', 'élargie', 'à', 'dautres', 'établissements'], 'B1'], [['En', 'été', 'lorsqu’', 'il', 'fait', 'chaud', 'Lili', 'et', 'Marc', 'vont', 'à', 'plage', 'pendant', 'le', 'weekend'], 'B1'], [['En', 'France', 'le', 'début', 'des', 'vacances', 'est', 'souligné', 'par', 'les', 'soldes', 'dété'], 'B1'], [['En', 'France', 'Noël', 'est', 'un', 'moment', 'important'], 'B1'], [['En', 'général', 'les', 'français', 'optent', 'pour', 'des', 'sapins', 'en', 'pot', 'afin', 'de', 'prolonger', 'la', 'magie', 'du', 'moment'], 'B1'], [['En', 'hiver', 'elle', 'ne', 'sort', 'jamais', 'sans', 'son', 'parapluie', 'et', 'son', 'écharpe'], 'B1'], [['En', 'un', 'an', 'lempreinte', 'eau', 'dun', 'consommateur', 'fraçais', 'sélève', 'à', '1786', 'mettre', 'cube', 'deau', 'soit', 'le', 'contenu', 'de', 'deux', 'Boeing', '747'], 'B1'], [['En', 'visitant', 'la', 'cathédrale', 'NotreDame', 'de', 'Paris', 'je', 'pense', 'à', 'Quasimodo', 'personnage', 'du', 'roman', 'de', 'Victor', 'Hugo'], 'B1'], [['Encore', 'le', 'métro', 'et', 'je', 'contemple', 'la', 'splendide', 'façade', 'de', 'lOpéra', 'Garnier'], 'B1'], [['es', 'vacances', 'dété', 'en', 'France', 'durent', '6', 'semaines', 'et', 'ont', 'habituellement', 'lieu', 'entre', 'Juillet', 'et', 'Septembre'], 'B1'], [['Estce', 'que', 'ton', 'mari', 'et', 'tes', 'enfants', 'vont', 'bien'], 'B1'], [['Estce', 'que', 'tu', 'travailles', 'toujours', 'à', 'l’', 'agence', 'de', 'voyages'], 'B1'], [['Et', 'si', 'nous', 'allions', 'au', 'cinéma'], 'B1'], [['Félix', 'narrête', 'pas', 'de', 'manger', 'des', 'bredele', 'des', 'biscuits', 'spéciaux', 'd’', 'ici'], 'B1'], [['Hier', 'il', 'a', 'même', 'neigé'], 'B1'], [['Il', 'a', 'fait', 'construire', 'en', 'plus', 'une', 'belle', 'véranda', 'contenant', 'une', 'bibliothèque', 'pour', 'profiter', 'du', 'soleil', 'et', 'dune', 'vue', 'sur', 'le', 'jardin'], 'B1'], [['Il', 'aime', 'beaucoup', 'lire', 'surtout', 'le', 'soir', 'avant', 'de', 'dormir'], 'B1'], [['Il', 'enlève', 'ne', 'garde', 'pas', 'ses', 'chaussures', 'et', 'marche', 'longtemps', 'au', 'bord', 'de', 'leau'], 'B1'], [['Il', 'essaient', 'également', 'd’', 'être', 'plus', 'raisonnés', 'plus', 'généreux', 'moins', 'centrés', 'sur', 'euxmêmes'], 'B1'], [['Il', 'est', 'nécessaire', 'que', 'les', 'gens', 'soeint', 'conscients', 'de', 'limportance', 'de', 'lécologie'], 'B1'], [['Il', 'fait', 'très', 'froid', 'ici'], 'B1'], [['Il', 'fait', 'un', 'froid', 'incroyable', 'à', 'Moscou', 'mais', 'la', 'ville', 'est', 'superbe'], 'B1'], [['Il', 'fait', 'une', 'promenade', 'sur', 'le', 'Vieux', 'Port'], 'B1'], [['Il', 'faudrait', 'que', 'tu', 'lui', 'parles', 'de', 'ça', 'demain', 'en', 'réunion', 'et', 'que', 'tu', 'demandes', 'à', 'Adrian', 'de', 'menvoyer', 'une', 'photo', 'de', 'lui', 'et', 'la', 'traduction', 'du', 'contrat', 'en', 'croate'], 'B1'], [['Il', 'faut', 'savoir', 'que', 'les', 'étudiants', 'comme', 'les', 'travailleurs', 'attendent', 'ces', 'vacances', 'avec', 'impatiente'], 'B1'], [['Il', 'finit', 'sa', 'visite', 'devant', 'une', 'assiette', 'de', 'bouillabaisse'], 'B1'], [['Il', 'met', 'son', 'plus', 'beau', 'costume', 'et', 'son', 'chapeau'], 'B1'], [['Il', 'na', 'fallu', 'que', '12', 'ans', 'entre', '1999', 'et', '2011', 'pour', 'que', 'la', 'population', 'mondiale', 'passe', 'de', '6', 'à', '7', 'milliards', 'dhabitants'], 'B1'], [['Il', 'nest', 'pas', 'fatigué', 'et', 'décide', 'de', 'marcher', 'jusquà', 'Notre', 'Dame', 'de', 'la', 'Garde'], 'B1'], [['Il', 'passe', 'la', 'matinée', 'au', 'Mucem', 'qui', 'est', 'un', 'musée', 'récent', 'et', 'très', 'connu'], 'B1'], [['Il', 'renferme', 'le', 'foie', 'l’', 'estomac', 'les', 'reins', 'et', 'les', 'intestins'], 'B1'], [['Il', 'se', 'compose', 'du', 'thorax', 'et', 'de', 'labdomen', 'encore', 'appelé', 'ventre'], 'B1'], [['Il', 'se', 'sent', 'plus', 'à', 'l’', 'aise', 'avec', 'une', 'tenue', 'vestimentaire', 'classique'], 'B1'], [['Il', 'y', 'a', 'beaucoup', 'dattente', 'pour', 'les', 'ascenseurs', 'pour', 'monter', 'les', 'étages', 'mais', 'je', 'suis', 'enfin', 'au', 'sommet', 'et', 'peux', 'apprécier', 'la', 'vue', 'sur', 'Paris'], 'B1'], [['Il', 'y', 'a', 'beaucoup', 'de', 'pièces'], 'B1'], [['Il', 'y', 'a', 'des', 'marchands', 'de', 'poissons', 'et', 'cest', 'le', 'départ', 'de', 'nombreux', 'bateaux'], 'B1'], [['Il', 'y', 'a', 'leau', 'quon', 'consomme', 'en', 'pleine', 'conscience', 'en', 'la', 'voyant', 'couler', 'et', 'celle', 'que', 'lon', 'consomme', 'voire', 'que', 'lon', 'gâche', 'sans', 'le', 'savoir', 'elle', 'sappelle', 'leau', 'virtuelle'], 'B1'], [['Il', 'y', 'a', 'même', 'des', 'restaurants'], 'B1'], [['Ils', 'aiment', 'passer', 'des', 'journées', 'ensemble', 'au', 'bord', 'de', 'la', 'mer'], 'B1'], [['Ils', 'mangent', 'plus', 'simplement', 'en', 'évitant', 'les', 'sucreries', 'et', 'les', 'petits', 'plaisirs'], 'B1'], [['Ils', 'mettent', 'des', 'lunettes', 'de', 'soleil', 'une', 'belle', 'casquette', 'un', 'Tshirt', 'des', 'shorts', 'et', 'des', 'sandales'], 'B1'], [['Ils', 'parlent', 'encore', 'mieux', 'le', 'français', 'que', 'nous'], 'B1'], [['Ils', 'préfèrent', 'alors', 'rester', 'à', 'la', 'maison', 'et', 'profitent', 'du', 'temps', 'libre', 'pour', 'visiter', 'leurs', 'familles', 'ou', 'se', 'balader', 'en', 'ville'], 'B1'], [['Ils', 'se', 'sont', 'fait', 'des', 'copains', 'et', 'sont', 'heureux', 'de', 'vivre', 'en', 'France'], 'B1'], [['Jai', 'eu', 'une', 'réunion', 'hier', 'où', 'nous', 'avons', 'pris', 'plusieurs', 'décisions', 'avec', 'notre', 'partenaire', 'brésilien'], 'B1'], [['Jai', 'le', 'plaisir', 'de', 'vous', 'annoncer', 'que', 'votre', 'demande', 'dinscription', 'à', 'luniversité', 'de', 'Strasbourg', 'en', 'première', 'année', 'de', 'master', 'Sciences', 'et', 'Société', 'a', 'été', 'acceptée'], 'B1'], [['Jai', 'peur', 'quil', 'soit', 'parti', 'sans', 'laisser', 'dadresse'], 'B1'], [['Jespère', 'que', 'tu', 'vas', 'bien', 'et', 'que', 'tes', 'vacances', 'au', 'ski', 'se', 'passent', 'bien', 'aussi'], 'B1'], [['J’', 'ai', 'fait', 'de', 'gros', 'progrès', 'en', 'français', 'je', 'le', 'comprends', 'et', 'je', 'sais', 'le', 'parler', 'et', 'l’', 'écrire', 'bien', 'mieux', 'maintenant'], 'B1'], [['Jason', 'a', 'très', 'faim', 'et', 'cherche', 'un', 'restaurant'], 'B1'], [['Jason', 'touriste', 'américain', 'est', 'en', 'vacances', 'en', 'Provence', 'et', 'vient', 'à', 'Marseille', 'une', 'journée'], 'B1'], [['Je', 'commence', 'par', 'un', 'petitdéjeuner', 'dans', 'un', 'café', 'près', 'de', 'lArc', 'de', 'Triomphe', 'avec', 'des', 'croissants', 'délicieux'], 'B1'], [['Je', 'crois', 'que', 'le', 'contrat', 'va', 'être', 'signé', 'et', 'que', 'nous', 'pourrons', 'commencer', 'à', 'travailler', 'avec', 'lui', 'très', 'vite'], 'B1'], [['Je', 'nai', 'quun', 'jour', 'pour', 'visiter', 'Paris'], 'B1'], [['Je', 'sais', 'en', 'faire', 'depuis', 'que', 'je', 'suis', 'très', 'jeune'], 'B1'], [['Je', 'suis', 'actuellement', 'en', 'vacances', 'en', 'Alsace'], 'B1'], [['Je', 'suis', 'dentiste', 'dans', 'un', 'nouveau', 'cabinet', 'depuis', 'une', 'semaine', 'et', 'j’', 'aime', 'mon', 'travail'], 'B1'], [['Je', 'suis', 'fatiguée', 'et', 'préfère', 'prendre', 'le', 'métro', 'pour', 'aller', 'à', 'lÎle', 'de', 'la', 'Cité'], 'B1'], [['Je', 'suis', 'heureuse', 'de', 'vous', 'revoir', 'le', 'mois', 'prochain'], 'B1'], [['Je', 'suis', 'litinéraire', 'donné', 'par', 'Pierre', 'un', 'ami', 'français'], 'B1'], [['Je', 'taurais', 'bien', 'envoyé', 'une', 'photo', 'mais', 'nous', 'navons', 'pas', 'dappareil'], 'B1'], [['Je', 't’', 'écris', 'de', 'France', 'où', 'je', 'vis', 'avec', 'ma', 'famille', 'depuis', 'deux', 'mois'], 'B1'], [['Je', 'te', 'conseille', 'vraiment', 'la', 'Brasserie', 'du', 'Métro', 'qui', 'est', 'mon', 'restaurant', 'préféré', 'tu', 'ne', 'le', 'regretteras', 'pas', 'si', 'tu', 'y', 'vas'], 'B1'], [['Je', 'termine', 'à', 'Montmartre', 'avec', 'sa', 'basilique', 'et', 'ses', 'ruelles', 'petites', 'rues'], 'B1'], [['Je', 'vais', 'choisir', 'un', 'restaurant', 'pour', 'savourer', 'un', 'bon', 'repas', 'après', 'cette', 'journée', 'bien', 'remplie'], 'B1'], [['Laprèsmidi', 'je', 'me', 'promène', 'aux', 'Tuileries', 'paradis', 'de', 'verdure', 'au', 'cœur', 'de', 'la', 'capitale'], 'B1'], [['Larbre', 'odorant', 'est', 'paré', 'de', 'guirlandes', 'et', 'de', 'boules', 'tandis', 'quune', 'étoile', 'chatoyante', 'est', 'ajoutée', 'sur', 'la', 'cime'], 'B1'], [['La', 'fête', 'de', 'Pâques', 'en', 'France', 'est', 'une', 'fête', 'de', 'tradition', 'catholique'], 'B1'], [['La', 'maison', 'de', 'Ben', 'est', 'grande'], 'B1'], [['La', 'majorité', 'des', 'Français', 'fête', 'Pâques', 'et', 'considère', 'cette', 'date', 'comme', 'une', 'occasion', 'de', 'se', 'retrouver', 'en', 'famille', 'pour', 'partager', 'un', 'bon', 'repas'], 'B1'], [['La', 'majorité', 'des', 'Français', 'ne', 'restent', 'pas', 'dans', 'leur', 'région', 'durant', 'les', 'vacances', 'dété'], 'B1'], [['La', 'plage', 'est', 'pleine', 'de', 'Marseillais', 'et', 'de', 'touristes'], 'B1'], [['La', 'poitrine', 'contient', 'les', 'deux', 'poumons', 'et', 'le', 'cœur'], 'B1'], [['La', 'tête', 'se', 'compose', 'du', 'visage', 'et', 'du', 'crâne', 'qui', 'est', 'recouvert', 'de', 'cheveux'], 'B1'], [['La', 'tour', 'Eiffel', 'est', 'le', 'symbole', 'de', 'la', 'ville', 'de', 'Paris'], 'B1'], [['La', 'tour', 'Eiffel', 'est', 'située', 'sur', 'le', 'ChampdeMars'], 'B1'], [['La', 'tour', 'Eiffel', 'mesure', 'exactement', '312', 'mètres', 'de', 'hauteur'], 'B1'], [['Le', 'bras', 'est', 'relié', 'au', 'tronc', 'par', 'l’', 'épaule', 'et', 'à', 'l’', 'avantbras', 'par', 'le', 'coude'], 'B1'], [['Le', 'corps', 'humain', 'comprend', 'une', 'tête', 'un', 'tronc', 'et', 'quatre', 'membres'], 'B1'], [['Le', 'Danemark', 'est', 'le', 'premier', 'pays', 'du', 'monde', 'à', 'autoriser', 'laccès', 'à', 'internet', 'lors', 'des', 'examens', 'qui', 'peuvent', 'parfois', 'même', 'compter', 'pour', 'la', 'baccalauréat'], 'B1'], [['Le', 'dos', 'forme', 'la', 'partie', 'arrière', 'du', 'tronc'], 'B1'], [['Le', 'héros', 'de', 'cette', 'bandedessinée', 'sappelle', 'Michel', 'chat', 'roux', 'de', '6', 'kilos', 'originaire', 'de', 'Nantes'], 'B1'], [['Le', 'jardin', 'est', 'long', 'et', 'étroit', 'il', 'y', 'a', 'une', 'balançoire', 'au', 'fond', 'et', 'un', 'barbecue', 'proche', 'de', 'la', 'terrasse', 'sur', 'laquelle', 'est', 'posée', 'un', 'transat'], 'B1'], [['Le', 'jour', 'de', 'Pâques', 'est', 'le', 'jour', 'de', 'la', 'résurrection', 'du', 'Christ'], 'B1'], [['Le', 'Redbull', 'a', 'des', 'substance', 'inoffensives', 'mais', 'peuvent', 'savérer', 'dangereuses', 'quand', 'elles', 'sont', 'consommées', 'en', 'grande', 'quantitée'], 'B1'], [['Le', 'sud', 'du', 'pays', 'lItalie', 'ou', 'lEspagne', 'sont', 'notamment', 'les', 'destinations', 'touristiques', 'les', 'plus', 'prisées', 'des', 'vacanciers', 'en', 'raison', 'du', 'climat', 'perpétuellement', 'froid', 'dans', 'le', 'nord', 'du', 'pays'], 'B1'], [['Le', 'temps', 'sera', 'gris'], 'B1'], [['Le', 'tronc', 'est', 'relié', 'à', 'la', 'tête', 'par', 'le', 'cou'], 'B1'], [['Le', 'ventre', 'se', 'trouve', 'à', 'la', 'partie', 'inférieure', 'du', 'tronc'], 'B1'], [['Le', 'visage', 'comprend', 'une', 'oreille', 'de', 'chaque', 'côté', 'deux', 'yeux', 'surmontés', 'par', 'les', 'sourcils', 'et', 'un', 'nez', 'au', 'centre'], 'B1'], [['Les', 'articulations', 'sont', 'en', 'haut', 'la', 'hanche', 'au', 'milieu', 'le', 'genou', 'en', 'en', 'bas', 'la', 'cheville'], 'B1'], [['Les', 'cavaliers', 'mimpressionnent', 'énormément'], 'B1'], [['Les', 'clés', 'sont', 'ici', 'je', 'les', 'ai', 'trouvées'], 'B1'], [['Les', 'dents', 'se', 'trouvent', 'dans', 'la', 'bouche'], 'B1'], [['Les', 'enfants', 'aussi', 'attendent', 'avec', 'impatience', 'cette', 'échéance', ' ', 'ils', 'reçoivent', 'en', 'général', 'des', 'petits', 'cadeaux', 'et', 'des', 'chocolats'], 'B1'], [['Les', 'enfants', 'travaillent', 'bien', 'à', 'l’', 'école', 'même', 'si', 'ma', 'fille', 'a', 'quelques', 'difficultés', 'en', 'mathématiques'], 'B1'], [['Les', 'habitants', 'villes', 'comme', 'campagnes', 'décorent', 'leurs', 'habitations', 'et', 'achètent', 'des', 'calendriers', 'de', 'lavant'], 'B1'], [['Les', 'membres', 'sont', 'au', 'nombre', 'de', 'quatre', ' ', 'deux', 'en', 'haut', 'et', 'deux', 'en', 'bas'], 'B1'], [['Lorsqu’', 'elle', 'a', 'été', 'construite', 'la', 'tour', 'Eiffel', 'était', 'le', 'monument', 'le', 'plus', 'élevé', 'du', 'monde', 'elle', 'l’', 'est', 'restée', 'pendant', 'quarante', 'ans'], 'B1'], [['Lorsqu’', 'il', 'y', 'a', 'un', 'éclair', 'avec', 'des', 'nuages', 'et', 'de', 'la', 'pluie', 'il', 'risque', 'd’', 'y', 'avoir', 'de', 'la', 'foudre', 'et', 'du', 'tonnerre'], 'B1'], [['Ma', 'mère', 'ma', 'exceptionnellement', 'laissé', 'boire', 'du', 'vin', 'chaud', 'même', 'si', 'je', 'nai', 'normalement', 'pas', 'le', 'droit'], 'B1'], [['Maintenant', 'Jason', 'veut', 'voir', 'les', 'plages', 'du', 'Prado', 'longues', 'de', 'plusieurs', 'kilomètres'], 'B1'], [['Mais', 'rien', 'nest', 'imposé', 'aux', 'lycées', 'chaque', 'établissement', 'choisit', 'si', 'ses', 'élèves', 'composent', 'avec', 'ou', 'sans', 'ordinateur'], 'B1'], [['Mes', 'collègues', 'sont', 'gentils', 'et', 'mont', 'bien', 'accueillie'], 'B1'], [['Mes', 'parents', 'ont', 'insisté', 'pour', 'quon', 'prenne', 'nos', 'chaussures', 'de', 'marche', 'ils', 'veulent', 'quon', 'aille', 'faire', 'des', 'randonnées', 'dans', 'les', 'montagnes'], 'B1'], [['Mon', 'fils', 'a', 'de', 'bonnes', 'notes', 'en', 'français', 'c’', 'est', 'sa', 'matière', 'préférée'], 'B1'], [['Mon', 'mari', 'a', 'enfin', 'trouvé', 'une', 'place', 'd’', 'architecte', 'et', 'travaille', 'sur', 'un', 'important', 'projet', 'd’', 'immeuble', 'avec', 'son', 'équipe'], 'B1'], [['Nous', 'allons', 'bien', 'nous', 'habitons', 'dans', 'une', 'petite', 'maison', 'ancienne', 'avec', 'un', 'très', 'beau', 'jardin'], 'B1'], [['Nous', 'avons', 'de', 'nouveaux', 'amis', 'et', 'nous', 'avons', 'rencontré', 'nos', 'voisins', 'lors', 'd’', 'une', 'soirée', 'festive', 'la', 'semaine', 'dernière'], 'B1'], [['Nous', 'ne', 'privons', 'plus', 'du', 'bonheur', 'de', 'manger'], 'B1'], [['Nous', 'passerons', 'les', 'fêtes', 'de', 'Noël', 'ensemble'], 'B1'], [['Nous', 'vous', 'invitons', 'également', 'à', 'visiter', 'notre', 'page', 'moodle', 'afin', 'dobtenir', 'des', 'informations', 'complémentaires'], 'B1'], [['On', 'peut', 'voir', 'aussi', 'le', 'fleuve', 'qui', 'traverse', 'la', 'capitale', ' ', 'la', 'Seine'], 'B1'], [['On', 'peut', 'y', 'aller', 'à', 'pied'], 'B1'], [['On', 'se', 'reverra', 'à', 'la', 'rentrée', 'jai', 'hâte', 'de', 'te', 'raconter', 'le', 'reste', 'de', 'mon', 'voyage'], 'B1'], [['Pâques', 'est', 'une', 'fête', 'catholique', 'célébrée', 'le', '21', 'avril'], 'B1'], [['Parfois', 'elle', 'exhibe', 'un', 'joli', 'collier', 'en', 'perles', 'autour', 'du', 'cou', 'qui', 'lui', 'donne', 'une', 'allure', 'très', 'attrayante'], 'B1'], [['Petits', 'comme', 'grands', 'peuvent', 'ainsi', 'partir', 'à', 'la', 'chasse', 'à', 'l’', 'œuf'], 'B1'], [['Pour', 'aller', 'au', 'travail', 'Marc', 'porte', 'une', 'veste', 'un', 'pantalon', 'une', 'chemise', 'et', 'une', 'belle', 'cravate', 'rouge'], 'B1'], [['Pour', 'célébrer', 'cet', 'évènement', 'exceptionnel', 'tous', 'se', 'réunissent', 'et', 'se', 'retrouvent', 'autours', 'd’', 'un', 'copieux', 'repas', 'contenant', 'de', 'l’', 'agneau', 'symbole', 'de', 'l’', 'innoncence', 'Du', 'Christ'], 'B1'], [['Pour', 'confirmer', 'votre', 'inscription', 'nous', 'vous', 'demandons', 'de', 'bien', 'vouloir', 'compléter', 'le', 'formulaire', 'en', 'ligne', 'à', 'cette', 'adresse', 'avant', 'le', '15', 'avril', 'prochain'], 'B1'], [['Puis', 'viennent', 'la', 'bouche', 'et', 'le', 'menton'], 'B1'], [['Quand', 'il', 'doit', 'rencontrer', 'un', 'client', 'important', 'Marc', 'n’', 'hésite', 'pas', 'à', 's’', 'habiller', 'sobrement'], 'B1'], [['Quand', 'il', 'y', 'a', 'des', 'nuages', 'avec', 'de', 'la', 'neige', 'qui', 'tombe', 'c’', 'est', 'qu’', 'il', 'va', 'neiger', 'et', 'qu’', 'il', 'peut', 'y', 'avoir', 'du', 'brouillard', 'des', 'risques', 'de', 'congélation', 'de', 'la', 'glace', 'et', 'que', 'la', 'température', 'sera', 'très', 'basse'], 'B1'], [['Quand', 'il', 'y', 'a', 'un', 'grand', 'soleil', 'sur', 'la', 'carte', 'il', 'fera', 'chaud', 'sur', 'la', 'région'], 'B1'], [['Quand', 'la', 'météo', 'indique', 'un', 'soleil', 'avec', 'des', 'nuages', 'il', 'y', 'aura', 'peu', 'de', 'soleil', 'et', 'il', 'y', 'aura', 'souvent', 'du', 'vent'], 'B1'], [['Quatorze', 'établissements', 'pilotes', 'ont', 'dabord', 'participé', 'à', 'lexpérience'], 'B1'], [['S’', 'il', 'y', 'a', 'des', 'nuages', 'avec', 'de', 'la', 'pluie', 'sur', 'la', 'carte', 'c’', 'est', 'qu’', 'il', 'va', 'pleuvoir', 'et', 'qu’', 'il', 'y', 'a', 'des', 'risques', 'de', 'tempête', 'ou', 'de', 'grêle'], 'B1'], [['Sa', 'secrétaire', 'Lili', 'porte', 'des', 'lunettes'], 'B1'], [['Ses', 'amis', 'trouvent', 'qu’', 'il', 'est', 'très', 'élégant', 'avec', 'son', 'braceletmontre', 'doré', 'et', 'ses', 'chaussures', 'noires'], 'B1'], [['Ses', 'amis', 'trouvent', 'qu’', 'il', 'est', 'très', 'élégant', 'avec', 'son', 'braceletmontre', 'doré', 'et', 'ses', 'chaussures', 'noires'], 'B1'], [['Si', 'de', 'la', 'pluie', 'tombe', 'alors', 'qu’', 'il', 'y', 'a', 'du', 'soleil', 'vous', 'pourrez', 'sans', 'doute', 'observer', 'un', 'arcenciel'], 'B1'], [['Si', 'jai', 'le', 'temps', 'je', 'te', 'promets', 'que', 'je', 'viendrai', 'avec', 'toi', 'au', 'théâtre'], 'B1'], [['Si', 'jétais', 'bon', 'en', 'biologie', 'je', 'ferais', 'des', 'études', 'de', 'médecine', 'Mais', 'ce', 'nest', 'pas', 'le', 'cas'], 'B1'], [['Son', 'architecture', 'moderne', 'sassocie', 'très', 'bien', 'avec', 'la', 'mer', 'toute', 'proche', 'et', 'lancien', 'Fort', 'SaintJean'], 'B1'], [['Tandis', 'que', 'les', 'jonquilles', 'fleurissent', 'les', 'parents', 'dissimulent', 'du', 'chocolat', 'dans', 'le', 'jardin', 'afin', 'de', 'célébrer', 'Pâques'], 'B1'], [['Tout', 'en', 'haut', 'de', 'la', 'tour', 'Eiffel', 'il', 'y', 'a', 'des', 'antennes', 'qui', 'émettent', 'les', 'programmes', 'de', 'radio', 'et', 'de', 'télévision'], 'B1'], [['Toutefois', 'certaines', 'personnes', 'ne', 'disposent', 'pas', 'dun', 'budget', 'spécial', 'pour', 'financer', 'ce', 'type', 'de', 'détente'], 'B1'], [['Traditionnellement', 'les', 'chocolats', 'sont', 'sous', 'forme', 'd’', 'œufs', 'mais', 'aussi', 'danimaux', 'comme', 'des', 'poussins', 'lapins', 'moutons'], 'B1'], [['Tu', 'as', 'essayé', 'de', 'le', 'recontacter'], 'B1'], [['Un', 'gros', 'tier', 'de', 'lutilisation', 'correspond', 'à', 'la', 'consommation', 'de', 'viande', 'par', 'le', 'biais', 'du', 'soja', 'et', 'du', 'maïs', 'utilisés', 'pour', 'nourir', 'le', 'bétail'], 'B1'], [['Un', 'membre', 'inférieur', 'comprend', 'une', 'cuisse', 'une', 'jambe', 'et', 'un', 'pied', 'qui', 'a', 'cinq', 'orteils'], 'B1'], [['Un', 'membre', 'supérieur', 'comprend', 'un', 'bras', 'un', 'avantbras', 'et', 'une', 'main', 'munie', 'de', 'cinq', 'doigts'], 'B1'], [['Un', 'rapport', 'publié', 'aujourdhui', 'par', 'lagence', 'sanitaire', 'canadienne', 'déconseille', 'la', 'consommation', 'de', 'boissons', 'énergisantes', 'srutout', 'chez', 'les', 'ados'], 'B1'], [['Mais', 'pour', 'les', 'visiteurs', 'et', 'les', 'professionnels', 'cest', 'également', 'loccasion', 'de', 'découvrir', 'les', 'dernières', 'innovations', 'et', 'surtout', 'de', 'goûter', 'les', 'créations', 'des', 'chefs', 'pâtissiers', 'et', 'chocolatiers'], 'B2'], [['À', 'bord', 'de', 'leur', 'vaisseau', 'Rosco', 'et', 'le', 'capitaine', 'Jim', 'ont', 'pour', 'mission', 'de', 'sauver', 'lunivers', 'dun', 'terroriste', 'imprudemment', 'décongelé'], 'B2'], [['Acheter', 'français', 'c’', 'est', 'préserver', 'l’', 'emploi', 'en', 'France', 'et', 'éviter', 'd’', 'éventuelles', 'fermetures', 'd’', 'usine', 'synonymes', 'de', 'chômage', 'et', 'de', 'paupérisation'], 'B2'], [['Acheter', 'français', 'devient', 'un', 'acte', 'écologique', 'car', 'acheter', 'des', 'produits', 'français', 'sousentendrait', 'acheter', 'des', 'produits', 'qui', 'n’', 'ont', 'pas', 'été', 'fabriqués', 'à', 'l’', 'autre', 'bout', 'du', 'monde', 'et', 'ainsi', 'faire', 'baisser', 'la', 'pollution', 'en', 'limitant', 'le', 'transport', 'des', 'marchandises', 'en', 'diminuant', 'leur', 'empreinte', 'carbone'], 'B2'], [['Afin', 'de', 'préserver', 'le', 'fondant', 'de', 'ces', 'croissants', 'refermer', 'le', 'sachet', 'soigneusement', 'après', 'ouverture'], 'B2'], [['Ah', 'le', 'mois', 'de', 'décembre', ' ', 'ses', 'illuminations', 'la', 'couronne', 'de', 'l’', 'Avent', 'pour', 'les', 'catholiques', 'et', 'le', 'fameux', 'calendrier', 'empli', 'de', 'chocolat', 'pour', 'les', 'enfants'], 'B2'], [['Ainsi', 'la', 'trottinette', 'électrique', 'est', 'maintenant', 'interdite', 'aux', 'moins', 'de', '12', 'ans', 'et', 'une', 'assurance', 'est', 'désormais', 'obligatoire'], 'B2'], [['Alors', 'le', 'mieux', 'pour', 'satisfaire', 'son', 'désir', 'd’', 'achat', 'patriotique', 'estce', 'acheter', 'une', 'Toyota', 'fabriquée', 'dans', 'le', 'Nord', 'de', 'la', 'France', 'ou', 's’', 'offrir', 'une', 'Renaud', 'sortie', 'de', 'ses', 'usines', 'de', 'Roumanie'], 'B2'], [['Après', 'la', 'campagne', 'Zéro', 'Prospectus', 'lancée', 'par', 'ELederc', 'en', 'septembre', '2010', 'cest', 'au', 'tour', 'des', 'principaux', 'distributeurs', 'de', 'prospectus', 'via', 'lObservatoire', 'du', 'Hors', 'Média', 'de', 'relancer', 'la', 'polémique', 'sur', 'lusage', 'du', 'papier', 'à', 'des', 'fins', 'commerciales'], 'B2'], [['Après', 'quelques', 'années', 'des', 'confiseries', 'des', 'décorations', 'de', 'vitrines', 'des', 'paquets', 'de', 'gâteaux', 'à', 'l’', 'effigie', 'de', 'citrouille', 'et', 'de', 'sorcière', 'vont', 'rendre', 'l’', 'événement', 'plus', 'visible', 'dans', 'l’', 'Hexagone'], 'B2'], [['Assis', 'en', 'terrasse', 'dans', 'le', 'quartier', 'touristique', 'du', 'Vieux', 'Lyon', 'James', 'sirote', 'une', 'limonade', 'bien', 'fraîche'], 'B2'], [['Aujourd’hui', 'plus', 'personne', 'ne', 'la', 'conteste', 'et', 'Halloween', 'est', 'devenue', 'la', 'troisième', 'fête', 'de', 'l’', 'année', 'après', 'Noël', 'et', 'le', 'jour', 'de', 'l’', 'An'], 'B2'], [['Avec', 'la', 'chaleur', 'estivale', 'cette', 'journée', 'd’', 'exploration', 'se', 'révèle', 'très', 'fatigante'], 'B2'], [['Avec', 'la', 'chaleur', 'estivale', 'cette', 'journée', 'd’', 'exploration', 'se', 'révèle', 'très', 'fatigante'], 'B2'], [['C’', 'est', 'dans', 'les', 'années', '1990', 'que', 'la', 'version', 'moderne', 'd’', 'Halloween', 'est', 'introduite', 'en', 'France'], 'B2'], [['C’', 'est', 'l’', 'occasion', 'de', 'fêter', 'Noël', 'en', 'famille', 'en', 'petit', 'comité'], 'B2'], [['C’', 'est', 'souvent', 'un', 'repas', 'fastueux', 'et', 'long', ' ', 'il', 'n’', 'est', 'pas', 'rare', 'de', 'sortir', 'de', 'table', 'vers', '16', 'ou', '17', 'heures'], 'B2'], [['C’', 'est', 'un', 'idéal', 'construit', 'pendant', 'l’', 'enfance', 'qu’', 'on', 'tente', 'de', 'recréer', 'chaque', 'année', 'pour', 'un', 'soir'], 'B2'], [['C’', 'est', 'un', 'jour', 'de', 'fête', 'où', 'l’', 'on', 'invite', 'la', 'famille', 'plus', 'éloignée', 'à', 'partager', 'le', 'repas', 'de', 'midi'], 'B2'], [['C’', 'est', 'une', 'trêve', 'attendue', 'qui', 'vient', 'adoucir', 'de', 'ses', 'contes', 'des', 'cœurs', 'endoloris', 'et', 'parfois', 'esseulés'], 'B2'], [['Ce', 'lieu', 'permettra', 'de', 'répondre', 'à', 'la', 'nécessité', 'dun', 'acceuil', 'par', 'des', 'professionnels', 'de', 'la', 'santé', 'des', 'usagers', 'de', 'drogue', 'dans', 'ce', 'quartier'], 'B2'], [['Ce', 'matin', 'James', 's’', 'est', 'levé', 'tôt', 'a', 'loué', 'un', 'vélo', 'et', 'a', 'parcouru', 'les', 'rues', 'de', 'Lyon'], 'B2'], [['Cependant', 'vouloir', 'vivre', 'en', 'achetant', 'uniquement', 'français', 'n’', 'est', 'ni', 'possible', 'ni', 'compatible', 'avec', 'des', 'convictions', 'écologiques', 'ou', 'patriotiques', 'car', 'acheter', 'français', 'n’', 'implique', 'pas', 'forcément', 'que', 'le', 'produit', 'acheté', 'soit', 'pour', 'autant', 'fabriqué', 'en', 'France'], 'B2'], [['Ces', 'derniers', 'par', 'exemple', 'privilégient', 'l’', 'achat', 'patriotique', 'pour', 'sa', 'faible', 'empreinte', 'carbone'], 'B2'], [['Ces', 'nouvelles', 'contraintes', 'vontelles', 'mettre', 'un', 'terme', 'au', 'développement', 'de', 'la', 'trottinette'], 'B2'], [['Chaque', 'jour', 'ils', 'ouvrent', 'une', 'des', 'petites', 'portes', 'du', 'calendrier', 'de', 'l’', 'Avent', 'pour', 'en', 'retirer', 'un', 'chocolat', 'ou', 'une', 'figurine', 'les', 'aidant', 'à', 'patienter', 'pour', 'le', 'grand', 'jour', 'ou', 'plutôt', 'la', 'belle', 'nuit', 'de', 'Noël'], 'B2'], [['Comment', 'jai', 'survécu', 'à', 'une', 'perverse', 'narcissique'], 'B2'], [['D’', 'abord', 'les', 'produits', 'fabriqués', 'en', 'France', 'sont', 'en', 'moyenne', '30', 'pour', 'cent', 'plus', 'chers', 'que', 'les', 'autres'], 'B2'], [['Dans', 'cette', 'lettre', 'au', 'Père', 'Noël', 'ils', 'listent', 'méticuleusement', 'tous', 'les', 'cadeaux', 'qu’', 'ils', 'souhaiteraient', 'avoir', 'au', 'pied', 'du', 'sapin'], 'B2'], [['Dans', 'la', 'maison', 'il', 'y', 'a', 'une', 'bonne', 'odeur', 'de', 'pain', 'd’', 'épices', 'qu’', 'on', 'mange', 'au', 'goûter'], 'B2'], [['Dans', 'la', 'rue', 'on', 'entend', '«', 'Vive', 'le', 'vent', '»', '«', 'Petit', 'Papa', 'Noël', '»', '«', 'Douce', 'Nuit', '»', 'en', 'boucle', 'dans', 'les', 'rues', 'ou', 'dans', 'les', 'magasins', 'aux', 'vitrines', 'richement', 'décorées', 'où', 'les', 'gens', 'cherchent', 'des', 'idées', 'de', 'cadeaux'], 'B2'], [['Dans', 'les', 'quartiers', 'certains', 'voisins', 's’', 'entendent', 'pour', 'ouvrir', 'la', 'porte', 'aux', 'enfants', 'et', 'font', 'donc', 'une', 'provision', 'de', 'bonbons', 'au', 'cas', 'où', 'un', 'groupe', 'de', 'mini', 'sorcières', 'sonnerait', 'à', 'la', 'porte'], 'B2'], [['Depuis', 'quelques', 'années', 'un', 'nouveau', 'moyen', 'de', 'transport', 'est', 'apparu', 'dans', 'les', 'villes', 'la', 'trottinette', 'électrique', ' ', 'légère', 'petite', 'elle', 'est', 'plus', 'facile', 'à', 'ranger', 'qu’', 'un', 'vélo', 'et', 'elle', 'a', 'séduit', 'très', 'vite', 'un', 'public', 'jeune', 'et', 'ouvert', 'à', 'la', 'nouveauté'], 'B2'], [['Des', 'chorales', 'chantent', 'sur', 'le', 'parvis', 'rappelant', 'que', 'cette', 'fête', 'est', 'à', 'l’', 'origine', 'une', 'fête', 'religieuse'], 'B2'], [['Des', 'coutumes', 'similaires', 'ont', 'existé', 'autrefois', 'notamment', 'dans', 'le', 'Finistère', ' ', 'les', 'enfants', 's’', 'amusaient', 'à', 'creuser', 'des', 'betteraves', 'au', 'moment', 'de', 'la', 'Toussaint', 'pour', 'faire', 'peur', 'aux', 'gens', 'du', 'voisinage'], 'B2'], [['Des', 'crèches', 'vivantes', 'y', 'sont', 'organisées', 'et', 'la', 'paroisse', 'se', 'prépare', 'pour', 'la', 'messe', 'de', 'minuit'], 'B2'], [['Des', 'soirées', 'étudiantes', 'sur', 'le', 'thème', 'd’', 'Halloween', 'sont', 'organisées', 'chaque', 'année'], 'B2'], [['Durant', 'les', 'années', '1990', 'beaucoup', 'de', 'gens', 'étaient', 'réticent', 'à', 'cette', 'nouvelle', 'fête', ' ', 'Les', 'parents', 'et', 'les', 'enseignants', 'n’', 'y', 'voyaient', 'qu’', 'une', 'fête', 'commerciale'], 'B2'], [['Elle', 'a', 'été', 'perçue', 'comme', 'un', 'moyen', 'de', 'transport', 'puéril'], 'B2'], [['Elles', 'cachent', 'une', 'partie', 'de', 'leur', 'douleur'], 'B2'], [['En', 'chemin', 'il', 'a', 'pu', 'admirer', 'la', 'magnifique', 'fontaine', 'Bartholdi', 'sur', 'la', 'grande', 'Place', 'des', 'Terreaux'], 'B2'], [['En', 'redescendant', 'à', 'pied', 'il', 's’', 'arrêtera', 'pour', 'visiter', 'le', 'plus', 'ancien', 'théâtre', 'galloromain', 'de', 'France', 'puis', 'ira', 'dîner', 'dans', 'un', 'bouchon', 'lyonnais', 'restaurant', 'typique', 'de', 'la', 'ville'], 'B2'], [['Enfin', 'pour', 'être', 'bien', 'visible', 'un', 'gilet', 'jaune', 'est', 'obligatoire', 'la', 'nuit', 'ce', 'qui', 'rend', 'son', 'utilisateur', 'beaucoup', 'moins', 'stylé', 'forcément'], 'B2'], [['Et', 'comme', 'elle', 'était', 'à', 'ses', 'débuts', 'utilisée', 'sur', 'les', 'trottoirs', 'elle', 'a', 'occasionné', 'de', 'nombreux', 'accidents'], 'B2'], [['Et', 'il', 'l’', 'est', 'pour', 'plusieurs', 'raisons', ' ', 'les', 'politiciens', 'les', 'médias', 'sensibilisent', 'l’', 'opinion', 'publique', 'par', 'les', 'temps', 'de', 'crise', 'à', 'acheter', 'français', 'dans', 'le', 'but', 'de', 'stimuler', 'l’', 'économie', 'nationale', 'afin', 'd’', 'aider', 'le', 'pays', 'à', 'être', 'plus', 'fort', 'économiquement', 'et', 'soutenir', 'ainsi', 'toute', 'la', 'communauté', 'nationale', 'par', 'sa', 'façon', 'de', 'consommer'], 'B2'], [['Et', 'le', 'soir', 'vient', 'le', 'moment', 'de', 'la', 'lecture', 'des', 'contes', 'de', 'Noël', 'alimentant', 'l’', 'imaginaire', 'des', 'tout', 'petits'], 'B2'], [['Et', 'les', 'intellectuels', 'en', 'dénonçaient', 'l’', 'aspect', 'mercantile', 'preuve', 'de', 'plus', 's’', 'il', 'en', 'fallait', 'de', 'l’', 'américanisation', 'de', 'la', 'société', 'française'], 'B2'], [['Et', 'puis', 'la', 'France', 'comme', 'la', 'plupart', 'des', 'pays', 'du', 'monde', 'doit', 'importer', 'les', 'matières', 'premières', 'inexistantes', 'sur', 'son', 'sol', 'et', 'ne', 'fabrique', 'plus', 'la', 'totalité', 'des', 'produits', 'sur', 'son', 'territoire'], 'B2'], [['Finalement', 'Halloween', 'aura', 'mis', 'une', 'vingtaine', 'd’', 'années', 'pour', 's’', 'imposer', 'et', 'trouver', 'sa', 'place', 'dans', 'la', 'société', 'française'], 'B2'], [['Finies', 'les', 'façades', 'grises', 'et', 'ternes', 'terminée', 'la', 'morosité', 'ambiante', ' ', 'les', 'rues', 'se', 'parent', 'de', 'guirlandes', 'scintillantes', 'et', 'les', 'vitrines', 'rivalisent', 'd’', 'imagination', 'pour', 'leur', 'décoration'], 'B2'], [['Il', 'a', 'finalement', 'opté', 'pour', 'cette', 'dernière'], 'B2'], [['Il', 'a', 'longé', 'les', 'quais', 'de', 'la', 'Saône', 'traversé', 'la', 'presqu’', 'île', 'puis', 'rejoint', 'les', 'quais', 'du', 'Rhône'], 'B2'], [['Il', 'n’', 'y', 'a', 'qu’', 'à', 'observer', 'la', 'métamorphose', 'des', 'rues', 'commerçantes', 'pour', 'en', 'être', 'convaincu'], 'B2'], [['Il', 's’', 'apprête', 'maintenant', 'à', 'prendre', 'le', 'funiculaire', 'qui', 'l’', 'emmènera', 'au', 'sommet', 'de', 'la', 'colline', 'de', 'Fourvière'], 'B2'], [['Il', 's’', 'est', 'également', 'arrêté', 'dans', 'une', 'boulangerie', 'où', 'il', 'a', 'longuement', 'hésité', 'entre', 'un', 'pain', 'au', 'chocolat', 'un', 'croissant', 'et', 'une', 'brioche', 'aux', 'pralines', 'pâtisserie', 'typiquement', 'lyonnaise'], 'B2'], [['Il', 'y', 'a', 'belle', 'lurette', 'que', 'les', 'entreprises', 'françaises', 'se', 'sont', 'délocalisées', 'pour', 'optimiser', 'leurs', 'coûts', 'et', 's’', 'ouvrir', 'de', 'nouveaux', 'marchés'], 'B2'], [['Il', 'y', 'aura', 'bientôt', 'une', 'salle', 'de', 'consommation', 'à', 'moindre', 'risque', 'pour', 'les', 'toxicomanes'], 'B2'], [['Ils', 'craignent', 'de', 'passer', 'pour', 'des', 'faibles'], 'B2'], [['Ils', 'précisent', 'dans', 'cette', 'lettre', 'qu’', 'ils', 'ont', 'été', 'bien', 'sages', 'qu’', 'ils', 'ont', 'écouté', 'leurs', 'parents', 'et', 'aussi', 'fait', 'tous', 'leurs', 'devoirs'], 'B2'], [['Ils', 'y', 'creusaient', 'des', 'trous', 'en', 'forme', 'de', 'bouche', 'de', 'nez', 'et', 'd’', 'yeux', 'et', 'en', 'éclairait', 'l’', 'intérieur', 'd’', 'une', 'bougie'], 'B2'], [['Jai', 'une', 'furieuse', 'envie', 'de', 'téléportation'], 'B2'], [['James', 'a', 'ensuite', 'rejoint', 'le', 'quartier', 'moderne', 'de', 'la', 'Confluence', 'où', 'le', 'fleuve', 'de', 'la', 'Saône', 'se', 'jette', 'dans', 'le', 'Rhône'], 'B2'], [['Je', 'vais', 'être', 'en', 'retard', 'ce', 'soir', 'peuxtu', 'préparer', 'le', 'dîner', 'des', 'enfants'], 'B2'], [['Lobjectif', 'est', 'de', 'résuire', 'les', 'risques', 'sanitaires', 'et', 'de', 'diminuer', 'les', 'nuisances', 'sur', 'lespace', 'public'], 'B2'], [['L’', 'esprit', 'de', 'Noël', 'est', 'partout'], 'B2'], [['La', 'consommation', 'sera', 'encadrée', 'par', 'du', 'personnel', 'et', 'éloignée', 'des', 'lieux', 'publics'], 'B2'], [['La', 'fête', 'commencera', 'à', 'gagner', 'en', 'popularité', 'auprès', 'de', 'la', 'population', 'américaine', 'à', 'partir', 'des', 'années', '1920', 'au', 'moment', 'où', 'les', 'fameuses', 'lanternes', 'creusées', 'dans', 'des', 'citrouilles', 'ont', 'remplacé', 'les', 'traditionnels', 'navets', 'utilisés', 'en', 'Europe'], 'B2'], [['La', 'fête', 'est', 'arrivée', 'au', '19e', 'siècle', 'aux', 'ÉtatsUnis', 'et', 'au', 'Canada', 'grâce', 'aux', 'nombreux', 'émigrants', 'venus', 'd’', 'Irlande', 'et', 'd’', 'Écosse'], 'B2'], [['La', 'météo', 'est', 'le', 'sujet', 'de', 'prédilection', 'sur', 'les', 'réseaux', 'sociaux'], 'B2'], [['La', 'météo', 'pourrie', 'inonde', 'les', 'réseaux', 'sociaux'], 'B2'], [['La', 'multiplication', 'des', 'accidents', 'dûs', 'à', 'la', 'trottinette', 'a', 'exacerbé', 'la', 'colère', 'des', 'piétons', 'et', 'entraîné', 'une', 'réaction', 'quasi', 'immédiate', 'des', 'autorités'], 'B2'], [['La', 'situation', 'est', 'plus', 'complexe', 'pour', 'les', 'parents', 'divorcés', 'ou', 'séparés'], 'B2'], [['La', 'trottinette', 'électrique', 'est', 'aussi', 'limitée', 'aux', 'pistes', 'cyclables', 'ou', 'sur', 'la', 'chaussée', 'entraînant', 'des', 'conflits', 'avec', 'les', 'cyclistes', 'et', 'les', 'automobilistes'], 'B2'], [['La', 'ville', 'entière', 's’', 'est', 'illuminée', 'autour', 'du', 'marché', 'de', 'Noël', 'qui', 'enchante', 'les', 'passants', 'de', 'ses', 'illuminations', 'réchauffant', 'les', 'coeurs', 'dans', 'le', 'froid', 'de', 'l’', 'hiver'], 'B2'], [['Là', 'il', 'pourra', 'visiter', 'la', 'fameuse', 'basilique', 'Notre', 'Dame', 'de', 'Fourvière', 'et', 'contempler', 'la', 'splendide', 'vue', 'panoramique', 'sur', 'la', 'ville', 'de', 'Lyon', 'depuis', 'le', 'belvédère'], 'B2'], [['Le', '24', 'décembre', 'est', 'le', 'jour', 'du', 'réveillon'], 'B2'], [['Le', '25', 'approche', 'on', 'réfléchit', 'au', 'repas', 'et', 'aux', 'convives'], 'B2'], [['Le', 'lendemain', 'le', '25', 'décembre', 'est', 'le', 'jour', 'de', 'Noël'], 'B2'], [['Le', 'patriotisme', 'économique', 'est', 'à', 'la', 'mode'], 'B2'], [['Le', 'repas', 'est', 'servi', 'sur', 'une', 'table', 'resplendissante', 'recouverte', 'de', 'bougies', 'et', 'de', 'petits', 'santons'], 'B2'], [['Le', 'repas', 'était', 'très', 'bon', 'En', 'revanche', 'le', 'dessert', 'était', 'immangeable'], 'B2'], [['Le', 'sapin', 'trône', 'au', 'milieu', 'du', 'salon', 'avec', 'ses', 'boules', 'multicolores', 'ses', 'guirlandes', 'argentées', 'son', 'étoile', 'dorée'], 'B2'], [['Le', 'site', 'web', 'wwwmonprospectuscom', 'se', 'vante', 'les', 'mérites', 'de', 'la', 'réclame', 'sur', 'papier'], 'B2'], [['Le', 'soir', 'd’', 'Halloween', 'les', 'enfants', 'sortent', 'dans', 'la', 'rue', 'et', 'sonnent', 'chez', 'les', 'gens', 'du', 'quartier', 'pour', 'réclamer', 'des', 'friandises', 'en', 'les', 'menaçant', 'de', 'la', 'célèbre', 'formule', ' ', 'Des', 'bonbons', 'ou', 'un', 'sort'], 'B2'], [['Les', 'bars', 'les', 'boulangeries', 'les', 'supermarchés', 'les', 'sites', 'Internet', 'proposent', 'des', 'événements', 'qui', 'animent', 'cette', 'période', 'de', 'l’', 'année', 'qui', 'tombe', 'entre', 'deux', 'moments', 'importants', ' ', 'la', 'rentrée', 'des', 'classes', 'et', 'Noël'], 'B2'], [['Les', 'cadeaux', 'seront', 'déposés', 'à', 'son', 'pied', 'le', 'soir', 'du', '24', 'ou', 'le', '25', 'décembre', 'au', 'matin'], 'B2'], [['Les', 'dégâts', 'sont', 'aussi', 'importants', 'mais', 'personne', 'ne', 'sen', 'aperçoit', 'car', 'les', 'hommes', 'qui', 'subissent', 'une', 'manipulatrice', 'ont', 'tendance', 'à', 'minimiser', 'leur', 'souffrance'], 'B2'], [['Les', 'dernières', 'semaines', 'avant', 'Noël', 'se', 'déroulent', 'dans', 'une', 'ambiance', 'joyeuse', 'et', 'féérique'], 'B2'], [['Les', 'églises', 'sont', 'animées'], 'B2'], [['Les', 'hommes', 'victimes', 'de', 'harcèlement', 'dans', 'leur', 'couple', 'sont', 'plus', 'nombreux', 'quon', 'le', 'pense'], 'B2'], [['Les', 'oncles', 'les', 'grandsparents', 'les', 'cousins', 'cette', 'année', 'toute', 'la', 'famille', 'se', 'rassemble', 'afin', 'de', 'fêter', 'Noël', 'comme', 'il', 'se', 'doit'], 'B2'], [['Les', 'passants', 'semblent', 'moins', 'pressés', 'et', 's’', 'attardent', 'plus', 'facilement', 'devant', 'une', 'devanture', 'ou', 'dans', 'les', 'rayons'], 'B2'], [['Les', 'plus', 'grands', 'se', 'font', 'peur', 'en', 'regardant', 'un', 'film', 'd’', 'horreur', 'ou', 'en', 'se', 'rendant', 'à', 'une', 'soirée', 'déguisée'], 'B2'], [['Les', 'professeurs', 'd’', 'anglais', 'préparent', 'des', 'cours', 'sur', 'le', 'sujet', 'et', 'participent', 'à', 'sa', 'diffusion', 'auprès', 'de', 'la', 'jeunesse'], 'B2'], [['Les', 'sportifs', 'pour', 'lesquels', 'jai', 'le', 'plus', 'dadmiration', 'sont', 'les', 'alpinistes'], 'B2'], [['Noël', 'approche', 'les', 'enfants', 'attendent', 'ce', 'moment', 'avec', 'impatience'], 'B2'], [['Noël', 'donne', 'de', 'la', 'joie', 'à', 'qui', 'le', 'fête'], 'B2'], [['Noël', 'n’', 'est', 'pas', 'une', 'simple', 'fête', 'commerciale', 'comme', 'certains', 'se', 'plaisent', 'à', 'dire'], 'B2'], [['On', 'mangera', 'en', 'parlant', 'de', 'ce', 'qui', 'fait', 'l’', 'actualité', ' ', 'sport', 'politique', '…', 'et', 'quand', 'le', 'ton', 'montera', 'Grandmère', 'remettra', 'de', 'l’', 'ordre', 'en', 'quelques', 'secondes', 'à', 'coup', 'de', '«', 'Calmezvous', 'c’', 'est', 'Noël'], 'B2'], [['où', 'ce', 'moyen', 'de', 'transport', 'estil', 'voué', 'à', 's’', 'installer', 'durablement', 'dans', 'le', 'paysage', 'urbain'], 'B2'], [['Pas', 'question', 'd’', 'être', '13', 'à', 'table', 'ça', 'porterait', 'malheur'], 'B2'], [['Pas', 'questions', 'de', 'recevoir', 'un', 'sort'], 'B2'], [['Pour', 'être', 'certain', 'que', 'le', 'Père', 'Noël', 'ne', 'les', 'oubliera', 'pas', 'certains', 'lui', 'écrivent', 'une', 'lettre'], 'B2'], [['Pour', 'Halloween', 'on', 'se', 'déguise', 'de', 'manière', 'effrayante', ' ', 'costume', 'de', 'fantôme', 'de', 'sorcière', 'de', 'monstre', 'de', 'vampire', '…', 'L’', 'intérieur', 'des', 'maisons', 'et', 'les', 'vitrines', 'des', 'magasins', 'sont', 'décorés', 'avec', 'des', 'citrouilles', 'des', 'personnages', 'et', 'des', 'objets', 'effrayants', 'tels', 'le', 'cercueil', 'le', 'chapeau', 'de', 'sorcière', 'la', 'chauve', 'souris', 'l’', 'araignée', 'la', 'toile', 'd’', 'araignée', 'le', 'chat', 'noir', 'etc'], 'B2'], [['Pour', 'le', 'menu', 'le', 'plateau', 'de', 'fruits', 'de', 'mer', 'la', 'dinde', 'et', 'la', 'bûche', 'seront', 'bien', 'évidemment', 'sur', 'presque', 'toutes', 'les', 'tables'], 'B2'], [['Pourtant', 'évoquer', 'cette', 'histoire', 'reste', 'très', 'douloureux', 'pour', 'moi'], 'B2'], [['Puis', 'ce', 'sera', 'l’', 'heure', 'de', 's’', 'endormir', 'on', 'se', 'dira', '«', 'Joyeux', 'Noël', '»', 'et', 'les', 'enfants', 'rêverons', 'de', 'rennes', 'et', 'd’', 'un', 'vieux', 'monsieur', 'au', 'manteau', 'rouge', 'à', 'la', 'barbe', 'blanche', 'et', 'au', 'sourire', 'bienveillant'], 'B2'], [['Quand', 'bien', 'même', 'un', 'consommateur', 'modèle', 'limiterait', 'ses', 'achats', 'à', 'des', 'produits', 'fabriqués', 'dans', 'l’', 'Hexagone', 'par', 'des', 'entreprises', 'françaises', 'il', 'serait', 'vite', 'rattrapé', 'par', 'la', 'dure', 'réalité'], 'B2'], [['Quant', 'aux', 'entreprises', 'étrangères', 'elles', 'ont', 'fait', 'de', 'même', '…', 'en', 'France'], 'B2'], [['S’', 'obstiner', 'à', 'acheter', '100', 'pour', 'cent', 'français', 'reviendrait', 'à', 'vivre', 'sans', 'réfrigérateur', 'sans', 'lave', 'linge', 'sans', 'smartphone', 'sans', 'ordinateur', '…', 'Autrement', 'dit', 'les', 'plus', 'patriotes', 'et', 'les', 'plus', 'écolos', 'devront', 'soit', 'mettre', 'de', 'l’', 'eau', 'dans', 'leur', 'vin', 'soit', 'revenir', 'à', 'un', 'mode', 'de', 'vie', 'd’', 'un', 'autre', 'âge'], 'B2'], [['Sa', 'vitesse', 'est', 'limitée', 'à', '25', 'kmh', 'et', 'son', 'utilisation', 'est', 'interdite', 'sur', 'les', 'trottoirs'], 'B2'], [['Selon', 'les', 'familles', 'la', 'soirée', 'peut', 'être', 'animée', 'par', 'des', 'lectures', 'de', 'contes', 'horrifiques', 'ou', 'de', 'poème', 'évoquant', 'Halloween'], 'B2'], [['Seul', 'l’', 'avenir', 'nous', 'le', 'dira'], 'B2'], [['Si', 'la', 'notion', 'de', 'patriotisme', 'peut', 'sembler', 'marquée', 'à', 'droite', 'les', 'chantres', 'du', 'patriotisme', 'économique', 'et', 'leurs', 'discours', 'plus', 'culpabilisants', 'qu’', 'encourageants', 'sont', 'de', 'tous', 'bords', 'politiques', ' ', 'de', 'l’', 'extrême', 'droite', 'à', 'l’', 'extrême', 'gauche', 'sans', 'oublier', 'les', 'écologistes'], 'B2'], [['Son', 'succès', 'a', 'généré', 'beaucoup', 'de', 'réactions', 'négatives'], 'B2'], [['Sur', 'la', 'liste', 'ils', 'n’', 'ont', 'pas', 'oublié', 'de', 'préciser', 'ce', 'qu’', 'ils', 'voudraient', 'pour', 'leurs', 'parents', ' ', 'des', 'chocolats', 'pour', 'maman', 'du', 'parfum', 'pour', 'papa'], 'B2'], [['Sur', 'les', 'fenêtres', 'des', 'maisons', 'des', 'cloches', 'des', 'étoiles', 'et', 'des', 'traîneaux', 'ont', 'été', 'peints'], 'B2'], [['Tourné', 'en', '3D', 'par', 'le', 'réalisateur', 'LWitley', 'ce', 'nouvel', 'épisode', 'intergalactique', 'foisonnant', 'donne', 'vite', 'la', 'migraine'], 'B2'], [['Tous', 'ces', 'préparatifs', 'rendent', 'chaque', 'année', 'l’', 'atmosphère', 'festive', 'et', 'enjouée'], 'B2'], [['Tu', 'penses', 'que', 'cette', 'prise', 'de', 'conscience', 'va', 'entraîner', 'une', 'amélioration', 'des', 'conditions', 'de', 'vie'], 'B2'], [['Un', 'dépliant', 'de', '4', 'pages', 'distribué', 'en', '13', 'millions', 'dexemplaires', 'pour', 'fen', 'finir', 'avec', 'les', 'idées', 'reçues', 'et', 'démontrer', 'qu', 'lon', 'ne', 'pourrait', 'vivre', 'dans', 'un', 'monde', 'sans', 'amour', 'et', 'zéro', 'papier'], 'B2'], [['Un', 'sapin', 'fraîchement', 'coupé', 'est', 'installé', 'dans', 'la', 'cuisine', 'ou', 'le', 'salon', 'et', 'décoré', 'à', 'l’', 'aide', 'de', 'guirlandes', 'colorées', 'et', 'de', 'boules', 'de', 'noël'], 'B2'], [['Il', 'y', 'a', 'combien', 'de', 'temps', 'quun', 'homme', 'a', 'marché', 'sur', 'la', 'lune', 'pour', 'la', 'première', 'fois'], 'B2'], [['Maintenant', 'que', 'jai', 'mon', 'Master', 'de', 'droit', 'commercial', 'je', 'vais', 'commencer', 'des', 'études', 'de', 'lettres'], 'B2'], [['Maintenant', 'que', 'jai', 'mon', 'diplôme', 'en', 'poche', 'mon', 'père', 'va', 'peutêtre', 'enfin', 'me', 'féliciter'], 'B2'], [['Les', 'trafiquants', 'dêtres', 'humains', 'prétendent', 'garder', 'les', 'passeports', 'de', 'leur', 'victimes', 'pour', 'mettre', 'ces', 'documents', 'en', 'lieu', 'sûr'], 'B2'], [['Il', 'ne', 'faut', 'surtout', 'pas', 'arrêter', 'la', 'prise', 'dantibiotiques', 'en', 'cours', 'de', 'traitement', 'sous', 'prétexte', 'que', 'lon', 'se', 'sent', 'mieux'], 'B2'], [['Lun', 'des', 'principaux', 'risque', 'des', 'soldes', 'cest', 'la', 'tentation', 'de', 'tout', 'acheter', 'sous', 'prétexte', 'que', 'ce', 'nest', 'pas', 'cher'], 'B2'], [['Les', 'appréciations', 'sur', 'le', 'bulletin', 'de', 'notes', 'sont', 'aussi', 'importantes', 'que', 'les', 'moyennes', 'ellesmêmes'], 'B2'], [['De', 'nombreux', 'opposants', 'au', 'projet', 'se', 'sont', 'rassemblés', 'en', 'dépit', 'de', 'linterdiction', 'de', 'manifester'], 'B2'], [['Quoique', 'brève', 'notre', 'entrevue', 'a', 'été', 'productive'], 'B2'], [['Il', 'ny', 'a', 'quà', 'observer', 'la', 'métamorphose', 'des', 'rues', 'commerçantes', 'pouren', 'être', 'convaincu'], 'B2'], [['Les', 'passants', 'semblent', 'moins', 'pressés', 'et', 'sattardent', 'plus', 'facilement', 'devant', 'une', 'devanture', 'ou', 'dansles', 'rayons'], 'B2'], [['Mais', 'il', 'est', 'aussi', 'un', 'descendant', 'de', 'dixneuvième', 'génération', 'de', 'Dante', 'ce', 'qui', 'lui', 'confère', 'certaines', 'responsabilités', 'visàvis', 'de', 'son', 'très', 'lointain', 'et', 'très', 'prestigieux', 'aïeul'], 'B2'], [['Tel', 'est', 'en', 'tout', 'cas', 'l’', 'avis', 'd’', 'un', 'avocat', 'florentin', 'l’', 'honorable', 'Alessandro', 'Traversi', 'qui', 'a', 'invité', 'le', 'scientifique', 'à', 'représenter', 'les', 'intérêts', 'de', 'son', 'ancêtre', 'lors', 'de', 'l’', 'examen', 'd’', 'une', 'fausse', 'requête', 'en', 'révision', 'du', 'procès', 'de', 'Dante'], 'B2'], [['Organisée', 'à', 'l’', 'occasion', 'du', '700e', 'anniversaire', 'de', 'la', 'mort', 'du', 'poète', 'la', 'fausse', 'audience', 'prendra', 'la', 'forme', 'd’', 'un', 'congrès', 'qui', 'doit', 'se', 'tenir', 'le', '21', 'mai', 'prochain', 'selon', 'les', 'informations', 'du', 'Corriere', 'della', 'Sera'], 'B2'], [['Le', 'chancelier', 'autrichien', 'a', 'annoncé', 'ne', 'plus', 'vouloir', 'dépendre', 'de', 'l’', 'Union', 'européenne', 'pour', 'la', 'production', 'de', 'vaccins', 'et', 'que', 'avec', 'la', 'Première', 'ministre', 'danoise', 'il', 'allait', 'engager', 'des', 'discussions', 'avec', 'Israël'], 'B2'], [['Pour', 'la', 'presse', 'la', 'solidarité', 'européenne', 'en', 'matière', 'de', 'vaccination', '“', 's’', 'effondre', '”'], 'B2'], [['Les', 'forces', 'de', 'lordre', 'ont', 'tiré', 'des', 'gaz', 'lacrymogènes', 'des', 'munitions', 'en', 'caoutchouc', 'et', 'des', 'balles', 'réelles', 'selon', 'un', 'secouriste'], 'B2'], [['La', 'journée', 'de', 'dimanche', 'a', 'été', 'particulièrement', 'meurtrière', 'avec', 'au', 'moins', '18', 'morts', 'dans', 'les', 'rangs', 'des', 'manifestants', 'daprès', 'les', 'Nations', 'Unies'], 'B2'], [['Le', 'RoyaumeUni', 'a', 'demandé', 'une', 'nouvelle', 'réunion', 'du', 'Conseil', 'de', 'sécurité', 'vendredi'], 'B2'], [['Joe', 'Biden', 'a', 'dû', 'renoncer', 'mardi', 'à', 'sa', 'candidate', 'pour', 'diriger', 'le', 'budget', 'à', 'la', 'Maison', 'Blanche', 'Neera', 'Tanden', 'face', 'à', 'lopposition', 'de', 'sénateursclés', 'premier', 'revers', 'pour', 'le', 'nouveau', 'président', 'démocrate', 'qui', 'dispose', 'dune', 'très', 'courte', 'majorité', 'au', 'Congrès'], 'B2'], [['Pendant', 'des', 'semaines', 'la', 'Maison', 'Blanche', 'avait', 'courtisé', 'une', 'poignée', 'de', 'sénateurs', 'républicains', 'et', 'démocrates', 'modérés', 'qui', 'détiennent', 'aujourdhui', 'le', 'pouvoir', 'de', 'bloquer', 'ou', 'de', 'sauver', 'ses', 'grands', 'projets'], 'B2'], [['Jai', 'accepté', 'la', 'demande', 'de', 'Neera', 'Tanden', 'de', 'retirer', 'sa', 'candidature', 'a', 'annoncé', 'Joe', 'Biden', 'dans', 'un', 'communiqué'], 'B2'], [['Des', 'sénateurs', 'républicains', 'mais', 'aussi', 'un', 'démocrate', 'sétaient', 'ouvertement', 'déclarés', 'contre', 'son', 'arrivée', 'au', 'poste', 'de', 'directrice', 'du', 'Bureau', 'de', 'la', 'gestion', 'et', 'du', 'budget', 'à', 'la', 'Maison', 'Blanche', 'OMB', 'un', 'service', 'très', 'puissant', 'notamment', 'chargé', 'de', 'développer', 'le', 'budget', 'voulu', 'par', 'le', 'président'], 'B2'], [['Les', 'républicains', 'se', 'disaient', 'outrés', 'par', 'danciens', 'commentaires', 'les', 'visant', 'nommément', 'tandis', 'que', 'des', 'progressistes', 'proches', 'de', 'Bernie', 'Sanders', 'la', 'jugeaient', 'trop', 'centriste'], 'B2'], [['Au', 'bout', 'du', 'compte', 'cest', 'un', 'démocrate', 'plus', 'conservateur', 'Joe', 'Manchin', 'qui', 'a', 'de', 'fait', 'condamné', 'ses', 'chances', 'en', 'annonçant', 'fin', 'février', 'quil', 'ne', 'voterait', 'pas', 'pour', 'elle'], 'B2'], [['Il', 'jugeait', 'que', 'ses', 'déclarations', 'ouvertement', 'politiques', 'auraient', 'un', 'impact', 'toxique', 'sur', 'les', 'relations', 'entre', 'le', 'Congrès', 'et', 'la', 'Maison', 'Blanche'], 'B2'], [['Les', 'démocrates', 'disposent', 'dune', 'très', 'courte', 'majorité', 'à', 'la', 'chambre', 'haute', 'avec', '50', 'sénateurs', 'contre', '50', 'républicains'], 'B2'], [['En', 'cas', 'dégalité', 'la', 'viceprésidente', 'Kamala', 'Harris', 'dispose', 'dune', 'voix', 'pour', 'départager', 'le', 'vote'], 'B2'], [['Les', 'nominations', 'présidentielles', 'ont', 'besoin', 'de', '51', 'voix', 'pour', 'être', 'approuvées', 'par', 'le', 'Sénat'], 'B2'], [['Toute', 'défection', 'démocrate', 'doit', 'donc', 'être', 'compensée', 'par', 'un', 'vote', 'républicain'], 'B2'], [['Malheureusement', 'il', 'semble', 'désormais', 'évident', 'quil', 'ny', 'a', 'pas', 'de', 'voie', 'pour', 'obtenir', 'une', 'confirmation', 'a', 'écrit', 'Neera', 'Tanden', 'à', 'Joe', 'Biden', 'en', 'retirant', 'sa', 'candidature'], 'B2'], [['Ancien', 'sénateur', 'pendant', 'plus', 'de', '35', 'ans', 'le', 'démocrate', 'se', 'targue', 'de', 'connaître', 'la', 'maison', 'et', 'de', 'vouloir', 'chercher', 'des', 'accords', 'entre', 'partis', 'au', 'Congrès'], 'B2'], [['Jusquici', 'ses', 'autres', 'nominations', 'ont', 'été', 'approuvées', 'souvent', 'à', 'une', 'majorité', 'écrasante'], 'B2'], [['Et', 'les', 'démocrates', 'ont', 'commencé', 'à', 'faire', 'avancer', 'ses', 'grands', 'projets', 'de', 'loi', 'à', 'la', 'Chambre', 'des', 'représentants', 'où', 'ils', 'détiennent', 'aussi', 'la', 'majorité'], 'B2'], [['Mais', 'la', 'chute', 'de', 'Neera', 'Tanden', 'annonce', 'les', 'autres', 'batailles', 'plus', 'rudes', 'à', 'venir', 'au', 'Sénat'], 'B2'], [['Prochain', 'obstacle', 'dès', 'cette', 'semaine', 'le', 'vote', 'attendu', 'à', 'la', 'chambre', 'haute', 'sur', 'le', 'vaste', 'plan', 'de', 'relance', 'de', 'léconomie', 'américaine', 'frappée', 'par', 'la', 'pandémie'], 'B2'], [['Le', 'chef', 'de', 'la', 'majorité', 'au', 'Sénat', 'Chuck', 'Schumer', 'a', 'affirmé', 'mardi', 'compter', 'sur', 'suffisamment', 'de', 'voix', '51', 'pour', 'approuver', 'ce', 'projet', 'de', 'loi', 'dici', 'la', 'fin', 'de', 'semaine'], 'B2'], [['Mais', 'cest', 'uniquement', 'parce', 'que', 'le', 'texte', 'ninclura', 'pas', 'de', 'hausse', 'du', 'salaire', 'minimum', 'contrairement', 'au', 'projet', 'initial', 'quil', 'a', 'pu', 'montrer', 'une', 'telle', 'assurance'], 'B2'], [['Car', 'Joe', 'Manchin', 'et', 'Kyrsten', 'Sinema', 'sétaient', 'déclarés', 'contre', 'cette', 'mesure', 'précise', 'menaçant', 'de', 'faire', 'sombrer', 'lensemble', 'du', 'plan', 'daide', 'qui', 'ne', 'compte', 'pas', 'pour', 'linstant', 'de', 'soutien', 'républicain'], 'B2'], [['Ton', 'direct', 'et', 'souvent', 'bougon', 'pour', 'Joe', 'Manchin', '73', 'ans', 'et', 'discrétion', 'médiatique', 'contrastant', 'avec', 'les', 'perruques', 'et', 'tenues', 'colorées', 'de', 'Kyrsten', 'Sinema', '44', 'ans', 'première', 'candidate', 'au', 'Sénat', 'ouvertement', 'bisexuelle', 'en', '2018'], 'B2'], [['Le', 'duo', 'na', 'pas', 'grand', 'chose', 'en', 'commun', 'mis', 'à', 'part', 'ses', 'positions', 'relativement', 'conservatrices', 'qui', 'lui', 'vaut', 'les', 'foudres', 'des', 'progressistes'], 'B2'], [['Avec', 'en', 'premier', 'lieu', 'leur', 'opposition', 'à', 'une', 'réforme', 'du', 'Sénat', 'qui', 'permettrait', 'dadopter', 'toutes', 'les', 'lois', 'sans', 'passer', 'par', 'un', 'premier', 'vote', 'requérant', '60', 'voix'], 'B2'], [['Une', 'perspective', 'quasi', 'inconcevable', 'dans', 'un', 'Congrès', 'aussi', 'divisé'], 'B2'], [['Les', 'démocrates', 'vont', 'être', 'de', 'plus', 'en', 'plus', 'en', 'colère', 'quand', 'ils', 'vont', 'voir', 'que', 'le', 'Sénat', 'tue', 'toutes', 'leurs', 'priorités', 'prévoit', 'Larry', 'Sabato', 'politologue', 'à', 'luniversité', 'de', 'Virginie'], 'B2'], [['Les', 'deux', 'prochaines', 'années', 'jusquaux', 'élections', 'parlementaires', 'devraient', 'être', 'marquées', 'par', 'limpasse', 'au', 'Congrès', 'expliquetil', 'à', 'lAFP'], 'B2'], [['Mais', 'je', 'parie', 'quil', 'y', 'aura', 'plus', 'de', 'compromis', 'que', 'ce', 'à', 'quoi', 'nous', 'nous', 'attendons', 'poursuitil'], 'B2'], [['Or', 'les', 'républicains', 'veulent', 'aussi', 'accomplir', 'des', 'choses'], 'B2'], [['Car', 'si', 'rien', 'de', 'ce', 'que', 'les', 'démocrates', 'désirent', 'ne', 'peut', 'passer', 'au', 'Sénat', 'rien', 'de', 'ce', 'que', 'veulent', 'les', 'républicains', 'ne', 'pourra', 'non', 'plus', 'être', 'adopté', 'à', 'la', 'Chambre', 'ou', 'au', 'Sénat'], 'B2'], [['Le', 'gouvernement', 'italien', 'mettra', 'un', 'jour', 'et', 'demi', 'avant', 'de', 'bouger', 'le', 'petit', 'doigt'], 'B2'], [['Au', 'programme', 'organisez', 'un', 'blind', 'test', 'et', 'un', 'karaoké', 'en', 'classe', 'avec', 'les', 'artistes', 'francophones', 'des', 'années', '1960', 'et', 'd’', 'aujourd’', 'hui'], 'B2'], [['Nous', 'sommes', 'au', 'Théâtre', 'de', 'la', 'Jeunesse', 'à', 'Hanoï', 'pour', 'une', 'soirée', '«', 'Cabaret', 'des', 'artistes', '»'], 'B2'], [['Deux', 'd’', 'entre', 'eux', 'se', 'détachent', 'du', 'lot', ' ', 'ils', 'chantent', 'à', 'la', 'perfection', 'même', 's’', 'ils', 'ont', 'un', 'peu', 'de', 'difficultés', 'à', 'maitriser', 'le', 'français'], 'B2'], [['Il', 'y', 'a', 'beaucoup', 'de', 'Vietnamiens', 'même', 's’', 'ils', 'ne', 'parlent', 'pas', 'le', 'français', 'ils', 'aiment', 'aussi', 'les', 'chansons', 'françaises'], 'B2'], [['Par', 'exemple', 'comme', 'mes', 'parents', 'ils', 'ne', 'parlent', 'pas', 'le', 'français', 'mais', 'ils', 'aiment', 'aussi', 'les', 'chansons', 'françaises'], 'B2'], [['En', 'tout', 'seize', 'chansons', 'interprétées', 'sur', 'une', 'scène', 'où', 'a', 'été', 'reconstituée', 'une', 'terrasse', 'de', 'café', 'parisien'], 'B2'], [['Ce', 'que', 'je', 'fais', 'dans', 'le', 'monde', 'plus', 'particulièrement', 'c’', 'est', 'de', 'monter', 'des', 'spectacles', 'dans', 'la', 'langue', 'du', 'pays'], 'B2'], [['C’', 'estàdire', 'ici', 'par', 'exemple', 'j’', 'ai', 'monté', 'Les', 'Fourberies', 'de', 'Scapin', 'en', 'vietnamien'], 'B2'], [['Et', 'j’', 'ai', 'fait', 'des', 'spectacles', 'dans', 'beaucoup', 'de', 'pays', 'du', 'monde', 'mais', 'en', 'cantonais', 'en', 'espagnol', 'enfin', 'bon', 'en', 'arabe'], 'B2'], [['Je', 'ne', 'conçois', 'pas', 'tellement', 'le', 'théâtre', 'populaire', 'avec', 'un', 'spectacle', 'dans', 'une', 'langue', 'qu’', 'on', 'ne', 'comprend', 'pas'], 'B2'], [['Parce', 'que', 'si', 'vous', 'prenez', 'des', 'chansons', 'difficiles', 'vous', 'n’', 'y', 'arriverez', 'jamais'], 'B2'], [['Donc', 'je', 'connais', 'bien', 'la', 'musique', 'et', 'je', 'sais', 'les', 'limites', 'des', 'jeunes', 'que', 'l’', 'on', 'prend', 'et', 'qui', 'n’', 'ont', 'jamais', 'chanté'], 'B2'], [['Il', 'faut', 'leur', 'faciliter', 'la', 'tâche', 'quand', 'même', 'dans', 'les', 'écarts', 'dans', 'les', 'rythmes'], 'B2'], [['Dans', 'une', 'grande', 'salle', 'au', 'design', 'épuré', 'ils', 'sont', 'une', 'cinquantaine', 'd’', 'étudiants', 'de', '18', 'à', '34', 'ans', 'les', 'yeux', 'rivés', 'sur', 'leur', 'écran', 'd’', 'ordinateur'], 'B2'], [['Assise', 'à', 'son', 'bureau', 'Matina', 'Razafimahefa', 'la', 'fondatrice', 'de', 'Sayna', 'étudie', 'les', 'CV', 'qui', 'lui', 'arrivent', 'par', 'centaines'], 'B2'], [['Les', 'profils', 'retenus', 'seront', 'rappelés', 'pour', 'participer', 'aux', 'entretiens', 'et', 'aux', 'quarantedeux', 'heures', 'de', 'concours'], 'B2'], [['Aujourd’hui', 'Madagascar', 'c’', 'est', '700', 'personnes', 'qui', 'sortent', 'des', 'écoles', 'en', 'informatique'], 'B2'], [['Pourtant', 'on', 'a', 'environ', '200', 'entreprises', 'qui', 'sont', 'prêtes', 'à', 'embaucher', 'par', 'vingtaine', 'trentaine', 'tous', 'les', 'ans', 'et', 'qui', 'ont', 'du', 'mal', 'à', 'recruter', 'des', 'développeurs', 'de', 'qualité'], 'B2'], [['Le', 'pari', 'que', 'l’', 'entreprise', 'prend', 'chez', 'Sayna', 'c’', 'est', 'd’', 'avoir', 'un', 'impact', 'social', 'puisqu’', 'en', 'fait', 'elle', 'choisit', 'intentionnellement', 'de', 'recruter', 'un', 'jeune', 'qui', 'vient', 'd’', 'un', 'milieu', 'précaire', 'et', 'donc', 'elle', 's’', 'engage', 'à', 'lui', 'payer', 'sa', 'formation', 'et', 'en', 'plus', 'de', 'ça', 'à', 'lui', 'payer', 'un', 'salaire'], 'B2'], [['Ce', 'qui', 'fait', 'que', 'le', 'jeune', 'passe', 'd’', 'un', 'niveau', 'de', 'vie', 'de', 'moins', 'de', 'un', 'euros', 'par', 'jour', 'à', 'plus', 'de', 'six', 'voire', 'sept', 'euros', 'par', 'jour'], 'B2'], [['Il', 'y', 'a', 'sept', 'mois', 'après', 'sa', 'formation', 'intensive', 'chez', 'Sayna', 'Cédric', 'Maminjanahary', '23', 'ans', 'a', 'intégré', 'une', 'banque', 'de', 'microfinance'], 'B2'], [['Depuis', 'toujours', 'je', 'rêve', 'que', 'en', 'un', 'seul', 'clic', 'j’', 'apporte', 'de', 'la', 'magie', 'à', 'la', 'vie', '\\xa0'], 'B2'], [['J’', 'ai', 'économisé', 'mon', 'argent', 'de', 'poche', 'pour', 'que', 'chaque', 'samedi', 'je', 'puisse', 'me', 'rendre', 'chez', 'un', 'au', 'cybercafé', 'pour', 'télécharger', 'des', 'tutos', 'sur', 'Internetpour', 'le', 'développement'], 'B2'], [['Le', 'fait', 'de', 'passer', 'par', 'Sayna', 'ça', 'a', 'accéléré', 'le', 'cours', 'de', 'ma', 'vie', 'parce', 'que', 'maintenant', 'je', 'gagne', 'ma', 'vie', 'en', 'faisant', 'ce', 'que', 'j’', 'aime', 'le', 'mieux', 'au', 'monde', '\\xa0'], 'B2'], [['En', 'plus', 'd’', 'une', 'formation', 'aux', 'langages', 'informatiques', 'purs', 'Sayna', 'impose', 'aussi', 'l’', 'apprentissage', 'd’', 'une', 'toute', 'autre', 'forme', 'de', 'code'], 'B2'], [['Parallèlement', 'on', 'met', 'l’', 'accent', 'sur', 'le', 'savoirvivre', 'en', 'entreprise', 'parce', 'que', 'nous', 'les', 'Malgaches', 'dans', 'notre', 'culture', 'on', 'n’', 'a', 'pas', 'cette', 'habitude', 'de', 'dire', 'non', 'ou', 'de', 'dire', '\\xa0 ', '«', '\\xa0', 'Je', 'ne', 'sais', 'pas', 'faire', '\\xa0', '»'], 'B2'], [['Et', 'pourtant', 'c’', 'est', 'essentiel', 'pour', 'le', 'bon', 'fonctionnement', 'd’', 'une', 'entreprise'], 'B2'], [['C’', 'est', 'très', 'important', 'surtout', 'dans', 'une', 'dynamique', 'd’', 'innovation', 'dans', 'laquelle', 'travaille', 'typiquement', 'une', 'équipe', 'de', 'développement', 'de', 'voir', 'en', 'tant', 'que', 'manager', 'que', 'les', 'personnes', 'en', 'face', 's’', 'expriment', 'indépendamment', 'offrent', 'leurs', 'pistes', 'd’', 'amélioration', 'sur', 'leur', 'travail', 'au', 'quotidien'], 'B2'], [['Sa', 'société', 'a', 'déjà', 'embauché', 'deux', 'développeurs', 'chez', 'Sayna', 'l’', 'an', 'dernier', 'et', 'compte', 'bien', 'renouveler', 'l’', 'expérience', 'en', '2019'], 'B2'], [['Outre', 'les', 'économies', 'substantielles', 'que', 'permet', 'une', 'telle', 'collaboration', 'les', 'entreprises', 'bénéficient', 'désormais', 'de', 'jeunes', 'formés', 'à', 'leurs', 'besoins', 'spécifiques'], 'B2'], [['Ça', 'veut', 'dire', 'aussi', 'que', 'cet', 'abrègement', 'est', 'lié', 'à', 'une', 'certaine', 'communautarisation', 'de', 'la', 'langue'], 'B2'], [['Il', 'y', 'a', 'là', 'un', 'aspect', 'de', 'communautarisation', 'de', 'la', 'langue', 'cest', 'à', 'dire', 'quil', 'faut', 'être', 'du', 'milieu', 'pour', 'comprendre'], 'B2'], [['À', 'cette', 'époque', 'la', 'plupart', 'des', 'enfants', 'nétaient', 'pas', 'gâtés', 'comme', 'ils', 'le', 'sont', 'à', 'lheure', 'actuelle', 'et', 'ils', 'ne', 'recevaient', 'quun', 'seul', 'cadeau', 'donc', 'il', 'revêtait', 'une', 'importance', 'toute', 'particulière', '\\n'], 'C1'], [['À', 'la', 'fin', 'de', 'son', 'mandat', 'VGE', 'est', 'accusé', 'davoir', 'reçu', 'des', 'diamants', 'en', 'cadeau', 'du', 'président', 'centrafricain', 'Bokassa', 'et', 'sempêtre', 'dans', 'laffaire', '\\n'], 'C1'], [['Alex', 'Thompson', 'est', 'attendu', 'dans', 'la', 'nuit', ' ', 'il', 'se', 'sera', 'battu', 'jusquau', 'bout'], 'C1'], [['Après', 'diner', 'Arthur', 'me', 'donnait', 'souvent', 'une', 'petite', 'friandise', 'avant', 'de', 'ressortir', 'et', 'je', 'massoupissais', 'tranquillement', 'dans', 'mon', 'panier', '\\n'], 'C1'], [['Autant', 'vous', 'dire', 'quà', 'la', 'fin', 'de', 'la', 'journée', 'je', 'ne', 'rêve', 'que', 'dune', 'chose', 'mon', 'panier', '\\n'], 'C1'], [['Ben', 'au', 'bout', 'dun', 'moment', 'cest', 'plus', 'devenu', 'le', 'président', 'cétait', 'quelquun', 'qui', 'mangeait', 'chez', 'vous', '\\n'], 'C1'], [['Cest', 'quand', 'même', 'une', 'drôle', 'didée', 'cest', 'pas', 'mal', 'moins', 'drôle', '\\n'], 'C1'], [['Cétait', 'hier', 'aprèsmidi', 'que', 'les', 'deux', 'hommes', 'ont', 'viré', 'à', 'lentrée', 'de', 'la', 'Manche', 'avant', 'de', 'plonger', 'dans', 'un', 'vent', 'glacial', 'ction', 'les', 'Sables', 'dOlonne', 'Alex', 'Thomson', 'est', 'alors', 'pointé', 'à', 'quatrevingtquinze', 'milles', 'les', 'dés', 'sont', 'jetés', 'dautant', 'plus', 'quAlex', 'est', 'épuisé', 'par', 'une', 'série', 'de', 'problèmes', 'techniques', 'qui', 'lempêchent', 'de', 'dormir', '\\n'], 'C1'], [['Cétait', 'le', 'paradis', 'je', 'faisais', 'de', 'longues', 'siestes', 'tantôt', 'sur', 'le', 'canapé', 'tantôt', 'sur', 'le', 'lit', 'dArthur', 'à', 'la', 'chaleur', 'du', 'soleil', 'ou', 'du', 'radiateur', 'selon', 'les', 'saisons'], 'C1'], [['Cétait', 'un', 'homme', 'de', 'conviction', 'qui', 'sest', 'battu', 'pour', 'défendre', 'ses', 'positions'], 'C1'], [['Cétait', 'euh', 'chaque', 'mètre', 'gagné', 'cest', 'dur', 'et', 'puis', 'euh', 'je', 'la', 'voulais', 'tellement', 'cette', 'victoire', '\\n'], 'C1'], [['Ça', 'avait', 'dû', 'coûter', 'très', 'cher', 'à', 'mes', 'parents', 'qui', 'tiraient', 'souvent', 'le', 'diable', 'par', 'la', 'queue', 'en', 'ce', 'temps', 'daprèsguerre', '\\n'], 'C1'], [['Ce', 'cadeau', 'me', 'transporta', 'instantanément', 'dans', 'un', 'monde', 'imaginaire', 'où', 'je', 'passais', 'des', 'heures', 'entières', 'à', 'jouer', 'à', 'la', 'coiffeuse', 'avec', 'mes', 'clients', 'imaginaires', 'et', 'mes', 'poupées', 'et', 'pendant', 'longtemps', 'je', 'nourris', 'le', 'désir', 'dêtre', 'coiffeuse', '\\n'], 'C1'], [['Cependant', 'dans', 'un', 'coin', 'de', 'la', 'pièce', 'il', 'y', 'avait', 'une', 'énorme', 'boîte', 'sur', 'laquelle', 'jarrivais', 'à', 'déchiffrer', 'les', 'mots', 'Salon', 'de', 'Coiffure', '\\n'], 'C1'], [['Ces', 'derniers', 'ont', 'eu', 'la', 'bonne', 'idée', 'de', 'faire', 'les', 'recherches', 'à', 'HabsheimleBas', 'à', '200', 'mètres', 'plus', 'loin'], 'C1'], [['Comme', 'fai', 'vu', 'que', 'cétait', 'un', 'match', 'assez', 'dur', '\\n'], 'C1'], [['Comme', 'tous', 'les', 'soirs', 'cest', 'moi', 'Monsieur', 'Stopeleu', 'pour', 'vous', 'présenter', 'le', 'journal', 'Alsace', 'avec', 'des', 'nouvelles', 'du', 'HautRhin', 'des', 'nouvelles', 'du', 'BasRhin', 'et', 'des', 'nouvelles', 'aussi', 'du', 'bas', 'du', 'dos', 'tant', 'quon', 'y', 'est', '\\n'], 'C1'], [['Conscient', 'de', 'sa', 'popularité', 'assez', 'faible', 'il', 'renonce', 'par', 'la', 'suite', 'à', 'briguer', 'un', 'nouveau', 'mandat', 'présidentiel', '\\n'], 'C1'], [['Contre', 'lavis', 'de', 'tous', 'il', 'utilise', 'la', 'mise', 'en', 'scène', 'dune', 'conversation', 'avec', 'sa', 'fille', 'comme', 'affiche', 'de', 'campagne', '\\n'], 'C1'], [['Dans', 'les', 'années', '1990', 'Valéry', 'Giscard', 'dEstaing', 'sengage', 'pour', 'lEurope', 'mais', 'en', '2005', 'son', 'projet', 'de', 'Constitution', 'européenne', 'est', 'rejeté', 'en', 'France', 'par', 'référendum', 'Le', 'non', 'lemporte', 'largement', '\\n'], 'C1'], [['Depuis', 'son', 'départ', 'de', 'lÉlysée', 'il', 'était', 'membre', 'de', 'droit', 'du', 'Conseil', 'Constitutionnel', '\\n'], 'C1'], [['Donc', 'au', 'Québec', 'on', 'parle', 'français', 'un', 'point', 'cest', 'toute', '\\n'], 'C1'], [['Du', 'coup', 'je', 'suis', 'obligée', 'de', 'crier', 'pour', 'leur', 'dire', 'bonjour', 'de', 'lautre', 'côté', 'de', 'la', 'rue'], 'C1'], [['Elle', 'boit', 'de', 'leau', 'elle', 'a', 'chaud', 'cest', 'vrai', 'quil', 'fait', 'chaud'], 'C1'], [['Elle', 'est', 'belle', 'cette', 'victoire', 'pour', 'ce', 'skipper', 'de', 'trenteneuf', 'ans', '\\n'], 'C1'], [['Elle', 'me', 'touche', 'la', 'main', 'ça', 'veut', 'dire', 'quil', 'faut', 'que', 'je', 'lui', 'touche', 'les', 'seins'], 'C1'], [['Elle', 'se', 'cure', 'le', 'nez', 'ça', 'veut', 'dire', 'quelle', 'est', 'đégueu'], 'C1'], [['Elle', 'se', 'ronge', 'les', 'ongles', 'ça', 'veut', 'dire', 'quelle', 'est', 'anxieuse'], 'C1'], [['Elle', 'se', 'touche', 'les', 'cheveux', 'un', 'classique', 'elle', 'me', 'désire'], 'C1'], [['En', 'effet', 'bien', 'que', 'je', 'naie', 'Jamais', 'vu', 'autant', 'dhumains', 'et', 'leurs', 'chiens', 'dans', 'les', 'rues', 'on', 'ne', 'sarrête', 'plus', 'pour', 'bavarder', 'et', 'on', 'est', 'trop', 'loin', 'les', 'uns', 'des', 'autres', 'de', 'toute', 'façon', '\\n'], 'C1'], [['En', 'effet', 'Monsieur', 'Helmut', 'Kohl', 'donne', 'priorité', 'aux', 'Allemands', 'de', 'lEst', 'hein', '\\n'], 'C1'], [['Ensuite', 'nous', 'sortions', 'pour', 'notre', 'promenade', 'au', 'parc', 'où', 'nous', 'retrouvions', 'quelques', 'amis'], 'C1'], [['Et', 'après', 'ça', 'javais', 'lappartement', 'rien', 'quà', 'moi'], 'C1'], [['Et', 'en', '1969', 'il', 'ouvre', 'la', 'porte', 'de', 'sortie', 'au', 'Général', 'de', 'Gaulle', 'en', 'refusant', 'dappeler', 'à', 'soutenir', 'son', 'référendum', '\\n'], 'C1'], [['Et', 'je', 'ne', 'vous', 'ai', 'pas', 'encore', 'parlé', 'des', 'promenades'], 'C1'], [['Et', 'vous', 'vous', 'souvenezvous', 'dun', 'cadeau', 'de', 'Noël', 'que', 'vous', 'avez', 'aimé', 'autant', 'que', 'jai', 'adoré', 'le', 'mien'], 'C1'], [['Fait', 'que', 'le', 'Québec', 'ben', 'cest', 'une', 'colonie', 'française', 'pis', 'les', 'colons', 'ben', 'ils', 'y', 'aboutissent', 'par', 'bateau', 'depuis', 'la', 'France', '\\n'], 'C1'], [['Finalement', 'la', 'victoire', 'je', 'lai', 'entrevue', 'que', 'la', 'nuit', 'dernière', '\\n'], 'C1'], [['Giscard', 'se', 'laisse', 'filmer', 'durant', 'ses', 'vacances', 'à', 'la', 'montagne', 'ou', 'à', 'la', 'plage', 'il', 'apparaît', 'en', 'short', 'puis', 'torse', 'nu', 'lors', 'dun', 'match', 'de', 'football', 'organisé', 'entre', 'notables', 'de', 'Chamalières', 'village', 'dont', 'il', 'fut', 'longtemps', 'le', 'maire', '\\n'], 'C1'], [['Giscard', 'va', 'pourtant', 'réussir', 'à', 'transformer', 'ce', 'revers', 'en', 'tremplin', '\\n'], 'C1'], [['Il', 'autorise', 'le', 'recours', 'à', 'lIVG', 'par', 'lintermédiaire', 'de', 'sa', 'Ministre', 'de', 'la', 'Santé', 'Simone', 'Veil', 'facilite', 'le', 'divorce', 'augmente', 'le', 'Minimum', 'Vieillesse', '\\n'], 'C1'], [['Il', 'change', 'le', 'tempo', 'de', 'la', 'Marseillaise', 'déplace', 'le', 'défilé', 'du', '14', 'jullet', 'à', 'la', 'Bastille', 'et', 'sinvite', 'à', 'diner', 'dans', 'le', 'salon', 'des', 'Français', '\\n'], 'C1'], [['Il', 'est', 'le', 'premier', 'à', 'mettre', 'en', 'scène', 'sa', 'vie', 'privée', 'et', 'sempare', 'comme', 'personne', 'du', 'nouvel', 'outil', 'de', 'communication', 'qui', 'monte', ' ', 'la', 'télévision', '\\n'], 'C1'], [['Il', 'faut', 'laisser', 'les', 'choses', 'basses', 'mourir', 'de', 'leur', 'propre', 'poison', '\\n'], 'C1'], [['Il', 'lui', 'aura', 'fallu', 'des', 'années', 'de', 'négociations', 'pour', 'faire', 'changer', 'la', 'législation'], 'C1'], [['Il', 'ne', 'se', 'remet', 'jamais', 'vraiment', 'de', 'cette', 'défaite', '\\n'], 'C1'], [['Il', 'reste', 'pas', 'moins', 'quon', 'parle', 'français', '\\n'], 'C1'], [['Il', 'suffisalt', 'juste', 'de', 'savoir', 'les', 'Interpréter'], 'C1'], [['Jai', 'compris', 'dans', 'cette', 'campagne', 'que', 'vous', 'souhaitiez', 'le', 'changement', '\\n'], 'C1'], [['Jai', 'rien', 'lâché', 'pas', 'un', 'mètre', '\\n'], 'C1'], [['Javais', 'lu', 'dans', 'un', 'bouquin', 'que', 'chaque', 'geste', 'lors', 'dun', 'premier', 'rendezvous', 'nétait', 'pas', 'anodin'], 'C1'], [['Je', 'dois', 'tout', 'donner', 'je', 'nai', 'pas', 'le', 'drolt', 'à', 'lerreur'], 'C1'], [['Je', 'louvrais', 'avec', 'impatience', 'et', 'à', 'lintérieur', 'se', 'trouvait', 'une', 'pièce', 'qui', 'consistait', 'en', 'trois', 'murs', 'un', 'sol', 'mais', 'pas', 'de', 'plafond', 'un', 'salon', 'de', 'coiffure', 'tout', 'équipé', 'avec', 'des', 'chaises', 'des', 'lavabos', 'des', 'séchoirs', 'et', 'des', 'chariots', 'remplis', 'de', 'bigoudis', 'de', 'peignes', 'de', 'brosses', 'et', 'de', 'pinces', 'en', 'tous', 'genres', 'le', 'tout', 'à', 'échelle', 'bien', 'entendu', '\\n'], 'C1'], [['Je', 'me', 'rappelle', 'encore', 'mon', 'impatience', 'très', 'tôt', 'le', 'matin', 'du', '25', 'décembre', 'comme', 'je', 'commençais', 'à', 'dévorer', 'avec', 'gourmandise', 'les', 'mandarines', 'et', 'les', 'crottes', 'de', 'chocolat', 'que', 'javais', 'trouvées', 'comme', 'chaque', 'année', 'dans', 'mes', 'chaussures', '\\n'], 'C1'], [['Je', 'pensais', 'avoir', 'vraiment', 'fait', 'le', 'trou', 'suffisant', 'au', 'Cap', 'Horn', 'et', 'cétait', 'pas', 'le', 'cas', 'et', 'cest', 'vrai', 'que', 'bah', 'jusquau', 'bout', 'il', 'a', 'fallu', 'saccrocher', '\\n\\n'], 'C1'], [['Je', 'vais', 'te', 'faire', 'voyager', 'tu', 'les', 'reverras', 'ces', 'plages', 'de', 'sable', 'blanc', 'sur', 'lequel', 'u', 'aimals', 'courir', 'avec', 'tes', 'parents', 'avant', 'daller', 'manger', 'des', 'churros', 'sur', 'le', 'port'], 'C1'], [['Létape', 'suivante', 'cest', 'léchauffement', 'surtout', 'pour', 'pas', 'se', 'blesser', 'parce', 'que', 'le', 'cancan', 'cest', 'quand', 'même', 'une', 'danse'], 'C1'], [['La', 'jeunesse', 'reste', 'seule', 'à', 'sentir', 'la', 'réprobation', 'des', 'uns', 'et', 'lindifférence', 'des', 'autres', '\\n'], 'C1'], [['Le', 'coup', 'de', 'la', 'bretelle', 'qui', 'tombe', 'je', 'vais', 'la', 'mettre', 'à', 'laise'], 'C1'], [['Loin', 'du', 'gouvernement', 'il', 'parvient', 'à', 'incarner', 'une', 'alternative', 'de', 'droite', 'au', 'gaullisme', '\\n'], 'C1'], [['Lors', 'du', 'premier', 'débat', 'organisé', 'à', 'la', 'télévision', 'il', 'écarte', 'son', 'dernier', 'concurrent', 'avec', 'une', 'réplique', 'mythique'], 'C1'], [['Maintenant', 'le', 'matin', 'cest', 'moi', 'qui', 'dois', 'réveiller', 'mon', 'humain', 'et', 'parfois', 'il', 'se', 'lève', 'plusieurs', 'heures', 'en', 'retard'], 'C1'], [['Mais', 'cest', 'que', 'Jaser', 'comme', 'du', 'monde', 'dicite', 'cest', 'un', 'osti', 'de', 'grosse', 'job', '\\n'], 'C1'], [['Mais', 'contrairement', 'à', 'ce', 'quon', 'pourrait', 'croire', 'il', 'sembleralt', 'que', 'ce', 'soit', 'les', 'Parisiens', 'qui', 'changent', 'leur', 'manière', 'de', 'parler', 'décidant', 'soudainement', 'de', 'prononcer', 'toutes', 'les', 'syllabes', 'toutes', 'les', 'lettres', 'toutes', 'les', 'mots', 'comme', 'il', 'faut', '\\n'], 'C1'], [['Mais', 'écoutemoi', 'ben', 'pis', 'tu', 'vas', 'tout', 'comprendre', '\\n'], 'C1'], [['Mais', 'les', 'chocs', 'pétroliers', 'plongent', 'la', 'France', 'dans', 'la', 'crise', '\\n'], 'C1'], [['Moi', 'jai', 'cest', 'sûr', 'que', 'cest', 'un', 'concurrent', 'très', 'redouté', 'et', 'redoutable', 'euh', 'et', 'il', 'a', 'eu', 'euh', 'il', 'a', 'eu', 'des', 'bonnes', 'conditions', 'méteo', 'dans', 'lAtlantique', 'pour', 'revenir', 'qui', 'lui', 'ont', 'permis', 'de', 'revenir', 'sur', 'la', 'bagarre', '\\n'], 'C1'], [['Mon', 'premier', 'est', 'un', 'champion', 'de', 'ski', 'français', 'très', 'renommé', 'mon', 'deuxième', 'est', 'un', 'champion', 'de', 'ski', 'français', 'encore', 'très', 'renommé', 'et', 'mon', 'tout', 'cest', 'pour', 'faire', 'rire', 'les', 'petits', 'enfants', '\\n'], 'C1'], [['Noublions', 'pas', 'que', 'cétait', 'les', 'années', '50', 'et', 'que', 'la', 'Barbie', 'nest', 'apparue', 'en', 'France', 'quen', '1963', '\\n'], 'C1'], [['Non', 'ça', 'veut', 'dire', 'sa', 'průle', 'ça', 'brûle'], 'C1'], [['On', 'nest', 'sortis', 'de', 'lauberge'], 'C1'], [['Oui', 'jai', 'bien', 'dit', 'les', 'promenades', 'parce', 'que', 'nous', 'sortons', 'à', 'présent', 'toutes', 'les', 'deux', 'heures', 'en', 'moyenne', '\\n'], 'C1'], [['Parce', 'que', 'Monsieur', 'Rocard', 'il', 'narrête', 'pas', 'de', 'nous', 'raconter', 'des', 'salades', '\\n'], 'C1'], [['Pis', 'croismoi', 'ce', 'nJest', 'pas', 'parce', 'que', 'tu', 'as', 'inventé', 'leau', 'chaude', 'que', 'tu', 'vas', 'tout', 'catcher', 'en', 'deux', 'minutes', '\\n'], 'C1'], [['Pis', 'ensuite', 'Champlain', 'poursuit', 'lexploration', 'du', 'Québec', 'qui', 'à', 'lépoque', 'sappelait', 'la', 'Nouvelle', 'France', '\\n'], 'C1'], [['Plus', 'tard', 'quand', 'javais', 'finalement', 'arrêté', 'de', 'jouer', 'avec', 'javais', 'fait', 'cadeau', 'de', 'mon', 'extraordinaire', 'salon', 'de', 'coiffure', 'à', 'une', 'enfant', 'du', 'quartier', 'beaucoup', 'plus', 'jeune', 'que', 'moi', 'ce', 'qui', 'mavait', 'déchiré', 'le', 'coeur', 'tellement', 'jy', 'étais', 'attachée', '\\n'], 'C1'], [['Puis', 'je', 'me', 'bagarrais', 'avec', 'Daffy', 'mon', 'canard', 'en', 'peluche', 'je', 'machouillais', 'mon', 'os', 'qui', 'couine', 'ou', 'je', 'chantais', 'à', 'runisson', 'avec', 'la', 'radio', 'de', 'la', 'voisine', '\\n'], 'C1'], [['Quand', 'Arthur', 'rentrait', 'enfin', 'je', 'lui', 'faisais', 'la', 'fête', 'en', 'sautant', 'dans', 'tous', 'les', 'sens', 'et', 'il', 'me', 'caressait', 'derrière', 'les', 'oreilles', 'en', 'riant'], 'C1'], [['Restaurant', 'classe', 'costar', 'peaufinage', 'du', 'regard', 'de', 'séducteur', 'on', 'part', 'sur', 'un', 'sansfaute'], 'C1'], [['Si', 'elle', 'cligne', 'des', 'yeux', 'ça', 'veut', 'dire', 'quil', 'faut', 'que', 'je', 'cligne', 'des', 'yeux'], 'C1'], [['Si', 'elle', 'se', 'mordille', 'les', 'lèvres', 'je', 'dois', 'lécher', 'les', 'miennes'], 'C1'], [['Si', 'elle', 'se', 'touche', 'les', 'lèvres', 'ça', 'veut', 'dire', 'quelle', 'menvie'], 'C1'], [['Si', 'elle', 'sourit', 'ça', 'veut', 'dire', 'que', 'je', 'lui', 'plais', 'il', 'faut', 'que', 'je', 'sourie'], 'C1'], [['Si', 'tu', 'viens', 'de', 'France', 'ou', 'dailleurs', 'tu', 'risques', 'davoir', 'du', 'mal', 'à', 'tout', 'comprendre', 'au', 'début', '\\n'], 'C1'], [['Si', 'l', 'va', 'falloir', 'maintenant', 'quon', 'trouve', 'du', 'boulot', 'en', 'France', 'hein', '\\n'], 'C1'], [['Temps', 'de', 'course', ' ', 'soixantequatorze', 'jours', 'trois', 'heures', 'trentecinq', 'minutes', 'quarantesix', 'secondes', '\\n'], 'C1'], [['Tous', 'les', 'soirs', 'mon', 'humain', 'et', 'moi', 'nous', 'installons', 'sur', 'le', 'canapé', 'et', 'il', 'me', 'fait', 'des', 'calins', 'en', 'regardant', 'la', 'télé', 'jusquà', 'ce', 'que', 'je', 'mendorme', 'la', 'tête', 'sur', 'ses', 'genoux', '\\n'], 'C1'], [['Un', 'regard', 'vers', 'le', 'clel', 'elle', 'sinspire', 'elle', 'se', 'projette'], 'C1'], [['Un', 'tiers', 'de', 'la', 'population', 'a', 'alors', 'moins', 'de', 'vingt', 'ans', 'et', 'VGE', 'comprend', 'mieux', 'que', 'les', 'autres', 'que', 'pour', 'cette', 'génération', 'Baby', 'Boom', 'les', 'vieilles', 'recettes', 'politiques', 'ça', 'ne', 'marche', 'plus', '\\n'], 'C1'], [['Une', 'belle', 'robe', 'moulante', 'elle', 'veut', 'mettre', 'en', 'avant', 'ses', 'formes'], 'C1'], [['Une', 'fois', 'élu', 'VGE', 'continue', 'de', 'rajeunir', 'les', 'codes', '\\n'], 'C1'], [['Voir', 'le', 'site', 'Je', 'parle', 'québécois', 'pour', 'les', 'explications', 'de', 'ces', 'différences', '\\n'], 'C1'], [['Vous', 'navez', 'pas', 'Monsleur', 'Mitterrand', 'le', 'monopole', 'du', 'ceur', '\\n'], 'C1'], [['Pour', 'moi', 'hommes', 'et', 'femmes', 'cest', 'pareil', 'ajoutetil', 'en', 'soulignant', 'que', 'nombre', 'de', 'ses', 'compagnons', 'de', 'la', 'Résistance', 'ont', 'été', 'agents', 'de', 'liaison', 'ou', 'parachutiste', 'comme', 'lui', 'et', 'que', 'plusieurs', 'rentre', 'elles', 'sont', 'tombées', 'sous', 'les', 'coups', 'de', 'lennemi'], 'C1'], [['À', 'la', 'fois', 'graphiste', 'et', 'journaliste', 'le', 'directeur', 'artistique', 'du', 'quotidien', 'espagnol', 'La', 'Vanguardia', 'Barcelone', 'publie', 'régulièrement', 'un', 'éditorial', 'sous', 'forme', 'dinfographie'], 'C1'], [['Ah', 'ça', 'cest', 'moins', 'drôle', 'augmentation', 'ce', 'moisci', 'encore', 'du', 'chômage', 'en', 'Alsace'], 'C1'], [['Alors', 'que', 'lentreprise', 'était', 'dans', 'une', 'relative', 'bonne', 'santé', 'financière', 'ces', 'deux', 'dernières', 'années', 'elle', 'se', 'retrouve', 'aujourdhui', 'dans', 'la', 'tourmente', 'et', 'dépose', 'le', 'bilan'], 'C1'], [['Armel', 'Le', 'Cléach', 'arrive', 'cet', 'aprèsmidi', 'au', 'large', 'des', 'Sables', 'dOlonne'], 'C1'], [['Au', 'Canada', 'les', 'parents', 'doivent', 'détenir', 'les', 'papier', 'didentification', 'de', 'leurs', 'enfants', 'lors', 'dun', 'voyage', 'en', 'famille', 'à', 'létranger'], 'C1'], [['Au', 'Québec', 'on', 'ne', 'discute', 'pas', 'on', 'jase', '\\n'], 'C1'], [['Bref', 'première', 'leçon', 'le', 'québécois', 'nest', 'pas', 'un', 'français', 'déformé', 'mais', 'plutôt', 'un', 'français', 'historique', 'proche', 'de', 'celui', 'qui', 'était', 'parlé', 'en', 'France', 'avant', 'le', '17e', 'siècle'], 'C1'], [['Cest', 'aussi', 'le', 'terme', 'dune', 'quête', 'qui', 'a', 'duré', 'presque', 'dix', 'ans', 'en', 'terminant', 'deux', 'fois', 'à', 'la', 'deuxième', 'place', 'du', 'Vendée', 'Globe'], 'C1'], [['Cest', 'dailleurs', 'un', 'vieux', 'français', 'où', 'lon', 'ne', 'prononçait', 'pas', 'toutes', 'les', 'syllabes', 'des', 'mots'], 'C1'], [['Cest', 'en', 'décembre', '1967', 'après', 'bien', 'des', 'invectives', 'au', 'Parlement', 'que', 'sa', 'loi', 'relative', 'à', 'la', 'régulation', 'des', 'naissances', 'dite', 'loi', 'Neuwirth', 'est', 'votée', ' ', 'elle', 'autorise', 'la', 'vente', 'exclusive', 'des', 'contraceptifs', 'en', 'pharmacie', 'sur', 'ordonnance', 'médicale', 'avec', 'autorisation', 'parentale', 'pour', 'les', 'mineures'], 'C1'], [['Cest', 'grâce', 'à', 'sort', 'passé', 'militaire', 'quil', 'a', 'trouvé', 'force', 'daffronter', 'ses', 'pairs'], 'C1'], [['Ça', 'veut', 'dire', 'SapeursPompiers'], 'C1'], [['Ce', 'comportement', 'ne', 'devrait', 'pas', 'nous', 'étonner', 'la', 'curiosité', 'est', 'innée', 'chez', 'lêtre', 'humain', 'contrairement', 'au', 'respect', 'de', 'la', 'vie', 'privée'], 'C1'], [['Cinq', 'ans', 'plus', 'tard', 'VGE', 'mène', 'une', 'campagne', 'présidentielle', 'moderne', 'inspirée', 'de', 'celle', 'de', 'Kennedy', 'aux', 'ÉtatsUnis', '\\n'], 'C1'], [['Comme', 'si', 'la', 'garde', 'partagée', 'et', 'les', 'droits', 'de', 'visites', 'ne', 'causaient', 'pas', 'déjà', 'mille', 'et', 'un', 'tracas', 'les', 'parents', 'séparés', 'doivent', 'être', 'bien', 'organisés', 'afin', 'de', 'passer', 'des', 'vacances', 'en', 'famille', 'à', 'lexterieur', 'du', 'pays'], 'C1'], [['Dabord', 'la', 'réaction', 'personnelle', 'cest', 'évidemment', 'celle', 'de', 'la', 'tristesse', '\\n'], 'C1'], [['Dans', 'cette', 'véritable', 'biographie', 'de', 'la', 'langue', 'française', 'les', 'auteurs', 'veulent', 'mettre', 'les', 'pendules', 'à', 'lheure', 'et', 'malmener', 'queslques', 'fausses', 'croyances'], 'C1'], [['Dans', 'tous', 'les', 'cas', 'lentrée', 'de', 'létranger', 'sur', 'le', 'territoire', 'Schengen', 'est', 'matérialisée', 'par', 'lapposition', 'sur', 'le', 'document', 'de', 'voyage', 'dun', 'cachet', 'que', 'détermine', 'le', 'point', 'de', 'départ', 'du', 'délai', 'de', 'séjour', 'autorisé'], 'C1'], [['Donc', 'les', 'deux', 'manières', 'de', 'parler', 'se', 'sont', 'différenciées', 'et', 'ont', 'évolué', 'de', 'manière', 'indépendante'], 'C1'], [['Durant', 'sa', 'durée', 'de', 'validité', 'son', 'titulaire', 'bénéfice', 'de', 'la', 'liberté', 'de', 'circulation', 'dans', 'lespace', 'Schengen'], 'C1'], [['e', 'suis', 'convaincu', 'que', 'ce', 'détail', 'vous', 'aura', 'échappé', 'et', 'que', 'votre', 'refus', 'nest', 'dei', 'quà', 'un', 'malentendu'], 'C1'], [['Elle', 'est', 'connue', 'mais', 'ça', 'fait', 'toujours', 'rigoler'], 'C1'], [['Elle', 'pose', 'sa', 'main', 'sur', 'la', 'table', 'elle', 'tente', 'un', 'rapprochement'], 'C1'], [['En', '1763', 'après', 'avoir', 'perdu', 'la', 'bataille', 'des', 'plaines', 'dAbraham', 'de', '1759', 'lempire', 'français', 'cède', 'ses', 'terres', 'à', 'lempire', 'britannique', 'et', 'il', 'ny', 'a', 'plus', 'déchange', 'entre', 'la', 'France', 'et', 'le', 'Québec'], 'C1'], [['En', 'effet', 'je', 'remplis', 'les', 'conditions', 'dancienneté', 'requises', 'puisque', 'je', 'travaille', 'dans', 'votre', 'entreprise', 'depuis', '45', 'mois', 'et', 'que', 'je', 'possède', 'une', 'expérience', 'professionnelle', 'de', '8', 'années'], 'C1'], [['En', 'fait', 'pour', 'ceux', 'qui', 'sauraient', 'pas', 'vous', 'savez', 'pourquoi', 'il', 'y', 'a', 'écrit', 'S', 'et', 'P', 'sur', 'les', 'voitures', 'de', 'pomplers'], 'C1'], [['En', 'mai', '1968', 'il', 'reprend', 'à', 'son', 'compte', 'une', 'partie', 'des', 'revendications', 'de', 'la', 'jeunesse', 'ce', 'qui', 'lui', 'permet', 'de', 'passer', 'entre', 'les', 'pavés', '\\n'], 'C1'], [['En', 'outre', 'ils', 'doivent', 'disposer', 'de', 'moyens', 'de', 'subsistance', 'suffisanats', 'tant', 'pour', 'la', 'durée', 'de', 'leur', 'séjour', 'que', 'pour', 'leur', 'retour', 'et', 'ne', 'pas', 'faire', 'lobjet', 'dun', 'signalement', 'aux', 'fins', 'de', 'nonadmission'], 'C1'], [['Enfin', 'la', 'délivrance', 'après', 'soixantequatorze', 'jours', 'dune', 'régate', 'exceptionnelle', '\\n'], 'C1'], [['Engagé', 'à', '16', 'ans', 'dans', 'la', 'Résistance', 'député', 'puis', 'sénateur', 'il', 'avait', 'réussi', 'dans', 'la', 'France', 'très', 'conservatrice', 'davant', '1968', 'à', 'faire', 'adopter', 'en', '1967', 'contre', 'la', 'majorité', 'de', 'son', 'camp', 'politique', 'la', 'loi', 'autorisant', 'la', 'contraception'], 'C1'], [['Et', 'bonne', 'humeur', 'pour', 'finir', 'avec', 'la', 'charade', 'habituelle', 'du', 'soir'], 'C1'], [['Fait', 'que', 'les', 'habitants', 'du', 'Québec', 'parlent', 'exactement', 'le', 'même', 'français', 'quà', 'Paris', 'parce', 'quils', 'viennent', 'de', 'France'], 'C1'], [['Faits', 'divers', 'faits', 'divers', 'alors', 'quon', 'est', 'au', 'printemps', 'faits', 'divers', 'alors', 'quon', 'est', 'au', 'printemps'], 'C1'], [['Faut', 'dire', 'que', 'si', 'on', 'enlève', 'les', 'résultats', 'de', 'lAlsace', 'les', 'autres', 'départements', 'ils', 'sont', 'largement', 'en', 'déficit', '\\n'], 'C1'], [['Hé', 'bien', 'il', 'faut', 'remonter', 'en', '1534', 'pour', 'en', 'trouver', 'lorigine', 'quand', 'le', 'navigateur', 'Jacques', 'Cartier', 'découvre', 'le', 'Québec'], 'C1'], [['Il', 'a', 'fait', 'une', 'très', 'belle', 'course', 'cest', 'súr', 'quil', 'était'], 'C1'], [['Il', 'explore', 'souvent', 'les', 'possibilités', 'de', 'mise', 'en', 'forme', 'des', 'données', 'et', 'des', 'statistiques', 'pour', 'illustrer', 'une', 'réflexion', 'un', 'point', 'de', 'vue', 'voire', 'pour', 'dénoncer', 'labsurdité', 'qui', 'consiste', 'à', 'tout', 'traduire', 'par', 'des', 'statistiques'], 'C1'], [['Il', 'faisait', 'partie', 'des', 'prétendants', 'sérieux', 'je', 'savais', 'quil', 'avait', 'de', 'nombreux', 'atouts', 'et', 'voilà', '\\n'], 'C1'], [['Il', 'sinstalle', 'à', 'la', 'table', 'et', 'tapote', 'plein', 'de', 'petits', 'boutons', 'devant', 'une', 'mini', 'télé', 'et', 'dès', 'que', 'je', 'commence', 'à', 'mendormir', 'il', 'se', 'met', 'à', 'parler', 'à', 'dautres', 'minis', 'humains', 'dans', 'la', 'télé'], 'C1'], [['Il', 'sintéresse', 'ici', 'aux', 'liens', 'étroits', 'qui', 'peuvent', 'se', 'tisser', 'entre', 'la', 'technologie', 'et', 'la', 'jalousie', 'et', 'les', 'illustre', 'à', 'laide', 'dun', 'exemple', 'personnel'], 'C1'], [['Ils', 'doivent', 'également', 'présenter', 'le', 'cas', 'échéant', 'les', 'documents', 'justifiant', 'de', 'lobjet', 'et', 'des', 'conditions', 'de', 'leur', 'séjour'], 'C1'], [['Ils', 'doivent', 'posséder', 'un', 'ou', 'des', 'documents', 'de', 'voyage', 'passeport', 'par', 'exemple', 'et', 'être', 'en', 'possession', 'dun', 'visa', 'unique', 'délivré', 'par', 'un', 'des', 'États', 'memebres', 'valable', 'pour', 'lensemble', 'de', 'la', 'zone', 'Schengen'], 'C1'], [['Jai', 'beaucoup', 'de', 'nostalgie', 'quand', 'je', 'me', 'rappelle', 'mes', 'Noëls', 'denfant', 'chez', 'mes', 'parents', 'et', 'les', 'cadeaux', 'que', 'jai', 'reçus', 'comme', 'mes', 'patins', 'à', 'roulettes', 'mes', 'poupées', 'mes', 'jeux', 'de', 'société', 'mon', 'Jokari', 'ma', 'patinette', '\\n'], 'C1'], [['Jai', 'été', 'élevé', 'par', 'deux', 'femmes', 'exceptionnelles', 'racontaitil', 'clans', 'une', 'Interview', 'enregistrée', 'en', '1981', 'oui', 'il', 'apparaît', 'direct', 'et', 'affable', 'en', 'compagnie', 'de', 'sa', 'fille', 'et', 'de', 'sa', 'petitefille'], 'C1'], [['Jai', 'le', 'regret', 'de', 'vous', 'faire', 'savoir', 'que', 'je', 'conteste', 'votre', 'décision'], 'C1'], [['Javais', 'limpression', 'que', 'tout', 'était', 'contre', 'moi', 'et', 'puis', 'euh', 'je', 'me', 'suis', 'accrochė', 'et', 'puis', 'voilà', 'cest', 'la', 'fin', 'jétais', 'content', 'je', 'me', 'suis', 'bagarré', 'jai', 'eu', 'beaucoup', 'de', 'soutien', 'à', 'terre', 'tous', 'les', 'gens', 'qui', 'menvoyaient', 'des', 'messages', 'qui', 'me', 'disaient', 'de', 'rien', 'lâcher'], 'C1'], [['Jamais', 'autant', 'de', 'gens', 'ne', 'lont', 'parlée', 'quaujourdhui'], 'C1'], [['Je', 'devais', 'avoir', 'peutêtre', 'six', 'ou', 'sept', 'ans', 'et', 'comme', 'dhabitude', 'javais', 'mis', 'mes', 'souliers', 'devant', 'la', 'cheminée', 'de', 'ma', 'chambrebien', 'quelle', 'soit', 'complètement', 'bouchée', 'et', 'donc', 'inaccessible', 'au', 'père', 'Noël', ' ', 'et', 'cette', 'annéelà', 'je', 'rêvais', 'davoir', 'une', 'maison', 'de', 'poupées', '\\n'], 'C1'], [['Je', 'lai', 'appelée', 'trois', 'fois', 'hier', 'mais', 'en', 'vain'], 'C1'], [['Je', 'nai', 'pas', 'grand', 'chose', 'à', 'dire'], 'C1'], [['Je', 'prouve', 'quils', 'nont', 'pas', 'de', 'litiges', 'avec', 'les', 'autorités', 'judiciaires', 'de', 'leur', 'pays'], 'C1'], [['Je', 'réitère', 'donc', 'ma', 'demande', 'de', 'congé', 'sabbatique', 'pour', 'les', 'dates', 'que', 'je', 'vous', 'ai', 'communiquées', 'dans', '111a', 'demande', 'du', '8', 'janvier', 'dernier'], 'C1'], [['Je', 'serai', 'venue', 'taider', 'à', 'déménager', 'mais', 'pour', 'ça', 'il', 'aurait', 'fallu', 'que', 'tu', 'me', 'préviennes'], 'C1'], [['Je', 'vous', 'ai', 'adressé', 'le', 'B', 'janvier', 'dernier', 'une', 'demande', 'de', 'congé', 'sabbatique', 'à', 'compterdu', 'le', 'novembre', 'prochain', 'et', 'pour', 'une', 'durée', 'de', '9', 'mois', 'conformément', 'aux', 'dispositions', 'des', 'articles', 'L1223217', 'et', 'suivants', 'du', 'Code', 'du', 'travail'], 'C1'], [['LAgence', 'des', 'services', 'frontaliers', 'du', 'Canada', 'conseille', 'de', 'se', 'munir', 'également', 'dune', 'lettre', 'dautorisation', 'signée', 'par', 'lautre', 'parent', 'afin', 'daccélérer', 'son', 'passage', 'à', 'la', 'frontière'], 'C1'], [['Lenfant', 'ne', 'pouvait', 'croire', 'quil', 'contemplait', 'des', 'bêtes', 'féroces', 'telles', 'que', 'le', 'lion', 'et', 'le', 'tigre'], 'C1'], [['Lunivers', 'des', 'francophones', 'est', 'un', 'métissage', 'unique', 'et', 'fertile'], 'C1'], [['La', 'cerise', 'sur', 'le', 'gâteau', 'cest', 'que', 'je', 'nai', 'plus', 'le', 'droit', 'de', 'jouer', 'avec', 'mon', 'os', 'qui', 'couine', 'et', 'Daffy', 'et', 'moi', 'ne', 'pouvons', 'plus', 'nous', 'battre', 'en', 'paix', 'sans', 'être', 'interrompu', 'par', 'mon', 'humain', '\\n'], 'C1'], [['La', 'huitième', 'édition', 'sera', 'la', 'bonne'], 'C1'], [['La', 'lutte', 'dans', 'laquelle', 'il', 'sest', 'engagé', 'a', 'mené', 'à', 'son', 'exclusion', 'du', 'gouvernement'], 'C1'], [['La', 'petite', 'fille', 'de', 'HabsheimleHaut', 'qui', 'avait', 'disparu', 'il', 'y', 'a', 'trois', 'jours', 'a', 'en', 'fait', 'été', 'retrouvée', 'saine', 'et', 'sauve', 'par', 'les', 'pompiers'], 'C1'], [['Le', 'matin', 'je', 'me', 'réveillais', 'avec', 'mon', 'humain', 'Arthur', 'puis', 'nous', 'allions', 'courir', 'dans', 'le', 'quartier', 'avant', 'de', 'rentrer', 'prendre', 'notre', 'petit', 'déjeuner', '\\n'], 'C1'], [['Le', 'ressortissants', 'dun', 'pays', 'tiers', 'à', 'lUnion', 'européenne', 'et', 'des', 'pays', 'associés', 'soumis', 'à', 'visas', 'qui', 'souhaitent', 'effectuer', 'un', 'court', 'séjour', 'dans', 'un', 'ou', 'plusieurs', 'pays', 'de', 'la', 'zone', 'Schengen'], 'C1'], [['Le', 'visa', 'de', 'court', 'séjour', 'est', 'délivré', 'pour', '3', 'mois', 'au', 'plus'], 'C1'], [['Les', 'enfants', 'estce', 'que', 'vous', 'vous', 'êtes', 'lavé', 'les', 'mains', 'avant', 'de', 'passer', 'à', 'table'], 'C1'], [['Les', 'nationalités', 'non', 'soumises', 'à', 'visa', 'liste', 'commune', 'établie', 'par', 'les', 'pays', 'membres', 'peuvent', 'circuler', 'sur', 'le', 'territoire', 'Schengen', 'pendant', 'une', 'période', 'de', '3', 'mois', 'au', 'maximum'], 'C1'], [['Les', 'textos', 'louent', 'ici', 'le', 'même', 'rôle', 'quo', 'les', 'échanges', 'épistolaires', ' ', 'ils', 'sont', 'un', 'moyen', 'de', 'se', 'remémorer', 'la', 'passion'], 'C1'], [['Lorsquune', 'jeune', 'femme', 'aveugle', 'e', 'effleuré', 'cette', 'inscription', 'en', 'braille', 'sur', 'le', 'mur', 'de', 'léglise', 'SainteCroix', 'de', 'Nantes', 'elle', 'a', 'éclaté', 'de', 'rire'], 'C1'], [['Lucien', 'Neuwirth', 'pionnier', 'de', 'la', 'contraception', 'est', 'mort', 'dans', 'la', 'nuit', 'de', 'lundi', 'à', 'mardi', 'à', '89', 'ans', 'des', 'suites', 'dune', 'infection', 'pulmonaire', 'à', 'lhôpital', 'RossiniSaintePérine', 'à', 'Pans'], 'C1'], [['Mais', 'il', 'y', 'a', 'un', 'cadeau', 'de', 'Noël', 'en', 'particulier', 'qui', 'reste', 'ancré', 'dans', 'ma', 'mémoire'], 'C1'], [['Mais', 'soyons', 'sérieux', 'nouvelles', 'en', 'bref', ' ', 'économie', 'bon', 'résultat', 'de', 'léconomie', 'française', 'ce', 'moisci', 'plus', 'quatre', 'pour', 'cent'], 'C1'], [['Mais', 'surtout', 'après', 'le', 'petitdéjeuner', 'Arthur', 'ne', 'sen', 'va', 'plus'], 'C1'], [['Notre', 'jogging', 'matinal', 'est', 'devenu', 'une', 'course', 'dobstacles', 'où', 'on', 'évite', 'tous', 'les', 'autres', 'passants', 'cest', 'très', 'fatigant', 'et', 'agaçant'], 'C1'], [['Nous', 'bénéficions', 'de', 'moyens', 'financiers', 'suffisants', 'et', 'justifier', 'les', 'raisons', 'de', 'leur', 'séjour'], 'C1'], [['Nous', 'partîmes', 'cinq', 'cents', ' ', 'mais', 'par', 'prompt', 'renfort', 'nous', 'nous', 'vîmes', 'trois', 'mille', 'en', 'arrivant', 'au', 'port'], 'C1'], [['Or', 'ces', 'mêmes', 'statistiques', 'en', 'témoignent', 'on', 'trouve'], 'C1'], [['Or', 'il', 'n’', 'y', 'a', 'pas', 'pire', 'esclave', 'que', 'celui', 'qui', 'se', 'croit', 'libre'], 'C1'], [['Or', 'le', 'Code', 'du', 'travail', 'stipule', 'que', 'pour', 'pouvoir', 'bénéficier', 'dun', 'congé', 'sabbatique', 'le', 'salarié', 'doit', 'remplir', 'une', 'double', 'condition', 'dancienneté', 'de', 'trentesix', 'mois', 'consécutifs', 'ou', 'non', 'dans', 'lentreprise', 'et', 'six', 'années', 'dactivité', 'professionnelle', 'antérieure'], 'C1'], [['Par', 'un', 'courrier', 'du', '2', 'février', 'vous', 'me', 'faites', 'part', 'de', 'votre', 'refus', 'au', 'motif', 'que', 'je', 'ne', 'remplirais', 'pas', 'les', 'conditions', 'dancienneté', 'requises', 'pour', 'ce', 'type', 'de', 'congé'], 'C1'], [['Pendant', 'que', 'les', 'humains', 'bavardaient', 'Mimi', 'le', 'caniche', 'Fido', 'le', 'berger', 'allemand', 'et', 'moi', 'on', 'se', 'donnait', 'les', 'nouvelles', 'du', 'quartier', 'et', 'on', 'reniflait', 'les', 'nouveaux', 'arrivants'], 'C1'], [['Pourquoi', 'laisser', 'à', 'la', 'portée', 'de', 'celui', 'ou', 'relie', 'a', 'qui', 'lion', 'a', 'juré', 'fidélité', 'les', 'preuves', 'du', 'mensonge', 'alors', 'quif', 'est', 'si', 'facile', 'de', 'les', 'faire', 'disparaître'], 'C1'], [['Sils', 'ont', 'des', 'motifs', 'de', 'croire', 'quun', 'enlèvement', 'denfant', 'ou', 'autre', 'acte', 'criminel', 'est', 'sur', 'le', 'point', 'dêtre', 'commis', 'les', 'agents', 'des', 'doueanes', 'ont', 'des', 'pouvoirs', 'similaires', 'à', 'ceux', 'des', 'policiers'], 'C1'], [['sils', 'ont', 'la', 'garde', 'légale', 'de', 'leur', 'progéniture', 'ils', 'doivents', 'absolument', 'montrer', 'les', 'papiers', 'légaux', 'de', 'garde'], 'C1'], [['Selon', 'lune', 'des', 'nombreuses', 'données', 'statistiques', 'auxquelles', 'nous', 'avons', 'accès', 'aujourdhui', 'nombre', 'dentre', 'nous', 'fouillent', 'dans', 'le', 'portable', 'de', 'leur', 'partenaire', 'pour', 'y', 'dénicher', 'des', 'preuves', 'dinfidélité'], 'C1'], [['Si', 'elle', 'me', 'parle', 'cest', 'quelle', 'a', 'des', 'choses', 'à', 'dire', 'il', 'faut', 'que', 'je', 'lécoute'], 'C1'], [['Si', 'lagent', 'doute', 'de', 'la', 'sécurité', 'de', 'lenfant', 'il', 'peut', 'également', 'poser', 'des', 'questions', 'additionnelles', 'explique', 'Nicole', 'Barsalou', 'porteparole', 'de', 'lAgence'], 'C1'], [['Si', 'tas', 'trouvé', 'le', 'vidéo', 'le', 'fun', 'pense', 'à', 'aimer', 'notre', 'chaine', 'YouTube', 'et', 'notre', 'page', 'Facebook'], 'C1'], [['Sur', 'le', 'fond', 'il', 'enclenche', 'une', 'politique', 'progressiste', '\\n'], 'C1'], [['Tout', 'dabord', 'doù', 'vient', 'ce', 'fameux', 'accent', 'québécois'], 'C1'], [['Une', 'huitième', 'édition', 'dominée', 'par', 'le', 'duel', 'au', 'sommet', 'avec', 'Alex', 'Thomson', 'une', 'course', 'poursuite', 'menée', 'par', 'Armel', 'depuis', 'le', '23', 'novembre', 'dernier', 'quarantesept', 'jours', 'de', 'haute', 'tension', 'qui', 'se', 'terminent', 'aujourdhui'], 'C1'], [['33', '°', 'à', 'lombre', 'et', '80', 'dhumidité', 'aujourdhui', 'cest', 'au', 'ceur', 'du', 'jardin', 'tropical', 'de', 'Valombreuse', 'que', 'nous', 'vous', 'proposons', 'de', 'découvrir', 'lune', 'des', 'spécialités', 'culinaires', 'les', 'plus', 'consommées', 'aux', 'Antilles', ' ', 'les', 'accras', 'de', 'morue'], 'C1'], [['De', 'délicieux', 'petits', 'beignets', 'tendres', 'et', 'croustillants', 'à', 'la', 'fois', 'une', 'recette', 'idéale', 'pour', 'voyager', 'sous', 'le', 'soleil', 'des', 'tropiques'], 'C1'], [['Sil', 'existe', 'des', 'dizaines', 'de', 'variantes', 'à', 'cette', 'recette', 'le', 'chef', 'Gérard', 'Michel', 'Corbin', 'nous', 'propose', 'dy', 'apporter', 'lui', 'aussi', 'sa', 'touche', 'personnelle'], 'C1'], [['Jai', 'toujours', 'été', 'très', 'déçu', 'par', 'la', 'texture', 'des', 'accras', 'quon', 'me', 'proposait', 'car', 'on', 'avait', 'quelque', 'chose', 'souvent', 'de', 'gras', 'de', 'spongieux', 'de', 'pas', 'très', 'très', 'agréable', 'en', 'bouche', 'et', 'surtout', 'avec', 'trop', 'peu', 'de', 'morue', 'à', 'mon', 'goût'], 'C1'], [['Jadore', 'la', 'morue', 'et', 'pour', 'moi', 'laccra', 'de', 'morue', 'cest', 'les', 'accras', 'avec', 'de', 'la', 'morue', 'dedans'], 'C1'], [['Originaire', 'des', 'Saintes', 'un', 'archipel', 'situé', 'au', 'sud', 'de', 'la', 'Guadeloupe', 'GérardMichel', 'a', 'un', 'parcours', 'pour', 'le', 'moins', 'atypique'], 'C1'], [['Après', '22', 'ans', 'de', 'vie', 'parisienne', 'cet', 'ancien', 'designergraphiste', 'a', 'décidé', 'de', 'se', 'consacrer', 'à', 'sa', 'passion', 'de', 'toujours', ' ', 'la', 'cuisine'], 'C1'], [['Jai', 'été', 'effectivement', 'formaté', 'on', 'va', 'dire', 'depuis', 'tout', 'petit', 'par', 'dabord', 'ma', 'grandmère', 'qui', 'était', 'une', 'vraiment', 'une', 'fine', 'cuisinière', 'dorigine', 'saintoise'], 'C1'], [['Elle', 'a', 'transmis', 'effectivement', 'ben', 'ce', 'savoir', 'à', 'ma', 'maman'], 'C1'], [['Moi', 'tout', 'naturellement', 'depuis', 'lâge', 'de', '13', 'ans', 'je', 'lai', 'quand', 'même', 'pas', 'mal', 'piratée'], 'C1'], [['Jétais', 'toujours', 'dans', 'ses', 'jambes', 'effectivement', 'à', 'goûter', 'tous', 'ses', 'plats'], 'C1'], [['dès', 'quelle', 'avait', 'le', 'dos', 'tourné', 'je', 'soulevais', 'le', 'capot', 'et', 'jen', 'mangeais', 'une', 'partie'], 'C1'], [['Ça', 'a', 'développé', 'je', 'pense', 'instinctivement', 'et', 'naturellement', 'ma', 'créativité', 'en', 'cuisine'], 'C1'], [['Dans', 'ce', 'dialogue', 'qui', 'met', 'aux', 'prises', 'Socrate', 'et', 'Calliclès', 'ce', 'dernier', 'défend', 'le', 'droit', 'au', 'désir', 'comme', 'un', 'droit', 'à', 'être', 'puissant', 'autrement', 'dit', 'à', 'être', 'capable', 'de', 'mettre', 'les', 'forces', 'de', 'son', 'énergie', 'et', 'de', 'son', 'intelligence', 'au', 'service', 'des', 'passions', 'pour', 'leur', 'donner', 'la', 'plus', 'grande', 'ampleur', 'possible'], 'C2'], [['En', 'effet', 'nous', 'avons', 'tous', 'déjà', 'vécu', 'une', 'situation', 'où', 'les', 'mobiles', 'ou', 'motifs', 'en', 'faveur', 'd’', 'un', 'acte', 'ou', 'd’', 'un', 'autre', 'étaient', 'si', 'équivalents', 'ou', 'aussi', 'contraignants', 'l’', 'un', 'que', 'l’', 'autre', 'que', 'nous', 'nous', 'sommes', 'retrouvés', 'incapables', 'de', 'faire', 'un', 'choix'], 'C2'], [['Le', 'lien', 'entre', 'l’', 'acteur', 'et', 'l’', 'acte', 'commis', 'est', 'inexistant'], 'C2'], [['On', 'définit', 'une', 'contrainte', 'comme', 'étant', 'est', 'une', 'chose', 'imposée', 'par', 'l’', 'extérieur', 'contre', 'la', 'volonté', 'd’', 'un', 'individu', '\\n'], 'C2'], [['On', 'peut', 'donc', 'se', 'demander', 'estce', 'que', 'l’', 'Homme', 'est', 'contraint', 'ou', 'obligé', 'de', 'travailler'], 'C2'], [['Or', 'ce', 'qui', 'permet', 'à', 'l’', 'homme', 'd’', 'échapper', 'à', 'la', 'situation', 'absurde', 'de', 'l’', 'âne', 'mourant', 'de', 'faim', 'et', 'de', 'soif', 'entre', 'une', 'botte', 'de', 'foin', 'et', 'un', 'seau', 'd’', 'eau', 'c’', 'est', 'qu’', 'il', 'dispose', 'de', 'cette', 'liberté', 'd’', 'indifférence', 'c’', 'estàdire', 'de', 'cette', 'liberté', 'par', 'laquelle', 'notre', 'volonté', 'a', 'le', 'pouvoir', 'de', 'choisir', 'spontanément', 'et', 'de', 'sa', 'propre', 'initiative'], 'C2'], [['Or', 'il', 'faut', 'bien', 'différencier', 'une', 'contrainte', 'd’', 'une', 'obligation', 'qui', 'elle', 'est', 'une', 'activité', 'que', 'l’', 'individu', 's’', 'impose', 'luimême', 'librement', '\\n'], 'C2'], [['Par', 'définition', 'le', 'travail', 'est', 'une', 'activité', 'de', 'transformation', 'de', 'la', 'nature', 'qui', 'a', 'pour', 'effet', 'de', 'transformer', 'l’', 'Homme', 'luimême', '\\n'], 'C2'], [['Pour', 'Blaise', 'Pascal', 'c’', 'est', 'un', 'divertissement', 'qui', 'occupe', 'une', 'grande', 'partie', 'de', 'la', 'vie', 'des', 'Hommes', 'et', 'qui', 'permet', 'de', 'masquer', 'les', 'problèmes', 'essentiels', 'de', 'l’', 'existence', 'humaine', '\\n'], 'C2'], [['Il', 's’', 'agit', 'en', 'effet', 'd’', 'une', 'action', 'qui', 'est', 'infligée', 'à', 'l’', 'Homme', 'par', 'des', 'individus', 'qui', 'lui', 'sont', 'supérieurs'], 'C2'], [['Ce', 'philosophe', 'pense', 'qu’', 'à', 'partir', 'du', 'moment', 'où', 'l’', 'Homme', 'sort', 'de', 'ce', 'genre', 'de', 'société', 'alors', 'le', 'travail', 'aliéné', 'se', 'termine', 'et', 'la', 'vocation', 'commence'], 'C2'], [['Dans', 'ces', 'deux', 'exemples', 'le', 'travail', 'est', 'infligé', 'aux', 'êtres', 'humains', 'par', 'des', 'créatures', 'divines', 'qui', 'leur', 'sont', 'supérieures', 'mais', 'c’', 'est', 'aussi', 'le', 'seul', 'moyen', 'que', 'les', 'Hommes', 'ont', 'pour', 'survivre'], 'C2'], [['En', 'effet', 'dans', 'la', 'religion', 'chrétienne', 'la', 'Bible', 'présente', 'tout', 'd’', 'abord', 'l’', 'Homme', 'dans', 'la', 'Genèse', 'à', 'l’', 'état', 'de', 'nature', 'comme', 'un', 'être', 'vivant', 'dans', 'le', 'jardin', 'd’', 'Eden', 'où', 'il', 'n’', 'a', 'pas', 'besoin', 'de', 'travailler', 'pour', 'vivre', 'car', 'ce', 'jardin', 'lui', 'offre', 'naturellement', 'de', 'quoi', 'exister', 'agréablement'], 'C2'], [['66', ' ', 'des', 'sympathisants', 'de', 'gauche', 'y', 'sont', 'favorables', 'contre', '82', ' ', 'des', 'sympathisants', 'de', 'droite'], 'C2'], [['A', 'cette', 'vie', 'désordonnée', 'Platon', 'oppose', 'une', 'vie', 'guidée', 'par', 'la', 'raison', 'incarnée', 'par', 'la', 'sagesse', 'socratique'], 'C2'], [['A', 'l’', 'époque', 'actuelle', 'le', 'désir', 'réside', 'dans', 'la', 'consommation', 'd’', 'objets', 'de', 'plus', 'en', 'plus', 'sophistiqués', 'et', 'qui', 'reflètent', 'la', 'nouveauté'], 'C2'], [['À', 'Paris', 'première', 'ville', 'touristique', 'au', 'monde', 'sur', 'le', 'parvis', 'de', 'NotreDarne', 'la', 'file', 'des', 'touristes', 'sallonge', 'alors', 'quun', 'seul', 'guichet', 'est', 'ouvert'], 'C2'], [['Ainsi', 'pour', 'Kant', 'pour', 'que', 'l’', 'homme', 'soit', 'moral', 'il', 'faut', 'qu’', 'il', 'soit', 'libre', 'car', 's’', 'il', 'était', 'forcé', 'par', 'une', 'nature', 'intelligible', 'à', 'la', 'bonté', 'à', 'la', 'justice', 'et', 'à', 'l’', 'altruisme', 'il', 'ne', 'serait', 'qu’', 'un', 'automate', 'spirituel', 'et', 's’', 'il', 'était', 'forcé', 'par', 'sa', 'nature', 'sensible', 'à', 'l’', 'égoïsme', 'il', 'ne', 'serait', 'qu’', 'un', 'mécanisme', 'matériel'], 'C2'], [['André', 'Gide', 'dans', 'Les', 'Caves', 'du', 'Vatican', 'cherche', 'à', 'illustrer', 'la', 'possibilité', 'pour', 'un', 'être', 'humain', 'de', 'réaliser', 'un', 'acte', 'gratuit', 'c’', 'estàdire', 'un', 'acte', 'accompli', 'sans', 'raison', 'par', 'le', 'seul', 'effet', 'de', 'sa', 'liberté'], 'C2'], [['Au', 'début', 'l’', 'Homme', 'est', 'un', 'être', 'naturel', 'comme', 'les', 'animaux', 'or', 'il', 'est', 'aussi', 'naturellement', 'démuni', 'face', 'aux', 'autres', 'car', 'le', 'frère', 'de', 'Prométhée', 'Epiméthée', 'omet', 'de', 'le', 'doter', 'd’', 'une', 'capacité', 'qui', 'lui', 'permettrait', 'de', 'survivre'], 'C2'], [['Autrement', 'dit', 'peuton', 'se', 'contenter', 'du', 'sentiment', 'de', 'notre', 'liberté', 'pour', 'en', 'déduire', 'son', 'existence', 'certaine'], 'C2'], [['Autrement', 'dit', 'tout', 'homme', 'lorsqu’', 'il', 'porte', 'un', 'regard', 'réflexif', 'sur', 'luimême', 'se', 'juge', 'spontanément', 'libre', 'c’', 'estàdire', 'en', 'mesure', 'd’', 'agir', 'simplement', 'en', 'fonction', 'de', 'sa', 'volonté'], 'C2'], [['Aux', 'yeux', 'de', 'la', 'justice', 'il', 'est', 'responsable', 'car', 'nul', 'nest', 'censé', 'ignorer', 'la', 'loi'], 'C2'], [['C’', 'est', 'ainsi', 'qu’', 'au', 'sens', 'moral', 'et', 'juridique', 'être', 'libre', 'c’', 'est', 'pouvoir', 'être', 'reconnu', 'autonome', 'et', 'responsable', 'de', 'ses', 'actes', 'de', 'ses', 'choix', 'à', 'la', 'fois', 'devant', 'soimême', 'et', 'devant', 'la', 'société', 'à', 'laquelle', 'on', 'appartient'], 'C2'], [['C’', 'est', 'ainsi', 'que', 'Calliclès', 'préfère', 'les', '«', 'tonneaux', 'qui', 'fuient', '»', 'puisque', '«', 'ce', 'qui', 'fait', 'l’', 'agrément', 'de', 'la', 'vie', 'c’', 'est', 'de', 'verser', 'le', 'plus', 'possible', '»'], 'C2'], [['C’', 'est', 'ainsi', 'que', 'dans', 'la', 'première', 'note', 'de', 'la', 'préface', 'à', 'la', 'Critique', 'de', 'la', 'raison', 'pratique', 'Kant', 'affirme', 'que', 'la', 'liberté', 'est', 'la', 'condition', 'de', 'possibilité', 'et', 'l’', 'essence', 'la', 'ratio', 'essendi', 'de', 'la', 'vie', 'morale', 'de', 'l’', 'homme', 'comme', 'la', 'vie', 'morale', 'de', 'l’', 'homme', 'est', 'ce', 'par', 'quoi', 'l’', 'homme', 'connaît', 'la', 'réalité', 'de', 'sa', 'liberté', 'elle', 'en', 'est', 'la', 'ratio', 'cognoscendi'], 'C2'], [['C’', 'est', 'ainsi', 'que', 'dans', 'la', 'troisième', 'partie', 'de', 'l’', 'Ethique', 'dans', 'la', 'section', 'intitulée', 'De', 'l’', 'origine', 'et', 'de', 'la', 'nature', 'des', 'affections', 'Spinoza', 'rejette', 'totalement', 'l’', 'idée', 'selon', 'laquelle', 'l’', 'homme', 'occuperait', 'une', 'place', 'privilégiée', 'au', 'sein', 'de', 'la', 'nature'], 'C2'], [['C’', 'est', 'ainsi', 'que', 'Spinoza', 'ne', 'fait', 'pas', 'consister', 'la', 'liberté', 'dans', 'la', 'lettre', 'à', 'Schuller', 'dans', 'un', 'libre', 'décret', 'mais', 'dans', 'une', 'libre', 'nécessité', 'ou', 'dans', 'la', 'nécessité', 'bien', 'comprise', ' ', '«', 'j’', 'appelle', 'libre', 'quant', 'à', 'moi', 'une', 'chose', 'qui', 'est', 'et', 'agit', 'par', 'la', 'seule', 'nécessité', 'de', 'sa', 'nature', '»'], 'C2'], [['C’', 'est', 'd’', 'ailleurs', 'cette', 'activité', 'qui', 'est', 'la', 'cause', 'de', 'l’', 'aliénation', 'des', 'travailleurs', 'c’', 'estàdire', 'que', 'les', 'ouvriers', 'ne', 'sont', 'plus', 'considérés', 'comme', 'des', 'Hommes', 'mais', 'uniquement', 'comme', 'une', 'force', 'de', 'travail', 'utilisée', 'par', 'la', 'société', 'pour', 'produire', 'des', 'richesses'], 'C2'], [['C’', 'est', 'dans', 'sa', 'lettre', 'à', 'Schuller', 'extraite', 'de', 'sa', 'Correspondance', 'que', 'Spinoza', 'dénonce', 'l’', 'illusion', 'du', 'libre', 'arbitre'], 'C2'], [['C’', 'estàdire', 'que', 'le', 'travail', 'devrait', 'être', 'une', 'vocation', 'un', 'plaisir', 'qui', 'est', 'réalisé', 'uniquement', 'pour', 'lui', 'et', 'non', 'pas', 'pour', 'le', 'salaire', 'comme', 'c’', 'est', 'le', 'cas', 'dans', 'la', 'société', 'capitaliste'], 'C2'], [['Ce', '«', 'protocole', 'expérimental', 'métaphysique', '»', 'aurait', 'donc', 'pour', 'objectif', 'de', 'prouver', 'l’', 'existence', 'de', 'la', '«', 'liberté', 'd’', 'indifférence', '»', 'proprement', 'humaine'], 'C2'], [['Cependant', 'la', 'responsable', 'du', 'service', 'nous', 'a', 'confirmé', 'que', 'les', 'conditions', 'daccueil', 'et', 'de', 'délivrance', 'de', 'vos', 'documents', 'administratifs', 'mit', 'été', 'respectées', 'selon', 'les', 'normes', 'établies', 'par', 'notre', 'ministère'], 'C2'], [['Cette', 'activité', 'apparait', 'dans', 'la', 'religion', 'grecque', 'de', 'l’', 'Antiquité', 'comme', 'un', 'cadeau', 'qui', 'est', 'toutefois', 'imposé', 'aux', 'Hommes', 'pour', 'qu’', 'ils', 'puissent', 'survivre'], 'C2'], [['Cette', 'illusion', 'naturelle', 'de', 'l’', 'homme', 'a', 'donc', 'deux', 'causes', 'd’', 'après', 'Spinoza', 'qui', 'justifient', 'que', 'l’', 'homme', 's’', 'illusionne', 'et', 'qu’', 'il', 'ne', 'fasse', 'pas', 'seulement', 'erreur'], 'C2'], [['Cette', 'option', 'ferait', 'partie', 'des', 'pistes', 'du', 'rapport', 'sur', 'lavenir', 'des', 'retraites', 'qui', 'doit', 'être', 'officiellement', 'remis', 'la', 'semaine', 'prochaine', 'et', 'sur', 'lequel', 'va', 'sappuyer', 'le', 'gouvernement', 'pour', 'sa', 'réforme', 'prévue', 'dici', 'la', 'fin', 'de', 'lannée'], 'C2'], [['Cette', 'série', 'documentaire', 'en', 'trois', 'volets', 'retrace', 'un', 'siècle', 'dhistoire', 'de', 'la', 'Chine', 'en', 'détaillant', 'son', 'ascension', 'vers', 'le', 'statut', 'de', 'superpuissance'], 'C2'], [['Cette', 'situation', 'd’', 'indifférence', 'du', 'choix', 'prouve', 'donc', 'que', 'l’', 'homme', 'est', 'doté', 'd’', 'un', 'libre', 'arbitre', 'c’', 'estàdire', 'd’', 'une', 'capacité', 'de', 'choisir', 'pouvant', 'échapper', 'à', 'tout', 'déterminisme'], 'C2'], [['Comme', 'disait', 'Stendhal', '«', 'la', 'vocation', 'c’', 'est', 'le', 'bonheur', 'd’', 'avoir', 'pour', 'métier', 'sa', 'passion', '»', 'c’', 'estàdire', 'que', 'dès', 'qu’', 'on', 'ne', 'travail', 'plus', 'pour', 'un', 'moyen', 'de', 'subsistance', 'mais', 'qu’', 'on', 'le', 'fait', 'par', 'passion', 'librement', 'alors', 'le', 'travail', 'ne', 'peut', 'plus', 'être', 'considéré', 'comme', 'une', 'contrainte'], 'C2'], [['Comme', 'le', 'disait', 'Oscar', 'Wilde', 'dans', 'Le', 'portrait', 'de', 'Dorian', 'Gray', '«', 'je', 'peux', 'résister', 'à', 'tout', 'sauf', 'à', 'la', 'tentation', '»', 'c’', 'est', 'donc', 'nécessaire', 'pour', 'l’', 'Homme', 'de', 'contenter', 'ses', 'envies'], 'C2'], [['Comment', 'penser', 'les', 'conséquences', 'd’', 'une', 'authentique', 'libération', 'de', 'l’', 'homme', 'dans', 'ses', 'interactions', 'morales', 'sociales', 'et', 'politiques'], 'C2'], [['D’', 'après', 'Marx', 'en', 'droit', 'le', 'travail', 'devrait', 'être', 'l’', 'expression', 'de', 'l’', 'existence', 'de', 'chaque', 'être', 'humain'], 'C2'], [['D’', 'après', 'Marx', 'les', 'Hommes', 'qui', 'font', 'du', 'travail', 'une', 'contrainte', 'sont', 'ceux', 'qui', 'produisent', 'les', 'objets', 'du', 'désir', 'des', 'Hommes'], 'C2'], [['D’', 'autre', 'part', 'il', 'est', 'possible', 'de', 'considérer', 'que', 'le', 'travail', 'n’', 'est', 'pas', 'uniquement', 'une', 'contrainte', 'dans', 'la', 'mesure', 'où', 'il', 'pourrait', 's’', 'agir', 'd’', 'une', 'obligation', 'c’', 'estàdire', 'une', 'activité', 'que', 'l’', 'Homme', 's’', 'imposerait', 'librement', 'à', 'luimême'], 'C2'], [['Dans', 'cet', 'extrait', 'Dieu', 'lie', 'la', 'souffrance', 'au', 'travail', 'de', 'manière', 'puissante', 'car', 'il', 's’', 'agit', 'en', 'quelque', 'sorte', 'd’', 'une', 'malédiction', 'prononcée', 'par', 'cet', 'être', 'divin'], 'C2'], [['Dans', 'le', 'langage', 'courant', 'la', 'liberté', 'renvoie', 'au', 'pouvoir', 'que', 'possède', 'tout', 'homme', 'de', 'n’', 'obéir', 'qu’', 'à', 'luimême', 'qu’', 'à', 'sa', 'propre', 'volonté', 'et', 'd’', 'agir', 'uniquement', 'en', 'fonction', 'de', 'ses', 'désirs', 'indépendamment', 'de', 'toute', 'contrainte', 'ou', 'de', 'toute', 'pression', 'extérieure'], 'C2'], [['Dans', 'un', 'premier', 'temps', 'nous', 'nous', 'demanderons', 'si', 'le', 'travail', 'n’', 'est', 'qu’', 'une', 'activité', 'imposée', 'par', 'l’', 'extérieur', 'contre', 'la', 'volonté', 'de', 'l’', 'Homme', 'puis', 'dans', 'un', 'deuxième', 'temps', 'nous', 'nous', 'interrogerons', 'sur', 'le', 'fait', 'que', 'le', 'travail', 'est', 'une', 'activité', 'que', 'l’', 'être', 'humain', 's’', 'impose', 'librement', 'à', 'luimême'], 'C2'], [['Dès', 'lors', 'l’', 'un', 'des', 'apports', 'essentiels', 'de', 'la', 'critique', 'spinoziste', 'du', 'libre', 'arbitre', 'est', 'de', 'montrer', 'que', 'la', 'croyance', 'en', 'l’', 'existence', 'du', 'libre', 'arbitre', 'est', 'la', 'source', 'd’', 'aliénation', 'de', 'l’', 'homme'], 'C2'], [['Dès', 'sa', 'création', 'le', 'travail', 'possède', 'cette', 'dimension', 'pénible', 'et', 'négative', 'liée', 'au', 'seul', 'fait', 'qu’', 'il', 's’', 'agit', 'd’', 'une', 'action', 'dictée', 'par', 'l’', 'extérieur', 'et', 'qui', 'pèse', 'sur', 'l’', 'être', 'humain', 'Que', 'ce', 'soit', 'dans', 'les', 'religions', 'monothéistes', 'ou', 'polythéistes', 'le', 'travail', 'possède', 'dans', 'les', 'récits', 'la', 'caractéristique', 'de', 'n’', 'être', 'pas', 'naturel', 'chez', 'l’', 'Homme', 'et', 'donc', 'd’', 'être', 'imposé', 'par', 'un', 'élément', 'externe'], 'C2'], [['Deux', 'NewYorkaises', 'trouvent', 'que', 'même', 'si', 'ça', 'vaut', 'le', 'coup', 'il', 'y', 'a', 'encore', 'du', 'chemin', 'faire', 'pour', 'recevoir', 'de', 'façon', 'efficace', 'les', 'visiteurs'], 'C2'], [['Deuxièmement', 'Spinoza', 'précise', 'bien', 'que', 'les', 'hommes', '«', 'se', 'vantent', '»', 'd’', 'être', 'libre', 'car', 'le', 'désir', 'd’', 'être', 'libre', 'même', 'illusoire', 'est', 'beaucoup', 'plus', 'valorisant', 'pour', 'l’', 'orgueil', 'humain', 'que', 'l’', 'idée', 'd’', 'être', 'totalement', 'déterminé'], 'C2'], [['Dommage', 'ces', 'fils', 'et', 'ces', 'poteaux', 'qui', 'balafrent', 'le', 'décor'], 'C2'], [['Eh', 'bien', 'non', 'Je', 'ne', 'veux', 'plus', 'entendre', 'parler', 'de', 'lui'], 'C2'], [['Elle', 'tournait', 'tant', 'autour', 'du', 'pot', 'et', 'plus', 'encore', 'que', 'le', 'marquis', 'perdit', 'patience'], 'C2'], [['En', 'bas', 'les', 'touristes', 'de', 'toutes', 'les', 'nationalités', 'simpatientent', 'au', 'milieu', 'des', 'revendeurs', 'à', 'la', 'sauvette'], 'C2'], [['En', 'conséquence', 'si', 'la', 'liberté', 'est', 'illusoire', 'ou', 'inaccessible', 'il', 'semble', 'que', 'c’', 'en', 'soit', 'fini', 'de', 'la', 'responsabilité', 'morale', 'et', 'juridique', 'de', 'tout', 'individu', 'et', 'par', 'là', 'même', 'de', 'la', 'justice'], 'C2'], [['En', 'effet', 'à', 'partir', 'du', 'moment', 'où', 'le', 'travail', 'devient', 'une', 'fin', 'en', 'soi', 'on', 'ne', 'peut', 'plus', 'le', 'considérer', 'comme', 'une', 'contrainte', 'car', 'cette', 'activité', 'est', 'pratiquée', 'par', 'l’', 'Homme', 'librement', 'pour', 'ellemême', 'et', 'non', 'pour', 'une', 'fin', 'extérieure'], 'C2'], [['En', 'effet', 'il', 's’', 'agit', 'aussi', 'd’', 'une', 'obligation', 'une', 'fin', 'en', 'soi', 'qui', 'lui', 'permet', 'en', 'quelque', 'sorte', 'de', 's’', 'émanciper', 'la', 'nature', 'qui', 'est', 'en', 'lui', 'ainsi', 'que', 'de', 'sa', 'condition', 'humaine'], 'C2'], [['En', 'effet', 'la', 'technique', 'désignant', 'toutes', 'les', 'fabrications', 'de', 'l’', 'Homme', 'elle', 'englobe', 'aussi', 'le', 'travail', 'puisque', 'l’', 'être', 'humain', 'en', 'est', 'le', '«', 'fabriquant', '»'], 'C2'], [['En', 'effet', 'le', 'risque', 'pour', 'un', 'homme', 'comme', 'Calliclès', 'décidant', 'de', 'mener', 'une', 'vie', 'intempérante', 'et', 'désordonnée', 'est', 'de', 'devenir', 'l’', 'esclave', 'de', 'ses', 'propres', 'passions', 'et', 'désirs'], 'C2'], [['En', 'effet', 'le', 'travail', 'étant', 'un', 'des', 'facteurs', 'principaux', 'qui', 'permet', 'à', 'l’', 'Homme', 'd’', 'améliorer', 'son', 'existence', 'la', 'perfectibilité', 'le', 'développe'], 'C2'], [['En', 'effet', 'le', 'travail', 'pourrait', 'être', 'qualifié', 'uniquement', 'de', 'contrainte', 'si', 'il', 'est', 'imposé', 'à', 'l’', 'humanité', 'par', 'd’', 'autres', 'Hommes'], 'C2'], [['En', 'effet', 'que', 'se', 'passetil', 'lorsqu’', 'un', 'individu', 'se', 'retrouve', 'face', 'à', 'deux', 'possibilités', 'aussi', 'équivalentes', 'l’', 'une', 'que', 'l’', 'autre', 'lorsque', 'rien', 'ne', 'puisse', 'permettre', 'de', 'déterminer', 'son', 'choix'], 'C2'], [['En', 'effet', 'selon', 'Spinoza', 'non', 'seulement', 'l’', 'homme', 'est', 'déterminé', 'mais', 'cette', 'illusion', 'naturelle', 'du', 'libre', 'arbitre', 'nous', 'déterminent', 'à', 'ne', 'pas', 'savoir', 'que', 'nous', 'sommes', 'déterminés', 'et', 'ainsi', 'à', 'l’', 'être', 'd’', 'autant', 'plus', 'sûrement'], 'C2'], [['En', 'effet', 'si', 'le', 'travail', 'est', 'une', 'vocation', 'pour', 'l’', 'Homme', 'qui', 'le', 'réalise', 'alors', 'cette', 'activité', 'est', 'considérée', 'comme', 'une', 'fin', 'en', 'soi', 'et', 'devient', 'donc', 'une', 'obligation', 'pour', 'l’', 'Homme', 'et', 'non', 'plus', 'une', 'contrainte'], 'C2'], [['En', 'haut', 'des', 'tours', 'il', 'nest', 'pas', 'conseillé', 'de', 'sattarder', 'trop', 'longtemps', 'devant', 'le', 'panorama', 'parisien'], 'C2'], [['En', 'outre', 'c’', 'est', 'une', 'action', 'liée', 'à', 'la', 'souffrance', 'et', 'qui', 'possède', 'une', 'dimension', 'fortement', 'négative', '\\n'], 'C2'], [['En', 'revanche', 's’', 'il', 'n’', 'y', 'avait', 'pas', 'de', 'liberté', 'la', 'loi', 'morale', 'ne', 'saurait', 'nullement', 'être', 'rencontrée', 'en', 'nous', '»'], 'C2'], [['Enfin', 'le', 'travail', 'pourrait', 'être', 'déterminé', 'comme', 'une', 'obligation', 'si', 'c’', 'est', 'une', 'fin', 'en', 'soi'], 'C2'], [['Estil', 'dès', 'lors', 'possible', 'de', 'reconstruire', 'une', 'approche', 'de', 'la', 'liberté', 'qui', 'soit', 'accessible', 'à', 'l’', 'homme'], 'C2'], [['Estil', 'donc', 'possible', 'de', 'faire', 'une', 'expérience', 'de', 'notre', 'liberté', 'qui', 'puisse', 'justifier', 'ce', 'sentiment'], 'C2'], [['Et', 'Kant', 'ajoute', 'pour', 'préciser', ' ', '«', '…', 'si', 'la', 'loi', 'morale', 'n’', 'était', 'pas', 'd’', 'abord', 'clairement', 'conçue', 'dans', 'notre', 'raison', 'nous', 'ne', 'nous', 'croirions', 'jamais', 'autorisés', 'à', 'admettre', 'une', 'chose', 'telle', 'que', 'la', 'liberté', '…'], 'C2'], [['Être', 'libre', 'c’', 'est', 'apprendre', 'à', 'se', 'libérer', 'des', 'passions'], 'C2'], [['Être', 'libre', 'c’', 'est', 'être', 'responsable', 'de', 'ses', 'actes'], 'C2'], [['Ici', 'le', 'travail', 'est', 'un', 'châtiment', 'divin', 'imposé', 'par', 'Dieu', 'aux', 'Hommes', 'pour', 'les', 'punir', 'de', 'leur', 'désobéissance'], 'C2'], [['Il', 'est', 'primordial', 'que', 'le', 'gouvernement', 'poursuive', 'ses', 'efforts', 'pour', 'conforter', 'la', 'reprise', 'économique', 'dans', 'ce', 'pays'], 'C2'], [['Il', 'existe', 'effectivement', 'des', 'êtres', 'humains', 'qui', 'possèdent', 'une', 'quantité', 'de', 'pouvoir', 'importante', 'et', 'qui', 'contraignent', 'l’', 'humanité', 'à', 'travailler', 'en', 'créant', 'un', 'cercle', 'vicieux', 'qui', 'fait', 'du', 'travail', 'une', 'nécessité', 'pour', 'accéder', 'à', 'ses', 'propres', 'désirs'], 'C2'], [['Il', 'nous', 'faut', 'donc', 'tirer', 'les', 'enseignements', 'de', 'la', 'critique', 'spinoziste', 'du', 'libre', 'arbitre', 'et', 'reconnaîtreque', 'l’', 'idée', 'd’', 'une', 'liberté', 'spontanée', 'ou', 'd’', 'un', 'sentiment', 'immédiat', 'de', 'liberté', 'n’', 'est', 'plus', 'tenable'], 'C2'], [['Il', 'offre', 'des', 'points', 'de', 'vue', 'qui', 'donnent', 'envie', 'de', 'se', 'précipiter', 'sur', 'des', 'pinceaux', 'et', 'de', 'mettre', 'de', 'la', 'couleur', 'partout'], 'C2'], [['Je', 'ne', 'compte', 'pas', 'le', 'nombre', 'de', 'miracles', 'quil', 'nous', 'aura', 'fallu', 'pour', 'être', 'ici', 'devant', 'lui'], 'C2'], [['Je', 'ne', 'vois', 'nul', 'signe', 'dépidémie', 'répondit', 'le', 'marquis'], 'C2'], [['Je', 'peux', 'vous', 'assurer', 'que', 'nos', 'services', 'sous', 'le', 'territoire', 'national', 'sous', 'tous', 'placés', 'sous', 'la', 'responsabilité', 'de', 'notre', 'ministère', 'qui', 'sassure', 'de', 'la', 'qualité', 'des', 'services', 'que', 'nous', 'délivrons'], 'C2'], [['Je', 'suis', 'un', 'homme', 'qui', 'voudrait', 'vivre', 'une', 'vie', 'héroïque', 'et', 'rendre', 'le', 'monde', 'plus', 'supportable', 'à', 'ses', 'propres', 'yeux'], 'C2'], [['Je', 'vous', 'saurais', 'gré', 'de', 'bien', 'vouloir', 'me', 'donner', 'votre', 'réponse', 'dans', 'les', 'plus', 'brefs', 'délais'], 'C2'], [['Jean', 'Buridan', 'philosophe', 'français', 'du', 'quatorzième', 'siècle', 'aurait', 'selon', 'la', 'légende', 'conçu', 'une', 'expérience', 'imaginaire', 'afin', 'de', 'prouver', 'l’', 'existence', 'du', 'libre', 'arbitre', ' ', 'la', 'situation', 'serait', 'celle', 'd’', 'un', 'animal', 'en', 'l’', 'occurrence', 'un', 'âne', 'ayant', 'également', 'faim', 'et', 'soif', 'et', 'qui', 'placé', 'à', 'égale', 'distance', 'd’', 'une', 'botte', 'de', 'foin', 'et', 'd’', 'un', 'seau', 'd’', 'eau', 'hésite', 'se', 'montre', 'incapable', 'de', 'choisir', 'et', 'finalement', 'se', 'laisse', 'mourir'], 'C2'], [['l', 'défend', 'ainsi', 'une', 'position', 'philosophique', 'déterministe', 'suivant', 'laquelle', 'tous', 'les', 'événements', 'sont', 'absolument', 'nécessaires', 'et', 'le', 'sentiment', 'que', 'nous', 'avons', 'd’', 'être', 'libres', 'ne', 'serait', 'qu’', 'une', 'illusion', 'naturelle'], 'C2'], [['LAuberge', 'du', 'Presbytère', 'nous', 'attendait', 'chambre', 'des', 'vicaires'], 'C2'], [['L', '’', '«', 'acte', 'gratuit', '»', 'est', 'donc', 'une', 'notion', 'philosophiquement', 'problématique', ' ', 'la', 'volonté', 'de', 'prouver', 'sa', 'liberté', 'par', 'un', 'acte', 'supposé', 'sans', 'mobile', 'constitue', 'par', 'ellemême', 'un', 'mobile'], 'C2'], [['L’', 'enjeu', 'de', 'l’', 'entrée', 'dans', 'la', 'liberté', 'authentique', 'est', 'donc', 'celui', 'du', 'rapport', 'à', 'soimême', 'et', 'à', 'autrui'], 'C2'], [['L’', 'étymologie', 'latine', 'du', 'mot', 'travail', '«', 'tripalium', '»', 'signifie', '«', 'instrument', 'de', 'torture', '»', '\\n'], 'C2'], [['L’', 'Homme', 'étant', 'un', 'être', 'qui', 'recherche', 'sans', 'cesse', 'la', 'satisfaction', 'il', 'ne', 'pourra', 's’', 'empêcher', 'de', 'céder', 'à', 'ses', 'désirs'], 'C2'], [['La', 'liberté', 'comme', 'condition', 'de', 'l’', 'acte', 'éthique'], 'C2'], [['La', 'liberté', 'correspondrait', 'donc', 'à', 'un', 'sentiment', 'intérieur', 'à', 'une', 'expérience', 'immédiate', 'en', 'chaque', 'homme'], 'C2'], [['La', 'liberté', 'entre', 'alors', 'dans', 'le', 'champ', 'de', 'la', 'réflexion', 'morale', 'sociale', 'et', 'politique'], 'C2'], [['La', 'liberté', 'estelle', 'une', 'illusion'], 'C2'], [['La', 'liberté', 'humaine', 'estelle', 'donc', 'possible'], 'C2'], [['La', 'plupart', 'des', 'philosophes', 'qui', 'se', 'sont', 'prononcés', 'en', 'faveur', 'de', 'la', 'liberté', 'humaine', 'en', 'faveur', 'de', 'l’', 'existence', 'du', 'libre', 'arbitre', 'ont', 'accordé', 'une', 'grande', 'valeur', 'à', 'l’', 'expérience', 'intime', 'immédiate', 'que', 'nous', 'aurions', 'selon', 'eux', 'de', 'notre', 'liberté', ' ', '«', 'La', 'liberté', 'de', 'notre', 'volonté', 'écrit', 'Descartes', 'Principes', 'de', 'la', 'Philosophie', 'I', 'art39', 'se', 'connaît', 'sans', 'preuve', 'par', 'la', 'seule', 'expérience', 'que', 'nous', 'en', 'avons', '»'], 'C2'], [['La', 'première', 'critique', 'consistera', 'à', 'remarquer', 'que', 'Lafcadio', 'fait', 'reposer', 'son', 'passage', 'à', 'l’', 'acte', 'sur', 'des', 'signes', 'extérieurs', 'en', 'l’', 'occurrence', 'l’', 'apparition', 'ou', 'la', 'non', 'apparition', 'd’', 'un', 'feu', 'dans', 'la', 'campagne'], 'C2'], [['La', 'sécheresse', 'que', 'connaît', 'actuellement', 'le', 'France', 'ne', 'résulte', 'pas', 'seulement', 'dune', 'météorologie', 'défavorable', 'mais', 'découle', 'aussi', 'dune', 'politique', 'de', 'leau', 'TM', 'archaïque'], 'C2'], [['La', 'seconde', 'critique', 'consistera', 'à', 'remarquer', 'que', 'l’', 'absence', 'de', 'motivations', 'dans', 'l’', 'acte', 'de', 'Lafcadio', 'est', 'tout', 'sauf', 'évidente', ' ', 'l’', 'une', 'de', 'ses', 'premières', 'motivations', 'ne', 'seraitelle', 'pas', 'le', 'désir', 'même', 'de', 'se', 'prouver', 'à', 'luimême', 'sa', 'liberté'], 'C2'], [['Lafcadio', 'prend', 'd’', 'ailleurs', 'un', 'soin', 'tout', 'particulier', 'à', 'renforcer', 'la', 'gratuité', 'de', 'son', 'crime', ' ', 'il', 'remet', 'tout', 'au', 'hasard', 'et', 'se', 'met', 'à', 'compter', 'pour', 'soumettre', 'sa', 'décision', 'de', 'passer', 'à', 'l’', 'acte', 'ou', 'de', 'ne', 'pas', 'passer', 'à', 'l’', 'acte', 'à', 'l’', 'apparition', 'd’', 'un', 'feu', 'dans', 'la', 'nuit'], 'C2'], [['Lafcadio', 'se', 'dit', 'en', 'effet', 'et', 'à', 'juste', 'titre', 'que', 's’', 'il', 'n’', 'a', 'pas', 'de', 'mobiles', 'pour', 'réaliser', 'ce', 'crime', 'il', 'n’', 'a', 'donc', 'pas', 'de', 'motivations'], 'C2'], [['Le', 'caractère', 'pénible', 'et', 'douloureux', 'du', 'travail', 'est', 'ainsi', 'exprimé', 'dans', 'la', 'phrase', '«', 'tu', 'travailleras', 'à', 'la', 'sueur', 'de', 'ton', 'front', '»'], 'C2'], [['Le', 'fait', 'que', 'nous', 'nous', 'sentions', 'à', 'tort', 'ou', 'à', 'raison', 'libre', 'exige', 'donc', 'que', 'l’', 'on', 'agisse', 'comme', 'si', 'on', 'était', 'effectivement', 'libre'], 'C2'], [['Le', 'marquis', 'la', 'reçut', 'de', 'mauvaise', 'grâce', 'debout', 'dans', 'le', 'vestibule', 'et', 'mit', 'un', 'certain', 'temps', 'à', 'comprendre', 'ce', 'quelle', 'voulait', 'car', 'cétait', 'une', 'femme', 'aux', 'mots', 'remâchés', 'et', 'aux', 'circonlocutions', 'amphigouriques'], 'C2'], [['Le', 'sentiment', 'de', 'liberté', 'ou', 'la', 'volonté', 'de', 'réaliser', 'un', 'acte', 'non', 'déterminé', 'ne', 'seraientils', 'pas', 'qu’', 'une', 'croyance'], 'C2'], [['Le', 'soleil', 'aplatissait', 'le', 'chemin', 'du', 'Quai', 'à', 'grands', 'coups', 'de', 'langue'], 'C2'], [['Le', 'travail', 'est', 'ici', 'dicté', 'par', 'les', 'êtres', 'divins', 'que', 'sont', 'Prométhée', 'et', 'Epiméthée', 'c’', 'estàdire', 'des', 'Titans'], 'C2'], [['Le', 'travail', 'permet', 'en', 'effet', 'à', 'l’', 'Homme', 'de', 'se', 'libérer', 'd’', 'aspects', 'contraignant', 'liés', 'à', 'l’', 'existence', 'humaine'], 'C2'], [['Le', 'village', 'québécois', 'sappelait', 'jadis', 'la', 'descente', 'des', 'femmes'], 'C2'], [['les', 'dix', 'minutes', 'vingt', 'personnes', 'sont', 'autorisées', 'à', 'gravir', 'lescalier', 'en', 'colimaçon'], 'C2'], [['Les', 'hommes', 'se', 'croient', 'libres', 'alors', 'qu’', 'ils', 'sont', 'contraints', 'ou', 'déterminés', 'par', 'leur', 'nature'], 'C2'], [['Les', 'symphonies', 'que', 'jai', 'entendu', 'jouer', 'lors', 'de', 'ce', 'festival', 'étaient', 'dune', 'qualité', 'vraiment', 'médiocre'], 'C2'], [['n', 'revanche', 'Socrate', 'choisit', 'la', 'vie', 'ordonnée', 'celle', 'où', 'les', 'tonneaux', 'du', 'sage', '«', 'seraient', 'en', 'bon', 'état', '»'], 'C2'], [['Ne', 'sembletil', 'pas', 'que', 'ce', 'ne', 'soit', 'que', 'de', 'façon', 'illusoire', 'et', 'superficielle', 'que', 'je', 'fasse', 'l', '’', '«', 'expérience', '»', 'de', 'ma', 'liberté', 'par', 'ignorance', 'des', 'déterminations', 'qui', 'sont', 'pourtant', 'en', 'jeu'], 'C2'], [['Néanmoins', 'l’', 'existence', 'd’', 'êtres', 'divins', 'n’', 'étant', 'pas', 'un', 'fait', 'prouvé', 'on', 'peut', 'rester', 'sceptique', 'sur', 'les', 'origines', 'du', 'travail', 'relatées', 'précédemment'], 'C2'], [['Néanmoins', 'pour', 'obtenir', 'avoir', 'de', 'l’', 'argent', 'le', 'travail', 'est', 'l’', 'unique', 'option', 'que', 'possède', 'l’', 'humanité', 'et', 'donc', 'c’', 'est', 'un', 'moyen', 'pour', 'l’', 'Homme', 'de', 'satisfaire', 'ses', 'désirs'], 'C2'], [['Notre', 'travail', 'a', 'en', 'tout', 'cas', 'cherché', 'à', 'démontrer', 'que', 'si', 'la', 'croyance', 'en', 'une', 'liberté', 'immédiate', 'était', 'illusoire', 'voire', 'naïve', 'la', 'critique', 'spinoziste', 'nous', 'a', 'permis', 'd’', 'accéder', 'à', 'une', 'approche', 'de', 'la', 'liberté', 'qui', 'puisse', 'permettre', 'd’', 'en', 'préserver', 'l’', 'espoir', ' ', 'en', 'effet', 'si', 'l’', 'homme', 'n’', 'est', 'pas', 'libre', 'il', 'lui', 'est', 'en', 'revanche', 'donné', 'd’', 'entrer', 'dans', 'un', 'processus', 'dans', 'une', 'conquête', 'assimilable', 'à', 'une', 'libération', 'par', 'l’', 'usage', 'de', 'la', 'raison', 'et', 'par', 'son', 'entrée', 'dans', 'la', 'morale', 'et', 'la', 'vie', 'sociale'], 'C2'], [['Nous', 'avons', 'pu', 'comprendre', 'tout', 'au', 'long', 'de', 'notre', 'travail', 'la', 'difficulté', 'qui', 'existe', 'à', 'pouvoir', 'saisir', 'une', 'véritable', '«', 'expérience', '»', 'de', 'la', 'liberté', 'et', 'par', 'conséquent', 'la', 'difficulté', 'à', 'en', 'prouver', 'véritablement', 'l’', 'existence'], 'C2'], [['Or', 'à', 'prendre', 'les', 'choses', 'rigoureusement', 'l’', 'homme', 'est', 'tout', 'aussi', 'déterminé', 'à', 'se', 'mouvoir', 'sous', 'l’', 'influence', 'de', 'causes', 'externes', 'qu’', 'une', 'pierre', 'qui', 'reçoit', 'une', 'impulsion'], 'C2'], [['Or', 'l’', 'objectif', 'de', 'Spinoza', 'est', 'bel', 'et', 'bien', 'de', 'montrer', 'que', 'l’', 'homme', 'suit', 'les', 'lois', 'communes', 'de', 'la', 'Nature', 'comme', 'toutes', 'les', 'choses', 'de', 'ce', 'monde'], 'C2'], [['Or', 'le', 'hasard', 'c’', 'est', 'précisément', 'ce', 'qui', 'est', 'fortuit', 'c’', 'estàdire', 'dépourvu', 'de', 'toute', 'intention', 'consciente', 'donc', 'de', 'motivation', 'intrinsèque'], 'C2'], [['Or', 'peuton', 'se', 'contenter', 'de', 'cette', 'expérience', 'immédiate', 'ou', 'pour', 'reprendre', 'la', 'formulation', 'de', 'Bergson', 'de', 'cette', '«', 'donnée', 'immédiate', 'de', 'la', 'conscience', '»'], 'C2'], [['Or', 'une', 'telle', 'vie', 'guidée', 'par', 'des', 'désirs', 'multiples', 'polymorphes', 'et', 'surtout', 'infinis', 'mène', 'nécessairement', 'au', 'tourment', 'et', 'au', 'malheur'], 'C2'], [['Par', 'ailleurs', 'Platon', 'dans', 'Protagoras', 'relate', 'l’', 'apparition', 'de', 'la', 'technique', 'et', 'donc', 'du', 'travail', 'chez', 'les', 'Hommes', 'dans', '«', 'le', 'mythe', 'de', 'Prométhée', '»'], 'C2'], [['Par', 'conséquent', 'd’', 'après', 'Marx', 'les', 'Hommes', 'qui', 'détiennent', 'les', 'clés', 'des', 'désirs', 'de', 'l’', 'humanité', 'auront', 'en', 'leur', 'possession', 'un', 'pouvoir', 'immense', 'et', 'une', 'responsabilité', 'd’', 'autant', 'plus', 'importante'], 'C2'], [['Par', 'conséquent', 'l’', 'entrée', 'dans', 'la', 'liberté', 'authentique', 'par', 'opposition', 'avec', 'la', 'liberté', 'illusoire', 'des', 'désirs', 'infinis', 'c’', 'est', 'l’', 'entrée', 'dans', 'une', 'véritable', 'autonomie', 'et', 'c’', 'est', 'pouvoir', 'devenir', 'responsable', 'de', 'ses', 'actes', 'et', 'pouvoir', 'en', 'répondre'], 'C2'], [['Par', 'conséquent', 'pour', 'déterminer', 'si', 'le', 'travail', 'n’', 'a', 'qu’', 'un', 'caractère', 'contraignant', 'on', 'peut', 's’', 'interroger', 'sur', 'le', 'fait', 'que', 'c’', 'est', 'une', 'activité', 'qui', 'peut', 'être', 'dictée', 'aux', 'Hommes', 'par', 'certains', 'de', 'leurs', 'semblables'], 'C2'], [['Par', 'conséquent', 'pour', 'que', 'le', 'travail', 'ne', 'soit', 'plus', 'une', 'contrainte', 'il', 'faut', 'que', 'l’', 'Homme', 'sorte', 'du', 'capitalisme', 'selon', 'Marx'], 'C2'], [['Par', 'exemple', 'un', 'Homme', 'qui', 'travail', 'uniquement', 'pour', 'obtenir', 'un', 'salaire', 'et', 'qui', 'n’', 'apprécie', 'pas', 'son', 'métier', 'va', 'le', 'considérer', 'comme', 'une', 'lourde', 'contrainte', 'alors', 'qu’', 'un', 'Homme', 'qui', 'aime', 'son', 'métier', 'et', 'qui', 'le', 'considère', 'comme', 'une', 'vocation', 'va', 'prendre', 'du', 'plaisir', 'à', 'le', 'faire', 'pour', 'lui', 'et', 'non', 'pour', 'le', 'salaire', 'et', 'va', 'donc', 'le', 'considérer', 'comme', 'une', 'fin', 'en', 'soi', 'c’', 'estàdire', 'une', 'activité', 'qu’', 'il', 'choisi', 'de', 'faire', 'librement', 'autrement', 'dit', 'une', 'obligation'], 'C2'], [['Platon', 'cherche', 'ainsi', 'à', 'montrer', 'dans', 'ce', 'dialogue', 'l’', 'illusion', 'dans', 'laquelle', 'se', 'trouvent', 'les', 'hommes', 'comme', 'Calliclès', 'qui', 'croient', 'qu’', 'être', 'libre', 'consiste', 'à', 'faire', 'ce', 'que', 'l’', 'on', 'veut', 'c’', 'estàdire', 'à', 'réaliser', 'tous', 'ses', 'désirs'], 'C2'], [['Platon', 'dans', 'le', 'Gorgias', 'pose', 'la', 'question', 'suivante', ' ', 'estce', 'la', 'vie', 'de', 'l’', 'homme', 'aux', 'désirs', 'insatiables', 'ou', 'celle', 'guidée', 'par', 'la', 'raison', 'qui', 'est', 'la', 'meilleure'], 'C2'], [['Pour', 'conclure', 'le', 'travail', 'ne', 'peut', 'guère', 'être', 'uniquement', 'considéré', 'comme', 'une', 'simple', 'contrainte', 'même', 'si', 'il', 'est', 'imposé', 'à', 'l’', 'Homme', 'par', 'd’', 'autres', 'individus'], 'C2'], [['Pour', 'Descartes', 'cette', 'liberté', 'd’', 'indifférence', 'bien', 'que', 'considérée', 'comme', '«', 'le', 'plus', 'bas', 'degré', 'de', 'la', 'liberté', '»', 'témoigne', 'en', 'même', 'temps', 'd’', 'un', 'pur', 'libre', 'arbitre', 'qui', 'apparente', 'l’', 'homme', 'à', 'Dieu', 'Méditation', 'quatrième'], 'C2'], [['Pour', 'Marx', 'le', 'travail', 'n’', 'est', 'donc', 'qu’', 'une', 'contrainte', 'car', 'c’', 'est', 'l’', 'unique', 'moyen', 'de', 'survie', 'qui', 'est', 'imposé', 'à', 'certains', 'Hommes', 'par', 'la', 'société'], 'C2'], [['Pour', 'réparer', 'cette', 'erreur', 'Prométhée', 'offre', 'la', 'technique', 'aux', 'Hommes', 'ainsi', 'que', 'le', 'feu'], 'C2'], [['Pour', 'visiter', 'les', 'tours', 'de', 'la', 'cathédrale', 'il', 'faut', 'patienter', 'quarante', 'bonnes', 'minutes', 'le', 'matin', 'et', 'près', 'de', 'deux', 'heures', 'et', 'demie', 'à', 'la', 'mijournée'], 'C2'], [['Premièrement', 'la', 'source', 'de', 'l’', 'illusion', 'humaine', 'du', 'libre', 'arbitre', 'est', 'l’', 'ignorance', 'des', 'causes', 'qui', 'nous', 'poussent', 'à', 'agir'], 'C2'], [['Que', 'je', 'sache', 'on', 'na', 'annoncé', 'ni', 'comètes', 'ni', 'éclipses', 'et', 'nos', 'fautes', 'ne', 'sont', 'pas', 'si', 'grandes', 'que', 'Dieu', 'doive', 'soccuper', 'de', 'nous'], 'C2'], [['Quel', 'droit', 'avezvous', 'vous', 'tous', 'dencombrer', 'uns', 'vie', 'de', 'me', 'voler', 'mon', 'temps', 'de', 'sonder', 'mon', 'âme', 'de', 'sucer', 'mes', 'pensées', 'de', 'mavoir', 'pour', 'compagnon', 'pour', 'confident', 'pour', 'bureau', 'dinformation'], 'C2'], [['Sébastien', 'Granet', 'et', 'Hélène', 'Lavoie', 'la', 'cheffe', 'nous', 'ont', 'accueillis', 'malgré', 'un', 'autobus', 'de', 'visiteurs', 'qui', 'ripaillaient'], 'C2'], [['Si', 'bien', 'qu’', 'il', 'est', 'toutà', 'fait', 'envisageable', 'de', 'soupçonner', 'Lafcadio', 'de', 'prendre', 'pour', 'une', 'absence', 'de', 'motifs', 'ce', 'qui', 'ne', 'serait', 'au', 'fond', 'qu’', 'une', 'ignorance', 'profonde', 'des', 'motifs', 'de', 'son', 'acte'], 'C2'], [['Si', 'vous', 'voulez', 'me', 'dire', 'quelque', 'chose', 'arrêtez', 'ce', 'galimatias', 'lançatil'], 'C2'], [['Si', 'dans', 'quelque', 'moment', 'de', 'faiblesse', 'de', 'détente', 'de', 'besoin', 'je', 'lâche', 'de', 'la', 'vapeurun', 'peu', 'de', 'colère', 'brûlante', 'dont', 'la', 'chaleur', 'tombe', 'avec', 'les', 'mots', ' ', 'rêve', 'passionné', 'enveloppé', 'des', 'langes', 'de', 'limage', ' ', 'eh', 'bien', 'prenez', 'ou', 'laissez', 'mais', 'ne', 'membêtez', 'pas'], 'C2'], [['Socrate', 'incarne', 'en', 'effet', 'le', 'sage', 'qui', 'sait', 'distinguer', 'entre', 'les', 'désirs', 'à', 'poursuivre', 'ou', 'à', 'ne', 'pas', 'poursuivre', 'qui', 'sait', 'se', 'gouverner', 'luimême', 'et', 'qui', 'est', 'en', 'mesure', 'd’', 'accéder', 'à', 'une', 'véritable', 'autonomie', 'de', 'la', 'volonté'], 'C2'], [['Son', 'acte', 'serait', 'donc', 'déterminé', 'par', 'une', 'extériorité'], 'C2'], [['Spinoza', 'critique', 'notamment', 'Descartes', 'qui', 'conçoit', 'l’', 'homme', 'comme', '«', 'un', 'empire', 'dans', 'un', 'empire', '»', 'ainsi', 'que', 'tous', 'les', 'philosophes', 'qui', 'croient', 'que', '«', 'l’', 'homme', 'trouble', 'l’', 'ordre', 'de', 'la', 'Nature', 'plutôt', 'qu’', 'il', 'ne', 'le', 'suit', 'qu’', 'il', 'a', 'sur', 'ses', 'propres', 'actions', 'un', 'pouvoir', 'absolu', 'et', 'ne', 'tire', 'que', 'de', 'luimême', 'sa', 'détermination', '»'], 'C2'], [['Suisje', 'un', 'amuseur', 'stipendié', 'dont', 'on', 'exige', 'tous', 'les', 'soirs', 'quil', 'joue', 'une', 'farce', 'intellectuelle', 'sous', 'vos', 'nez', 'imbéciles'], 'C2'], [['Suisje', 'un', 'esclave', 'acheté', 'et', 'dûment', 'payé', 'pour', 'ramper', 'sur', 'le', 'ventre', 'devant', 'ces', 'fainéants', 'que', 'vous', 'êtes', 'et', 'étendre', 'à', 'vos', 'pieds', 'tout', 'ce', 'que', 'je', 'fais', 'et', 'tout', 'ce', 'que', 'je', 'sais'], 'C2'], [['Suite', 'à', 'une', 'série', 'de', 'retards', 'cet', 'employé', 'a', 'été', 'mis', 'à', 'pied', 'pour', 'une', 'durée', 'indertéminée'], 'C2'], [['Telle', 'est', 'lanalyse', 'de', 'lUnion', 'fédérale', 'des', 'consommateurs', 'qui', 'a', 'demandé', 'mardi', '9', 'août', 'en', 'dévoilant', 'une', 'synthèse', 'sur', 'le', 'sujet', 'une', 'profonde', 'inflexion', 'dans', 'la', 'gestion', 'des', 'ressources', 'disponibles'], 'C2'], [['Tout', 'comme', 'les', 'comportements', 'des', 'animaux', 'sont', 'déterminés', 'par', 'l’', 'instinct', 'leur', 'environnement', 'ou', 'des', 'déterminations', 'biologiques', 'les', 'actes', 'et', 'les', 'pensées', 'des', 'hommes', 'le', 'sont', 'euxmêmes', 'par', 'de', 'multiples', 'facteurs', 'à', 'la', 'fois', 'internes', 'et', 'externes', 'dont', 'on', 'ignore', 'le', 'plus', 'souvent', 'l’', 'existence', 'et', 'la', 'puissance', ' ', 'facteurs', 'd’', 'origine', 'physiologiques', 'psychologiques', 'sociales', 'etc'], 'C2'], [['Tout', 'd’', 'abord', 'on', 'pourrait', 'ne', 'pas', 'désigner', 'le', 'travail', 'comme', 'une', 'contrainte', 'si', 'on', 'considère', 'que', 'c’', 'est', 'naturel', 'pour', 'l’', 'Homme', 'de', 'se', 'l’', 'imposer', 'librement', 'et', 'l’', 'Homme', 'n’', 'estil', 'pas', 'une', 'créature', 'libre'], 'C2'], [['Tout', 'd’', 'abord', 'pourquoi', 'ne', 'pas', 'considérer', 'le', 'travail', 'comme', 'une', 'unique', 'contrainte', 'puisque', 'dès', 'son', 'origine', 'cette', 'activité', 'est', 'désignée', 'comme', 'telle'], 'C2'], [['Tout', 'homme', 'se', 'sent', 'donc', 'spontanément', 'libre', 'tout', 'simplement', 'parce', 'qu’', 'il', 'se', 'croit', 'capable', 'de', 'faire', 'des', 'choix', 'de', 'petite', 'ou', 'de', 'grande', 'importance', 'de', 'prendre', 'des', 'décisions', 'de', 'petite', 'ou', 'de', 'grande', 'ampleur'], 'C2'], [['Toutefois', 'le', 'seul', 'moyen', 'd’', 'assouvir', 'ses', 'envies', 'de', 'nos', 'jours', 'est', 'de', 'posséder', 'de', 'l’', 'argent'], 'C2'], [['Trois', 'français', 'sur', 'quatre', 'sert', 'favorables', 'à', 'ce', 'que', 'les', 'pensions', 'des', 'fonctionnaires', 'soient', 'calculées', 'sur', 'les', 'salaires', 'des', 'dix', 'dernières', 'années', 'et', 'non', 'plus', 'des', 'six', 'derniers', 'mois', 'comme', 'aujourdhui', 'contre', '25', 'dans', 'le', 'privé'], 'C2'], [['Un', 'crime', 'immotivé', 'quel', 'embarras', 'pour', 'la', 'police'], 'C2'], [['Un', 'revenu', 'devient', 'donc', 'une', 'nécessité', 'pour', 'que', 'l’', 'Homme', 'puisse', 'accéder', 'à', 'la', 'satisfaction', 'd’', 'avoir', 'comblé', 'ses', 'désirs'], 'C2'], [['Une', 'épidémie', 'de', 'rage', 'nous', 'menace', 'dit', 'Sagunta', 'et', 'je', 'suis', 'la', 'seule', 'à', 'posséder', 'les', 'pains', 'de', 'SaintHubert', 'patron', 'des', 'chasseurs', 'et', 'guérisseur', 'des', 'enragés'], 'C2'], [['Une', 'large', 'majorité', 'de', 'français', 'est', 'favorable', 'à', 'la', 'modification', 'du', 'calcul', 'de', 'la', 'retraite', 'des', 'fonctionnaires', 'dans', 'le', 'cadre', 'de', 'la', 'réforme', 'en', 'préparation', 'selon', 'un', 'sondage', 'publié', 'vendredi'], 'C2'], [['Vous', 'souffrîtes', 'du', 'froid', 'intense', 'de', 'l’', 'hiver', 'qui', 'sengoufrait', 'dans', 'les', 'avenues', 'bondées', 'de', 'passants', 'empressés'], 'C2'], [['J’', 'eusse', 'dû', 'te', 'le', 'confier', 'en', 'amont', 'de', 'notre', 'conversation', 'avec', 'les', 'investisseurs'], 'C2'], [['Il', 'marque', 'en', 'outre', 'l’', 'instant', 'où', 'la', 'dichotomie', 'entre', 'le', 'moi', 'et', 'le', 'monde', 'se', 'résorbe'], 'C2'], [['Finalement', 'il', 'est', 'aussi', 'question', 'de', 'scepticisme', 'réalisation', 'du', 'stoïcisme', 'et', 'décriant', 'l’', 'être', 'autre', '\\n', 'comme', 'subjectif', 'et', 'remettant', 'donc', 'en', 'cause', 'son', 'aspect', 'véridique', 'et', 'absolu'], 'C2'], [['Bienheureux', 'le', 'quidam', 'que', 'voilà', 'débarrassé', 'de', 'cette', 'peur', 'originelle', 'd’', 'échouer', 'et', 'de', 'faire', 'faux'], 'C2'], [['Mais', 'la', 'racine', 'du', 'mal', 'est', 'bel', 'est', 'bien', 'cette', 'façon', 'de', 'penser', 'tendant', 'vers', 'un', 'manichéisme', 'néfaste', 'néfaste', 'car', 'le', '\\n', 'respect', 'des', 'opinions', 'divergentes', 'et', 'le', 'débat', 's’', 'estompent', 'au', 'profit', 'de', 'l’', 'extrémisme', 'et', 'l’', 'uniformisme', 'de', 'la', 'pensée'], 'C2'], [['Vous', 'vous', 'retrouverez', 'alors', 'vite', 'attaqués', 'de', 'toutes', 'parts', 'par', 'des', 'personnes', 'ne', 's’', 'étant', 'pas', 'renseignées', 'sur', 'le', '\\n', 'sujet', 'mais', 'jouant', 'les', 'parfait', 'petits', 'soldats', 'de', 'la', 'grande', 'Doxa', 'de', 'ce', 'siècle'], 'C2'], [['Car', 'sans', 'incertitude', 'nous', 'serions', 'cantonnés', 'à', 'une', 'vie', 'morne', 'dont', 'la', 'fresque', 'ne', 'serait', 'teinte', 'que', 'de', '\\n', 'dégradés', 'de', 'gris', 'en', 'absence', 'complète', 'de', 'couleurs'], 'C2'], [['De', 'plus', 'nous', 'assistons', 'aussi', 'à', 'la', 'perte', 'd’', 'une', 'caractéristique', 'ô', 'combien', 'essentielle', 'et', 'salvatrice', 'pour', '\\n', 'notre', 'espèce', ' ', 'la', 'faculté', 'd’', 'empathie'], 'C2'], [['Il', 'souhaite', 'que', 'nous', 'voyions', 'les', 'ambassadeurs', 'que', 'nous', 'nous', 'entendions', 'avec', 'eux', 'mais', 'il', 'ne', 'veut', 'pas', 'que', 'nous', '\\n', 'leur', 'avouions', 'nos', 'intentions'], 'C2'], [['Le', 'jardin', 'commença', 'à', 'fleurir', 'après', 'qu’', 'il', 'se', 'fut', 'mis', 'à', 'faire', 'chaud'], 'C2'], [['Lorsqu’', 'elle', 'eut', 'revu', 'son', 'premier', 'amoureux', 'son', 'coeur', 'battit', 'follement'], 'C2'], [['Après', 'qu’', 'il', 'eut', 'révélé', 'son', 'terrible', 'secret', 'il', 'se', 'sentit', 'soulagé'], 'C2'], [['Aussitôt', 'que', 'Julie', 'eut', 'découvert', 'la', 'vérité', 'elle', 'fut', 'furieuse'], 'C2'], [['Après', 'qu’', 'il', 'eut', 'lu', 'sa', 'correspondance', 'il', 'sortit', 'faire', 'une', 'promenade'], 'C2'], [['Dès', 'qu’', 'elle', 'fut', 'rentrée', 'elle', 'éclata', 'en', 'sanglots'], 'C2'], [['Sa', 'vie', 'devint', 'un', 'enfer', 'quand', 'elle', 'eut', 'compris', 'que', 'son', 'mari', 'la', 'trompait'], 'C2'], [['Après', 'qu’', 'il', 'eut', 'perdu', 'ses', 'enfants', 'dans', 'l’', 'incendie', 'il', 'sombra', 'dans', 'la', 'folie'], 'C2'], [['Lorsque', 'vous', 'vous', 'fûtes', 'senties', 'mieux', 'nous', 'recommençâmes', 'à', 'nous', 'voir'], 'C2'], [['Dès', 'que', 'vous', 'eûtes', 'ouvert', 'la', 'porte', 'le', 'chat', 'entra', 'avec', 'empressement'], 'C2'], [['La', 'vie', 'lui', 'sourit', 'quand', 'elle', 'eut', 'fini', 'par', 'l’', 'apprécier'], 'C2'], [['Parce', 'qu’', 'ils', 'se', 'furent', 'dépêchés', 'ils', 'arrivèrent', 'à', 'temps', 'pour', 'le', 'bal'], 'C2'], [['Quand', 'elle', 'fut', 'arrivée', 'au', 'cimetière', 'elle', 's’', 'agenouilla', 'pour', 'prier'], 'C2'], [['Dès', 'que', 'nous', 'eûmes', 'reçu', 'de', 'ses', 'nouvelles', 'nous', 'fûmes', 'soulagés'], 'C2'], [['Ils', 'rentrèrent', 'se', 'reposer', 'après', 'qu’', 'ils', 'eurent', 'fait', 'le', 'tour', 'du', 'lac', 'en', 'chaloupe'], 'C2'], [['Quand', 'tu', 'eus', 'appelé', 'à', 'l’', 'aide', 'ils', 'vinrent', 'nous', 'porter', 'secours'], 'C2'], [['Après', 'que', 'vous', 'vous', 'fûtes', 'enrichies', 'vous', 'vous', 'souvinrent', 'de', 'vos', 'débuts', 'difficiles'], 'C2'], [['Tu', 'mangeas', 'les', 'petits', 'fruits', 'dès', 'que', 'tu', 'les', 'eus', 'cueillis'], 'C2'], [['Quand', 'je', 'me', 'fus', 'assis', 'je', 'remarquai', 'l’', 'omniprésence', 'des', 'papillons'], 'C2'], [['Vous', 'sortîtes', 'précipitamment', 'après', 'que', 'vous', 'eûtes', 'mis', 'votre', 'chapeau'], 'C2'], [['Cet', 'homme', 'me', 'plut', 'dès', 'que', 'je', 'l’', 'eus', 'vu'], 'C2'], [['Ils', 'rentrèrent', 'au', 'pays', 'après', 'qu’', 'ils', 'eurent', 'vécu', 'en', 'Europe'], 'C2'], [['L’', 'artiste', 'peignit', 'un', 'paysage', 'qu’', 'il', 'eut', 'vu'], 'C2'], [['Nous', 'dûmes', 'nous', 'excuser', 'des', 'propos', 'que', 'nous', 'eûmes', 'prononcés'], 'C2'], [['Aussitôt', 'qu’', 'elle', 'eut', 'perdu', 'son', 'chien', 'elle', 'le', 'chercha', 'désespérément'], 'C2'], [['Nous', 'nous', 'précipitâmes', 'à', 'l’', 'extérieur', 'dès', 'qu’', 'il', 'n’', 'eut', 'plus', 'plut'], 'C2'], [['Les', 'enfants', 'chantèrent', 'les', 'chansons', 'qu’', 'ils', 'eurent', 'apprises', 'de', 'leur', 'professeur'], 'C2'], [['Je', 'lus', 'un', 'roman', 'que', 'je', 'me', 'fus', 'procuré', 'à', 'la', 'bibliothèque', 'centrale'], 'C2'], [['Vous', 'attendîtes', 'la', 'surprise', 'que', 'vos', 'parents', 'vous', 'eurent', 'promise'], 'C2'], [['Tu', 'portas', 'cette', 'robe', 'de', 'soie', 'bleue', 'que', 'j’', 'eus', 'cousue'], 'C2'], [['Je', 'sortis', 'quand', 'j’', 'eus', 'pris', 'mes', 'clés'], 'C2']]\n"
          ],
          "name": "stdout"
        }
      ]
    },
    {
      "cell_type": "code",
      "metadata": {
        "id": "E8c4rqMj6Tv-"
      },
      "source": [
        "newdf = pd.DataFrame(datawords, columns=[\"Text\", \"Label\"])"
      ],
      "execution_count": 17,
      "outputs": []
    },
    {
      "cell_type": "code",
      "metadata": {
        "colab": {
          "base_uri": "https://localhost:8080/",
          "height": 622
        },
        "id": "ABbj8InAN1lI",
        "outputId": "9a5a1e7b-eb75-44a3-9aef-0a95da588722"
      },
      "source": [
        "newdf.head(20)"
      ],
      "execution_count": 18,
      "outputs": [
        {
          "output_type": "execute_result",
          "data": {
            "text/html": [
              "<div>\n",
              "<style scoped>\n",
              "    .dataframe tbody tr th:only-of-type {\n",
              "        vertical-align: middle;\n",
              "    }\n",
              "\n",
              "    .dataframe tbody tr th {\n",
              "        vertical-align: top;\n",
              "    }\n",
              "\n",
              "    .dataframe thead th {\n",
              "        text-align: right;\n",
              "    }\n",
              "</style>\n",
              "<table border=\"1\" class=\"dataframe\">\n",
              "  <thead>\n",
              "    <tr style=\"text-align: right;\">\n",
              "      <th></th>\n",
              "      <th>Text</th>\n",
              "      <th>Label</th>\n",
              "    </tr>\n",
              "  </thead>\n",
              "  <tbody>\n",
              "    <tr>\n",
              "      <th>0</th>\n",
              "      <td>[Pour, moi, cétait, un, cadeau, de, rêve]</td>\n",
              "      <td>A1</td>\n",
              "    </tr>\n",
              "    <tr>\n",
              "      <th>1</th>\n",
              "      <td>[A, Barcelone, mes, parents, ont, réservé, un, appartement, près, de, la, plage]</td>\n",
              "      <td>A1</td>\n",
              "    </tr>\n",
              "    <tr>\n",
              "      <th>2</th>\n",
              "      <td>[À, quelle, heure, on, part]</td>\n",
              "      <td>A1</td>\n",
              "    </tr>\n",
              "    <tr>\n",
              "      <th>3</th>\n",
              "      <td>[Ainsi, Pierre, a, le, privilège, dadmirer, chaque, jour, lun, des, monuments, les, plus, visités, au, monde]</td>\n",
              "      <td>A1</td>\n",
              "    </tr>\n",
              "    <tr>\n",
              "      <th>4</th>\n",
              "      <td>[Allumez, votre, téléphone, mobile]</td>\n",
              "      <td>A1</td>\n",
              "    </tr>\n",
              "    <tr>\n",
              "      <th>5</th>\n",
              "      <td>[Après, avoir, bu, une, tasse, de, thé, dans, un, café, je, rentre, chez, moi, en, bus]</td>\n",
              "      <td>A1</td>\n",
              "    </tr>\n",
              "    <tr>\n",
              "      <th>6</th>\n",
              "      <td>[Après, je, vais, dans, la, cuisine, et, je, bois, mon, café]</td>\n",
              "      <td>A1</td>\n",
              "    </tr>\n",
              "    <tr>\n",
              "      <th>7</th>\n",
              "      <td>[Arthur, lace, ses, chaussures, à, rayures]</td>\n",
              "      <td>A1</td>\n",
              "    </tr>\n",
              "    <tr>\n",
              "      <th>8</th>\n",
              "      <td>[Aujourd’hui, avec, mes, parents, et, ma, sœur, nous, partons, en, voyage]</td>\n",
              "      <td>A1</td>\n",
              "    </tr>\n",
              "    <tr>\n",
              "      <th>9</th>\n",
              "      <td>[Aujourd’hui, on, est, samedi, nous, rendons, visite, à, notre, grandmère]</td>\n",
              "      <td>A1</td>\n",
              "    </tr>\n",
              "    <tr>\n",
              "      <th>10</th>\n",
              "      <td>[Avec, le, printemps, qui, commence, en, mars, le, soleil, est, de, retour, et, le, temps, se, réchauffe]</td>\n",
              "      <td>A1</td>\n",
              "    </tr>\n",
              "    <tr>\n",
              "      <th>11</th>\n",
              "      <td>[Bob, va, au, cinéma]</td>\n",
              "      <td>A1</td>\n",
              "    </tr>\n",
              "    <tr>\n",
              "      <th>12</th>\n",
              "      <td>[Bonjour, je, mappelle, Igor]</td>\n",
              "      <td>A1</td>\n",
              "    </tr>\n",
              "    <tr>\n",
              "      <th>13</th>\n",
              "      <td>[Bruno, met, son, chapeau, rigolo]</td>\n",
              "      <td>A1</td>\n",
              "    </tr>\n",
              "    <tr>\n",
              "      <th>14</th>\n",
              "      <td>[Cest, pratique, pour, aller, dun, centre, commercial, à, un, autre, pour, aller, à, lécole, à, la, piscine, au, stade, ou, encore, au, théâtre, parce, que, la, ville, est, très, grande]</td>\n",
              "      <td>A1</td>\n",
              "    </tr>\n",
              "    <tr>\n",
              "      <th>15</th>\n",
              "      <td>[Cest, tellement, amusant, de, réciter, la, comptine, des, vêtements]</td>\n",
              "      <td>A1</td>\n",
              "    </tr>\n",
              "    <tr>\n",
              "      <th>16</th>\n",
              "      <td>[Cest, un, spectacle, magique]</td>\n",
              "      <td>A1</td>\n",
              "    </tr>\n",
              "    <tr>\n",
              "      <th>17</th>\n",
              "      <td>[C’, est, aussi, le, moment, idéal, pour, profiter, de, l’, eau, et, aller, nager, à, la, mer, ou, à, la, piscine]</td>\n",
              "      <td>A1</td>\n",
              "    </tr>\n",
              "    <tr>\n",
              "      <th>18</th>\n",
              "      <td>[C’, est, la, couleur, de, nombreux, fruits, et, légumes, comme, les, tomates, les, fraises, ou, les, cerises]</td>\n",
              "      <td>A1</td>\n",
              "    </tr>\n",
              "    <tr>\n",
              "      <th>19</th>\n",
              "      <td>[C’, est, la, saison, la, plus, chaude, pendant, laquelle, on, recommence, à, mettre, ses, lunettes, de, soleil, et, à, aller, se, promener, sur, la, plage]</td>\n",
              "      <td>A1</td>\n",
              "    </tr>\n",
              "  </tbody>\n",
              "</table>\n",
              "</div>"
            ],
            "text/plain": [
              "                                                                                                                                                                                          Text Label\n",
              "0                                                                                                                                                    [Pour, moi, cétait, un, cadeau, de, rêve]    A1\n",
              "1                                                                                                             [A, Barcelone, mes, parents, ont, réservé, un, appartement, près, de, la, plage]    A1\n",
              "2                                                                                                                                                                 [À, quelle, heure, on, part]    A1\n",
              "3                                                                                [Ainsi, Pierre, a, le, privilège, dadmirer, chaque, jour, lun, des, monuments, les, plus, visités, au, monde]    A1\n",
              "4                                                                                                                                                          [Allumez, votre, téléphone, mobile]    A1\n",
              "5                                                                                                      [Après, avoir, bu, une, tasse, de, thé, dans, un, café, je, rentre, chez, moi, en, bus]    A1\n",
              "6                                                                                                                                [Après, je, vais, dans, la, cuisine, et, je, bois, mon, café]    A1\n",
              "7                                                                                                                                                  [Arthur, lace, ses, chaussures, à, rayures]    A1\n",
              "8                                                                                                                   [Aujourd’hui, avec, mes, parents, et, ma, sœur, nous, partons, en, voyage]    A1\n",
              "9                                                                                                                   [Aujourd’hui, on, est, samedi, nous, rendons, visite, à, notre, grandmère]    A1\n",
              "10                                                                                   [Avec, le, printemps, qui, commence, en, mars, le, soleil, est, de, retour, et, le, temps, se, réchauffe]    A1\n",
              "11                                                                                                                                                                       [Bob, va, au, cinéma]    A1\n",
              "12                                                                                                                                                               [Bonjour, je, mappelle, Igor]    A1\n",
              "13                                                                                                                                                          [Bruno, met, son, chapeau, rigolo]    A1\n",
              "14  [Cest, pratique, pour, aller, dun, centre, commercial, à, un, autre, pour, aller, à, lécole, à, la, piscine, au, stade, ou, encore, au, théâtre, parce, que, la, ville, est, très, grande]    A1\n",
              "15                                                                                                                       [Cest, tellement, amusant, de, réciter, la, comptine, des, vêtements]    A1\n",
              "16                                                                                                                                                              [Cest, un, spectacle, magique]    A1\n",
              "17                                                                          [C’, est, aussi, le, moment, idéal, pour, profiter, de, l’, eau, et, aller, nager, à, la, mer, ou, à, la, piscine]    A1\n",
              "18                                                                              [C’, est, la, couleur, de, nombreux, fruits, et, légumes, comme, les, tomates, les, fraises, ou, les, cerises]    A1\n",
              "19                                [C’, est, la, saison, la, plus, chaude, pendant, laquelle, on, recommence, à, mettre, ses, lunettes, de, soleil, et, à, aller, se, promener, sur, la, plage]    A1"
            ]
          },
          "metadata": {
            "tags": []
          },
          "execution_count": 18
        }
      ]
    },
    {
      "cell_type": "code",
      "metadata": {
        "colab": {
          "base_uri": "https://localhost:8080/",
          "height": 190
        },
        "id": "1REPRWfv7S-c",
        "outputId": "adc433ae-5c81-4dbc-a8f5-3fbd7a4fec5d"
      },
      "source": [
        "#create NumberOfCognate and Cognates columns\n",
        "newdf = newdf.assign(NumberOfCognate = 0) \n",
        "newdf = newdf.assign(Cognates = \"\")\n",
        "newdf.head() "
      ],
      "execution_count": 19,
      "outputs": [
        {
          "output_type": "execute_result",
          "data": {
            "text/html": [
              "<div>\n",
              "<style scoped>\n",
              "    .dataframe tbody tr th:only-of-type {\n",
              "        vertical-align: middle;\n",
              "    }\n",
              "\n",
              "    .dataframe tbody tr th {\n",
              "        vertical-align: top;\n",
              "    }\n",
              "\n",
              "    .dataframe thead th {\n",
              "        text-align: right;\n",
              "    }\n",
              "</style>\n",
              "<table border=\"1\" class=\"dataframe\">\n",
              "  <thead>\n",
              "    <tr style=\"text-align: right;\">\n",
              "      <th></th>\n",
              "      <th>Text</th>\n",
              "      <th>Label</th>\n",
              "      <th>NumberOfCognate</th>\n",
              "      <th>Cognates</th>\n",
              "    </tr>\n",
              "  </thead>\n",
              "  <tbody>\n",
              "    <tr>\n",
              "      <th>0</th>\n",
              "      <td>[Pour, moi, cétait, un, cadeau, de, rêve]</td>\n",
              "      <td>A1</td>\n",
              "      <td>0</td>\n",
              "      <td></td>\n",
              "    </tr>\n",
              "    <tr>\n",
              "      <th>1</th>\n",
              "      <td>[A, Barcelone, mes, parents, ont, réservé, un, appartement, près, de, la, plage]</td>\n",
              "      <td>A1</td>\n",
              "      <td>0</td>\n",
              "      <td></td>\n",
              "    </tr>\n",
              "    <tr>\n",
              "      <th>2</th>\n",
              "      <td>[À, quelle, heure, on, part]</td>\n",
              "      <td>A1</td>\n",
              "      <td>0</td>\n",
              "      <td></td>\n",
              "    </tr>\n",
              "    <tr>\n",
              "      <th>3</th>\n",
              "      <td>[Ainsi, Pierre, a, le, privilège, dadmirer, chaque, jour, lun, des, monuments, les, plus, visités, au, monde]</td>\n",
              "      <td>A1</td>\n",
              "      <td>0</td>\n",
              "      <td></td>\n",
              "    </tr>\n",
              "    <tr>\n",
              "      <th>4</th>\n",
              "      <td>[Allumez, votre, téléphone, mobile]</td>\n",
              "      <td>A1</td>\n",
              "      <td>0</td>\n",
              "      <td></td>\n",
              "    </tr>\n",
              "  </tbody>\n",
              "</table>\n",
              "</div>"
            ],
            "text/plain": [
              "                                                                                                            Text  ... Cognates\n",
              "0                                                                      [Pour, moi, cétait, un, cadeau, de, rêve]  ...         \n",
              "1                               [A, Barcelone, mes, parents, ont, réservé, un, appartement, près, de, la, plage]  ...         \n",
              "2                                                                                   [À, quelle, heure, on, part]  ...         \n",
              "3  [Ainsi, Pierre, a, le, privilège, dadmirer, chaque, jour, lun, des, monuments, les, plus, visités, au, monde]  ...         \n",
              "4                                                                            [Allumez, votre, téléphone, mobile]  ...         \n",
              "\n",
              "[5 rows x 4 columns]"
            ]
          },
          "metadata": {
            "tags": []
          },
          "execution_count": 19
        }
      ]
    },
    {
      "cell_type": "code",
      "metadata": {
        "id": "WGHz07RBGiDs"
      },
      "source": [
        "index = 0\n",
        "for sentence in newdf.Text:\n",
        "  score=0\n",
        "  liste =[]\n",
        "  for word in sentence:\n",
        "    if str(word) in ListCognates:\n",
        "      score+=1\n",
        "      liste.append(word)\n",
        "  if index <=1223:\n",
        "    newdf.at[index,'NumberOfCognate']= int(score)\n",
        "    newdf.at[index,'Cognates']= np.array(liste)\n",
        "    index += 1\n"
      ],
      "execution_count": 20,
      "outputs": []
    },
    {
      "cell_type": "code",
      "metadata": {
        "colab": {
          "base_uri": "https://localhost:8080/",
          "height": 190
        },
        "id": "bCUMjwFNTVCB",
        "outputId": "0f2853dc-326e-43ff-d5ec-ccb38a3e7682"
      },
      "source": [
        "newdf.head()"
      ],
      "execution_count": 21,
      "outputs": [
        {
          "output_type": "execute_result",
          "data": {
            "text/html": [
              "<div>\n",
              "<style scoped>\n",
              "    .dataframe tbody tr th:only-of-type {\n",
              "        vertical-align: middle;\n",
              "    }\n",
              "\n",
              "    .dataframe tbody tr th {\n",
              "        vertical-align: top;\n",
              "    }\n",
              "\n",
              "    .dataframe thead th {\n",
              "        text-align: right;\n",
              "    }\n",
              "</style>\n",
              "<table border=\"1\" class=\"dataframe\">\n",
              "  <thead>\n",
              "    <tr style=\"text-align: right;\">\n",
              "      <th></th>\n",
              "      <th>Text</th>\n",
              "      <th>Label</th>\n",
              "      <th>NumberOfCognate</th>\n",
              "      <th>Cognates</th>\n",
              "    </tr>\n",
              "  </thead>\n",
              "  <tbody>\n",
              "    <tr>\n",
              "      <th>0</th>\n",
              "      <td>[Pour, moi, cétait, un, cadeau, de, rêve]</td>\n",
              "      <td>A1</td>\n",
              "      <td>0</td>\n",
              "      <td>[]</td>\n",
              "    </tr>\n",
              "    <tr>\n",
              "      <th>1</th>\n",
              "      <td>[A, Barcelone, mes, parents, ont, réservé, un, appartement, près, de, la, plage]</td>\n",
              "      <td>A1</td>\n",
              "      <td>0</td>\n",
              "      <td>[]</td>\n",
              "    </tr>\n",
              "    <tr>\n",
              "      <th>2</th>\n",
              "      <td>[À, quelle, heure, on, part]</td>\n",
              "      <td>A1</td>\n",
              "      <td>2</td>\n",
              "      <td>[heure, part]</td>\n",
              "    </tr>\n",
              "    <tr>\n",
              "      <th>3</th>\n",
              "      <td>[Ainsi, Pierre, a, le, privilège, dadmirer, chaque, jour, lun, des, monuments, les, plus, visités, au, monde]</td>\n",
              "      <td>A1</td>\n",
              "      <td>1</td>\n",
              "      <td>[plus]</td>\n",
              "    </tr>\n",
              "    <tr>\n",
              "      <th>4</th>\n",
              "      <td>[Allumez, votre, téléphone, mobile]</td>\n",
              "      <td>A1</td>\n",
              "      <td>2</td>\n",
              "      <td>[téléphone, mobile]</td>\n",
              "    </tr>\n",
              "  </tbody>\n",
              "</table>\n",
              "</div>"
            ],
            "text/plain": [
              "                                                                                                            Text  ...             Cognates\n",
              "0                                                                      [Pour, moi, cétait, un, cadeau, de, rêve]  ...                   []\n",
              "1                               [A, Barcelone, mes, parents, ont, réservé, un, appartement, près, de, la, plage]  ...                   []\n",
              "2                                                                                   [À, quelle, heure, on, part]  ...        [heure, part]\n",
              "3  [Ainsi, Pierre, a, le, privilège, dadmirer, chaque, jour, lun, des, monuments, les, plus, visités, au, monde]  ...               [plus]\n",
              "4                                                                            [Allumez, votre, téléphone, mobile]  ...  [téléphone, mobile]\n",
              "\n",
              "[5 rows x 4 columns]"
            ]
          },
          "metadata": {
            "tags": []
          },
          "execution_count": 21
        }
      ]
    },
    {
      "cell_type": "code",
      "metadata": {
        "colab": {
          "base_uri": "https://localhost:8080/",
          "height": 142
        },
        "id": "F377CRbIVs9y",
        "outputId": "14c7cd9a-28cc-40b3-afe8-92a8441847c8"
      },
      "source": [
        "cognatesSum = newdf.NumberOfCognate.sum()\n",
        "print(\"We found in total : \", cognatesSum, \"cognates.\")\n",
        "print(\"The sentence with the most cognates is :\")\n",
        "newdf.sort_values(by=['NumberOfCognate'],ascending=False).head(1)"
      ],
      "execution_count": 22,
      "outputs": [
        {
          "output_type": "stream",
          "text": [
            "We found in total :  888 cognates.\n",
            "The sentence with the most cognates is :\n"
          ],
          "name": "stdout"
        },
        {
          "output_type": "execute_result",
          "data": {
            "text/html": [
              "<div>\n",
              "<style scoped>\n",
              "    .dataframe tbody tr th:only-of-type {\n",
              "        vertical-align: middle;\n",
              "    }\n",
              "\n",
              "    .dataframe tbody tr th {\n",
              "        vertical-align: top;\n",
              "    }\n",
              "\n",
              "    .dataframe thead th {\n",
              "        text-align: right;\n",
              "    }\n",
              "</style>\n",
              "<table border=\"1\" class=\"dataframe\">\n",
              "  <thead>\n",
              "    <tr style=\"text-align: right;\">\n",
              "      <th></th>\n",
              "      <th>Text</th>\n",
              "      <th>Label</th>\n",
              "      <th>NumberOfCognate</th>\n",
              "      <th>Cognates</th>\n",
              "    </tr>\n",
              "  </thead>\n",
              "  <tbody>\n",
              "    <tr>\n",
              "      <th>1106</th>\n",
              "      <td>[Jean, Buridan, philosophe, français, du, quatorzième, siècle, aurait, selon, la, légende, conçu, une, expérience, imaginaire, afin, de, prouver, l’, existence, du, libre, arbitre,  , la, situation, serait, celle, d’, un, animal, en, l’, occurrence, un, âne, ayant, également, faim, et, soif, et, qui, placé, à, égale, distance, d’, une, botte, de, foin, et, d’, un, seau, d’, eau, hésite, se, montre, incapable, de, choisir, et, finalement, se, laisse, mourir]</td>\n",
              "      <td>C2</td>\n",
              "      <td>9</td>\n",
              "      <td>[expérience, imaginaire, existence, situation, animal, occurrence, distance, incapable, finalement]</td>\n",
              "    </tr>\n",
              "  </tbody>\n",
              "</table>\n",
              "</div>"
            ],
            "text/plain": [
              "                                                                                                                                                                                                                                                                                                                                                                                                                                                                               Text  ...                                                                                             Cognates\n",
              "1106  [Jean, Buridan, philosophe, français, du, quatorzième, siècle, aurait, selon, la, légende, conçu, une, expérience, imaginaire, afin, de, prouver, l’, existence, du, libre, arbitre,  , la, situation, serait, celle, d’, un, animal, en, l’, occurrence, un, âne, ayant, également, faim, et, soif, et, qui, placé, à, égale, distance, d’, une, botte, de, foin, et, d’, un, seau, d’, eau, hésite, se, montre, incapable, de, choisir, et, finalement, se, laisse, mourir]  ...  [expérience, imaginaire, existence, situation, animal, occurrence, distance, incapable, finalement]\n",
              "\n",
              "[1 rows x 4 columns]"
            ]
          },
          "metadata": {
            "tags": []
          },
          "execution_count": 22
        }
      ]
    },
    {
      "cell_type": "code",
      "metadata": {
        "colab": {
          "base_uri": "https://localhost:8080/",
          "height": 392
        },
        "id": "GHp8Q-DPMPjn",
        "outputId": "5b1b7077-b2a3-47c8-c3c0-a47544377388"
      },
      "source": [
        "del newdf['NumberOfCognate']\n",
        "\n",
        "newdf"
      ],
      "execution_count": 23,
      "outputs": [
        {
          "output_type": "execute_result",
          "data": {
            "text/html": [
              "<div>\n",
              "<style scoped>\n",
              "    .dataframe tbody tr th:only-of-type {\n",
              "        vertical-align: middle;\n",
              "    }\n",
              "\n",
              "    .dataframe tbody tr th {\n",
              "        vertical-align: top;\n",
              "    }\n",
              "\n",
              "    .dataframe thead th {\n",
              "        text-align: right;\n",
              "    }\n",
              "</style>\n",
              "<table border=\"1\" class=\"dataframe\">\n",
              "  <thead>\n",
              "    <tr style=\"text-align: right;\">\n",
              "      <th></th>\n",
              "      <th>Text</th>\n",
              "      <th>Label</th>\n",
              "      <th>Cognates</th>\n",
              "    </tr>\n",
              "  </thead>\n",
              "  <tbody>\n",
              "    <tr>\n",
              "      <th>0</th>\n",
              "      <td>[Pour, moi, cétait, un, cadeau, de, rêve]</td>\n",
              "      <td>A1</td>\n",
              "      <td>[]</td>\n",
              "    </tr>\n",
              "    <tr>\n",
              "      <th>1</th>\n",
              "      <td>[A, Barcelone, mes, parents, ont, réservé, un, appartement, près, de, la, plage]</td>\n",
              "      <td>A1</td>\n",
              "      <td>[]</td>\n",
              "    </tr>\n",
              "    <tr>\n",
              "      <th>2</th>\n",
              "      <td>[À, quelle, heure, on, part]</td>\n",
              "      <td>A1</td>\n",
              "      <td>[heure, part]</td>\n",
              "    </tr>\n",
              "    <tr>\n",
              "      <th>3</th>\n",
              "      <td>[Ainsi, Pierre, a, le, privilège, dadmirer, chaque, jour, lun, des, monuments, les, plus, visités, au, monde]</td>\n",
              "      <td>A1</td>\n",
              "      <td>[plus]</td>\n",
              "    </tr>\n",
              "    <tr>\n",
              "      <th>4</th>\n",
              "      <td>[Allumez, votre, téléphone, mobile]</td>\n",
              "      <td>A1</td>\n",
              "      <td>[téléphone, mobile]</td>\n",
              "    </tr>\n",
              "    <tr>\n",
              "      <th>...</th>\n",
              "      <td>...</td>\n",
              "      <td>...</td>\n",
              "      <td>...</td>\n",
              "    </tr>\n",
              "    <tr>\n",
              "      <th>1219</th>\n",
              "      <td>[Les, enfants, chantèrent, les, chansons, qu’, ils, eurent, apprises, de, leur, professeur]</td>\n",
              "      <td>C2</td>\n",
              "      <td>[]</td>\n",
              "    </tr>\n",
              "    <tr>\n",
              "      <th>1220</th>\n",
              "      <td>[Je, lus, un, roman, que, je, me, fus, procuré, à, la, bibliothèque, centrale]</td>\n",
              "      <td>C2</td>\n",
              "      <td>[]</td>\n",
              "    </tr>\n",
              "    <tr>\n",
              "      <th>1221</th>\n",
              "      <td>[Vous, attendîtes, la, surprise, que, vos, parents, vous, eurent, promise]</td>\n",
              "      <td>C2</td>\n",
              "      <td>[surprise]</td>\n",
              "    </tr>\n",
              "    <tr>\n",
              "      <th>1222</th>\n",
              "      <td>[Tu, portas, cette, robe, de, soie, bleue, que, j’, eus, cousue]</td>\n",
              "      <td>C2</td>\n",
              "      <td>[]</td>\n",
              "    </tr>\n",
              "    <tr>\n",
              "      <th>1223</th>\n",
              "      <td>[Je, sortis, quand, j’, eus, pris, mes, clés]</td>\n",
              "      <td>C2</td>\n",
              "      <td>[]</td>\n",
              "    </tr>\n",
              "  </tbody>\n",
              "</table>\n",
              "<p>1224 rows × 3 columns</p>\n",
              "</div>"
            ],
            "text/plain": [
              "                                                                                                               Text  ...             Cognates\n",
              "0                                                                         [Pour, moi, cétait, un, cadeau, de, rêve]  ...                   []\n",
              "1                                  [A, Barcelone, mes, parents, ont, réservé, un, appartement, près, de, la, plage]  ...                   []\n",
              "2                                                                                      [À, quelle, heure, on, part]  ...        [heure, part]\n",
              "3     [Ainsi, Pierre, a, le, privilège, dadmirer, chaque, jour, lun, des, monuments, les, plus, visités, au, monde]  ...               [plus]\n",
              "4                                                                               [Allumez, votre, téléphone, mobile]  ...  [téléphone, mobile]\n",
              "...                                                                                                             ...  ...                  ...\n",
              "1219                    [Les, enfants, chantèrent, les, chansons, qu’, ils, eurent, apprises, de, leur, professeur]  ...                   []\n",
              "1220                                 [Je, lus, un, roman, que, je, me, fus, procuré, à, la, bibliothèque, centrale]  ...                   []\n",
              "1221                                     [Vous, attendîtes, la, surprise, que, vos, parents, vous, eurent, promise]  ...           [surprise]\n",
              "1222                                               [Tu, portas, cette, robe, de, soie, bleue, que, j’, eus, cousue]  ...                   []\n",
              "1223                                                                  [Je, sortis, quand, j’, eus, pris, mes, clés]  ...                   []\n",
              "\n",
              "[1224 rows x 3 columns]"
            ]
          },
          "metadata": {
            "tags": []
          },
          "execution_count": 23
        }
      ]
    },
    {
      "cell_type": "code",
      "metadata": {
        "colab": {
          "base_uri": "https://localhost:8080/",
          "height": 392
        },
        "id": "Vk5pJoCVTdCd",
        "outputId": "7443b071-de08-4cd3-c1ab-6683a1ce5317"
      },
      "source": [
        "newdf = newdf[['Text', 'Cognates', 'Label']]\n",
        "newdf"
      ],
      "execution_count": 24,
      "outputs": [
        {
          "output_type": "execute_result",
          "data": {
            "text/html": [
              "<div>\n",
              "<style scoped>\n",
              "    .dataframe tbody tr th:only-of-type {\n",
              "        vertical-align: middle;\n",
              "    }\n",
              "\n",
              "    .dataframe tbody tr th {\n",
              "        vertical-align: top;\n",
              "    }\n",
              "\n",
              "    .dataframe thead th {\n",
              "        text-align: right;\n",
              "    }\n",
              "</style>\n",
              "<table border=\"1\" class=\"dataframe\">\n",
              "  <thead>\n",
              "    <tr style=\"text-align: right;\">\n",
              "      <th></th>\n",
              "      <th>Text</th>\n",
              "      <th>Cognates</th>\n",
              "      <th>Label</th>\n",
              "    </tr>\n",
              "  </thead>\n",
              "  <tbody>\n",
              "    <tr>\n",
              "      <th>0</th>\n",
              "      <td>[Pour, moi, cétait, un, cadeau, de, rêve]</td>\n",
              "      <td>[]</td>\n",
              "      <td>A1</td>\n",
              "    </tr>\n",
              "    <tr>\n",
              "      <th>1</th>\n",
              "      <td>[A, Barcelone, mes, parents, ont, réservé, un, appartement, près, de, la, plage]</td>\n",
              "      <td>[]</td>\n",
              "      <td>A1</td>\n",
              "    </tr>\n",
              "    <tr>\n",
              "      <th>2</th>\n",
              "      <td>[À, quelle, heure, on, part]</td>\n",
              "      <td>[heure, part]</td>\n",
              "      <td>A1</td>\n",
              "    </tr>\n",
              "    <tr>\n",
              "      <th>3</th>\n",
              "      <td>[Ainsi, Pierre, a, le, privilège, dadmirer, chaque, jour, lun, des, monuments, les, plus, visités, au, monde]</td>\n",
              "      <td>[plus]</td>\n",
              "      <td>A1</td>\n",
              "    </tr>\n",
              "    <tr>\n",
              "      <th>4</th>\n",
              "      <td>[Allumez, votre, téléphone, mobile]</td>\n",
              "      <td>[téléphone, mobile]</td>\n",
              "      <td>A1</td>\n",
              "    </tr>\n",
              "    <tr>\n",
              "      <th>...</th>\n",
              "      <td>...</td>\n",
              "      <td>...</td>\n",
              "      <td>...</td>\n",
              "    </tr>\n",
              "    <tr>\n",
              "      <th>1219</th>\n",
              "      <td>[Les, enfants, chantèrent, les, chansons, qu’, ils, eurent, apprises, de, leur, professeur]</td>\n",
              "      <td>[]</td>\n",
              "      <td>C2</td>\n",
              "    </tr>\n",
              "    <tr>\n",
              "      <th>1220</th>\n",
              "      <td>[Je, lus, un, roman, que, je, me, fus, procuré, à, la, bibliothèque, centrale]</td>\n",
              "      <td>[]</td>\n",
              "      <td>C2</td>\n",
              "    </tr>\n",
              "    <tr>\n",
              "      <th>1221</th>\n",
              "      <td>[Vous, attendîtes, la, surprise, que, vos, parents, vous, eurent, promise]</td>\n",
              "      <td>[surprise]</td>\n",
              "      <td>C2</td>\n",
              "    </tr>\n",
              "    <tr>\n",
              "      <th>1222</th>\n",
              "      <td>[Tu, portas, cette, robe, de, soie, bleue, que, j’, eus, cousue]</td>\n",
              "      <td>[]</td>\n",
              "      <td>C2</td>\n",
              "    </tr>\n",
              "    <tr>\n",
              "      <th>1223</th>\n",
              "      <td>[Je, sortis, quand, j’, eus, pris, mes, clés]</td>\n",
              "      <td>[]</td>\n",
              "      <td>C2</td>\n",
              "    </tr>\n",
              "  </tbody>\n",
              "</table>\n",
              "<p>1224 rows × 3 columns</p>\n",
              "</div>"
            ],
            "text/plain": [
              "                                                                                                               Text  ... Label\n",
              "0                                                                         [Pour, moi, cétait, un, cadeau, de, rêve]  ...    A1\n",
              "1                                  [A, Barcelone, mes, parents, ont, réservé, un, appartement, près, de, la, plage]  ...    A1\n",
              "2                                                                                      [À, quelle, heure, on, part]  ...    A1\n",
              "3     [Ainsi, Pierre, a, le, privilège, dadmirer, chaque, jour, lun, des, monuments, les, plus, visités, au, monde]  ...    A1\n",
              "4                                                                               [Allumez, votre, téléphone, mobile]  ...    A1\n",
              "...                                                                                                             ...  ...   ...\n",
              "1219                    [Les, enfants, chantèrent, les, chansons, qu’, ils, eurent, apprises, de, leur, professeur]  ...    C2\n",
              "1220                                 [Je, lus, un, roman, que, je, me, fus, procuré, à, la, bibliothèque, centrale]  ...    C2\n",
              "1221                                     [Vous, attendîtes, la, surprise, que, vos, parents, vous, eurent, promise]  ...    C2\n",
              "1222                                               [Tu, portas, cette, robe, de, soie, bleue, que, j’, eus, cousue]  ...    C2\n",
              "1223                                                                  [Je, sortis, quand, j’, eus, pris, mes, clés]  ...    C2\n",
              "\n",
              "[1224 rows x 3 columns]"
            ]
          },
          "metadata": {
            "tags": []
          },
          "execution_count": 24
        }
      ]
    },
    {
      "cell_type": "code",
      "metadata": {
        "colab": {
          "base_uri": "https://localhost:8080/",
          "height": 392
        },
        "id": "O6RrShtmx6mx",
        "outputId": "b2aa7756-6c82-4588-ab74-a9b99f8c1fc1"
      },
      "source": [
        "df=pd.DataFrame()\n",
        "df['Text'] = Sentences[\"Text\"] + ' '+ newdf['Text'].astype(str) + ' ' + newdf['Cognates'].astype(str)\n",
        "df['label'] = newdf['Label']\n",
        "df"
      ],
      "execution_count": 28,
      "outputs": [
        {
          "output_type": "execute_result",
          "data": {
            "text/html": [
              "<div>\n",
              "<style scoped>\n",
              "    .dataframe tbody tr th:only-of-type {\n",
              "        vertical-align: middle;\n",
              "    }\n",
              "\n",
              "    .dataframe tbody tr th {\n",
              "        vertical-align: top;\n",
              "    }\n",
              "\n",
              "    .dataframe thead th {\n",
              "        text-align: right;\n",
              "    }\n",
              "</style>\n",
              "<table border=\"1\" class=\"dataframe\">\n",
              "  <thead>\n",
              "    <tr style=\"text-align: right;\">\n",
              "      <th></th>\n",
              "      <th>Text</th>\n",
              "      <th>label</th>\n",
              "    </tr>\n",
              "  </thead>\n",
              "  <tbody>\n",
              "    <tr>\n",
              "      <th>0</th>\n",
              "      <td>Pour moi cétait un cadeau de rêve ['Pour', 'moi', 'cétait', 'un', 'cadeau', 'de', 'rêve'] []</td>\n",
              "      <td>A1</td>\n",
              "    </tr>\n",
              "    <tr>\n",
              "      <th>1</th>\n",
              "      <td>A Barcelone mes parents ont réservé un appartement près de la plage ['A', 'Barcelone', 'mes', 'parents', 'ont', 'réservé', 'un', 'appartement', 'près', 'de', 'la', 'plage'] []</td>\n",
              "      <td>A1</td>\n",
              "    </tr>\n",
              "    <tr>\n",
              "      <th>2</th>\n",
              "      <td>À quelle heure on part ['À', 'quelle', 'heure', 'on', 'part'] ['heure' 'part']</td>\n",
              "      <td>A1</td>\n",
              "    </tr>\n",
              "    <tr>\n",
              "      <th>3</th>\n",
              "      <td>Ainsi Pierre a le privilège dadmirer chaque jour lun des monuments les plus visités au monde ['Ainsi', 'Pierre', 'a', 'le', 'privilège', 'dadmirer', 'chaque', 'jour', 'lun', 'des', 'monuments', 'les', 'plus', 'visités', 'au', 'monde'] ['plus']</td>\n",
              "      <td>A1</td>\n",
              "    </tr>\n",
              "    <tr>\n",
              "      <th>4</th>\n",
              "      <td>Allumez votre téléphone mobile ['Allumez', 'votre', 'téléphone', 'mobile'] ['téléphone' 'mobile']</td>\n",
              "      <td>A1</td>\n",
              "    </tr>\n",
              "    <tr>\n",
              "      <th>...</th>\n",
              "      <td>...</td>\n",
              "      <td>...</td>\n",
              "    </tr>\n",
              "    <tr>\n",
              "      <th>1219</th>\n",
              "      <td>Les enfants chantèrent les chansons qu’ils eurent apprises de leur professeur ['Les', 'enfants', 'chantèrent', 'les', 'chansons', 'qu’', 'ils', 'eurent', 'apprises', 'de', 'leur', 'professeur'] []</td>\n",
              "      <td>C2</td>\n",
              "    </tr>\n",
              "    <tr>\n",
              "      <th>1220</th>\n",
              "      <td>Je lus un roman que je me fus procuré à la bibliothèque centrale ['Je', 'lus', 'un', 'roman', 'que', 'je', 'me', 'fus', 'procuré', 'à', 'la', 'bibliothèque', 'centrale'] []</td>\n",
              "      <td>C2</td>\n",
              "    </tr>\n",
              "    <tr>\n",
              "      <th>1221</th>\n",
              "      <td>Vous attendîtes la surprise que vos parents vous eurent promise ['Vous', 'attendîtes', 'la', 'surprise', 'que', 'vos', 'parents', 'vous', 'eurent', 'promise'] ['surprise']</td>\n",
              "      <td>C2</td>\n",
              "    </tr>\n",
              "    <tr>\n",
              "      <th>1222</th>\n",
              "      <td>Tu portas cette robe de soie bleue que j’eus cousue ['Tu', 'portas', 'cette', 'robe', 'de', 'soie', 'bleue', 'que', 'j’', 'eus', 'cousue'] []</td>\n",
              "      <td>C2</td>\n",
              "    </tr>\n",
              "    <tr>\n",
              "      <th>1223</th>\n",
              "      <td>Je sortis quand j’eus pris mes clés ['Je', 'sortis', 'quand', 'j’', 'eus', 'pris', 'mes', 'clés'] []</td>\n",
              "      <td>C2</td>\n",
              "    </tr>\n",
              "  </tbody>\n",
              "</table>\n",
              "<p>1224 rows × 2 columns</p>\n",
              "</div>"
            ],
            "text/plain": [
              "                                                                                                                                                                                                                                                     Text label\n",
              "0                                                                                                                                                            Pour moi cétait un cadeau de rêve ['Pour', 'moi', 'cétait', 'un', 'cadeau', 'de', 'rêve'] []    A1\n",
              "1                                                                         A Barcelone mes parents ont réservé un appartement près de la plage ['A', 'Barcelone', 'mes', 'parents', 'ont', 'réservé', 'un', 'appartement', 'près', 'de', 'la', 'plage'] []    A1\n",
              "2                                                                                                                                                                          À quelle heure on part ['À', 'quelle', 'heure', 'on', 'part'] ['heure' 'part']    A1\n",
              "3     Ainsi Pierre a le privilège dadmirer chaque jour lun des monuments les plus visités au monde ['Ainsi', 'Pierre', 'a', 'le', 'privilège', 'dadmirer', 'chaque', 'jour', 'lun', 'des', 'monuments', 'les', 'plus', 'visités', 'au', 'monde'] ['plus']    A1\n",
              "4                                                                                                                                                       Allumez votre téléphone mobile ['Allumez', 'votre', 'téléphone', 'mobile'] ['téléphone' 'mobile']    A1\n",
              "...                                                                                                                                                                                                                                                   ...   ...\n",
              "1219                                                 Les enfants chantèrent les chansons qu’ils eurent apprises de leur professeur ['Les', 'enfants', 'chantèrent', 'les', 'chansons', 'qu’', 'ils', 'eurent', 'apprises', 'de', 'leur', 'professeur'] []    C2\n",
              "1220                                                                         Je lus un roman que je me fus procuré à la bibliothèque centrale ['Je', 'lus', 'un', 'roman', 'que', 'je', 'me', 'fus', 'procuré', 'à', 'la', 'bibliothèque', 'centrale'] []    C2\n",
              "1221                                                                          Vous attendîtes la surprise que vos parents vous eurent promise ['Vous', 'attendîtes', 'la', 'surprise', 'que', 'vos', 'parents', 'vous', 'eurent', 'promise'] ['surprise']    C2\n",
              "1222                                                                                                        Tu portas cette robe de soie bleue que j’eus cousue ['Tu', 'portas', 'cette', 'robe', 'de', 'soie', 'bleue', 'que', 'j’', 'eus', 'cousue'] []    C2\n",
              "1223                                                                                                                                                 Je sortis quand j’eus pris mes clés ['Je', 'sortis', 'quand', 'j’', 'eus', 'pris', 'mes', 'clés'] []    C2\n",
              "\n",
              "[1224 rows x 2 columns]"
            ]
          },
          "metadata": {
            "tags": []
          },
          "execution_count": 28
        }
      ]
    },
    {
      "cell_type": "code",
      "metadata": {
        "colab": {
          "base_uri": "https://localhost:8080/",
          "height": 456
        },
        "id": "KtsCU1K5GfUr",
        "outputId": "35471697-8936-412f-a5f0-f68ff0adc455"
      },
      "source": [
        "# Iformation about our dataset\n",
        "display(df.shape, df.info(), df.describe)"
      ],
      "execution_count": 29,
      "outputs": [
        {
          "output_type": "stream",
          "text": [
            "<class 'pandas.core.frame.DataFrame'>\n",
            "RangeIndex: 1224 entries, 0 to 1223\n",
            "Data columns (total 2 columns):\n",
            " #   Column  Non-Null Count  Dtype \n",
            "---  ------  --------------  ----- \n",
            " 0   Text    1224 non-null   object\n",
            " 1   label   1224 non-null   object\n",
            "dtypes: object(2)\n",
            "memory usage: 19.2+ KB\n"
          ],
          "name": "stdout"
        },
        {
          "output_type": "display_data",
          "data": {
            "text/plain": [
              "(1224, 2)"
            ]
          },
          "metadata": {
            "tags": []
          }
        },
        {
          "output_type": "display_data",
          "data": {
            "text/plain": [
              "None"
            ]
          },
          "metadata": {
            "tags": []
          }
        },
        {
          "output_type": "display_data",
          "data": {
            "text/plain": [
              "<bound method NDFrame.describe of                                                                                                                                                                                                                                                      Text label\n",
              "0                                                                                                                                                            Pour moi cétait un cadeau de rêve ['Pour', 'moi', 'cétait', 'un', 'cadeau', 'de', 'rêve'] []    A1\n",
              "1                                                                         A Barcelone mes parents ont réservé un appartement près de la plage ['A', 'Barcelone', 'mes', 'parents', 'ont', 'réservé', 'un', 'appartement', 'près', 'de', 'la', 'plage'] []    A1\n",
              "2                                                                                                                                                                          À quelle heure on part ['À', 'quelle', 'heure', 'on', 'part'] ['heure' 'part']    A1\n",
              "3     Ainsi Pierre a le privilège dadmirer chaque jour lun des monuments les plus visités au monde ['Ainsi', 'Pierre', 'a', 'le', 'privilège', 'dadmirer', 'chaque', 'jour', 'lun', 'des', 'monuments', 'les', 'plus', 'visités', 'au', 'monde'] ['plus']    A1\n",
              "4                                                                                                                                                       Allumez votre téléphone mobile ['Allumez', 'votre', 'téléphone', 'mobile'] ['téléphone' 'mobile']    A1\n",
              "...                                                                                                                                                                                                                                                   ...   ...\n",
              "1219                                                 Les enfants chantèrent les chansons qu’ils eurent apprises de leur professeur ['Les', 'enfants', 'chantèrent', 'les', 'chansons', 'qu’', 'ils', 'eurent', 'apprises', 'de', 'leur', 'professeur'] []    C2\n",
              "1220                                                                         Je lus un roman que je me fus procuré à la bibliothèque centrale ['Je', 'lus', 'un', 'roman', 'que', 'je', 'me', 'fus', 'procuré', 'à', 'la', 'bibliothèque', 'centrale'] []    C2\n",
              "1221                                                                          Vous attendîtes la surprise que vos parents vous eurent promise ['Vous', 'attendîtes', 'la', 'surprise', 'que', 'vos', 'parents', 'vous', 'eurent', 'promise'] ['surprise']    C2\n",
              "1222                                                                                                        Tu portas cette robe de soie bleue que j’eus cousue ['Tu', 'portas', 'cette', 'robe', 'de', 'soie', 'bleue', 'que', 'j’', 'eus', 'cousue'] []    C2\n",
              "1223                                                                                                                                                 Je sortis quand j’eus pris mes clés ['Je', 'sortis', 'quand', 'j’', 'eus', 'pris', 'mes', 'clés'] []    C2\n",
              "\n",
              "[1224 rows x 2 columns]>"
            ]
          },
          "metadata": {
            "tags": []
          }
        }
      ]
    },
    {
      "cell_type": "code",
      "metadata": {
        "id": "L-a5nkA2yfQP"
      },
      "source": [
        "df.to_csv('Data_Tokenizer_cognates.csv', encoding='utf-8-sig', index=False)"
      ],
      "execution_count": 30,
      "outputs": []
    }
  ]
}